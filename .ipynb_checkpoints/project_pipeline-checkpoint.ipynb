{
 "cells": [
  {
   "cell_type": "code",
   "execution_count": null,
   "id": "7664943a-2a31-424b-aef3-36b79d5362a9",
   "metadata": {
    "ExecuteTime": {
     "end_time": "2024-11-11T11:42:12.941479Z",
     "start_time": "2024-11-11T11:42:03.361066Z"
    },
    "tags": []
   },
   "outputs": [
    {
     "name": "stdout",
     "output_type": "stream",
     "text": [
      "Requirement already satisfied: matplotlib in c:\\users\\fabrice\\appdata\\local\\programs\\python\\python312\\lib\\site-packages (from -r requirements.txt (line 1)) (3.8.4)\n",
      "Requirement already satisfied: mne in c:\\users\\fabrice\\appdata\\local\\programs\\python\\python312\\lib\\site-packages (from -r requirements.txt (line 2)) (1.7.0)\n",
      "Requirement already satisfied: numpy in c:\\users\\fabrice\\appdata\\local\\programs\\python\\python312\\lib\\site-packages (from -r requirements.txt (line 3)) (1.26.4)\n",
      "Requirement already satisfied: torch in c:\\users\\fabrice\\appdata\\local\\programs\\python\\python312\\lib\\site-packages (from -r requirements.txt (line 4)) (2.5.1)\n",
      "Collecting torchvision (from -r requirements.txt (line 5))\n",
      "  Downloading torchvision-0.20.1-cp312-cp312-win_amd64.whl.metadata (6.2 kB)\n",
      "Requirement already satisfied: torch_geometric in c:\\users\\fabrice\\appdata\\local\\programs\\python\\python312\\lib\\site-packages (from -r requirements.txt (line 6)) (2.6.1)\n",
      "Requirement already satisfied: pandas in c:\\users\\fabrice\\appdata\\local\\programs\\python\\python312\\lib\\site-packages (from -r requirements.txt (line 7)) (2.2.2)\n",
      "Requirement already satisfied: PyYAML in c:\\users\\fabrice\\appdata\\local\\programs\\python\\python312\\lib\\site-packages (from -r requirements.txt (line 8)) (6.0.2)\n",
      "Requirement already satisfied: jupyter in c:\\users\\fabrice\\appdata\\local\\programs\\python\\python312\\lib\\site-packages (from -r requirements.txt (line 9)) (1.1.1)\n",
      "Requirement already satisfied: scikit-learn in c:\\users\\fabrice\\appdata\\local\\programs\\python\\python312\\lib\\site-packages (from -r requirements.txt (line 10)) (1.4.2)\n",
      "Requirement already satisfied: contourpy>=1.0.1 in c:\\users\\fabrice\\appdata\\local\\programs\\python\\python312\\lib\\site-packages (from matplotlib->-r requirements.txt (line 1)) (1.2.1)\n",
      "Requirement already satisfied: cycler>=0.10 in c:\\users\\fabrice\\appdata\\local\\programs\\python\\python312\\lib\\site-packages (from matplotlib->-r requirements.txt (line 1)) (0.12.1)\n",
      "Requirement already satisfied: fonttools>=4.22.0 in c:\\users\\fabrice\\appdata\\local\\programs\\python\\python312\\lib\\site-packages (from matplotlib->-r requirements.txt (line 1)) (4.51.0)\n",
      "Requirement already satisfied: kiwisolver>=1.3.1 in c:\\users\\fabrice\\appdata\\local\\programs\\python\\python312\\lib\\site-packages (from matplotlib->-r requirements.txt (line 1)) (1.4.5)\n",
      "Requirement already satisfied: packaging>=20.0 in c:\\users\\fabrice\\appdata\\local\\programs\\python\\python312\\lib\\site-packages (from matplotlib->-r requirements.txt (line 1)) (24.0)\n",
      "Requirement already satisfied: pillow>=8 in c:\\users\\fabrice\\appdata\\local\\programs\\python\\python312\\lib\\site-packages (from matplotlib->-r requirements.txt (line 1)) (10.3.0)\n",
      "Requirement already satisfied: pyparsing>=2.3.1 in c:\\users\\fabrice\\appdata\\local\\programs\\python\\python312\\lib\\site-packages (from matplotlib->-r requirements.txt (line 1)) (3.1.2)\n",
      "Requirement already satisfied: python-dateutil>=2.7 in c:\\users\\fabrice\\appdata\\local\\programs\\python\\python312\\lib\\site-packages (from matplotlib->-r requirements.txt (line 1)) (2.9.0.post0)\n",
      "Requirement already satisfied: decorator in c:\\users\\fabrice\\appdata\\local\\programs\\python\\python312\\lib\\site-packages (from mne->-r requirements.txt (line 2)) (5.1.1)\n",
      "Requirement already satisfied: jinja2 in c:\\users\\fabrice\\appdata\\local\\programs\\python\\python312\\lib\\site-packages (from mne->-r requirements.txt (line 2)) (3.1.3)\n",
      "Requirement already satisfied: lazy-loader>=0.3 in c:\\users\\fabrice\\appdata\\local\\programs\\python\\python312\\lib\\site-packages (from mne->-r requirements.txt (line 2)) (0.4)\n",
      "Requirement already satisfied: pooch>=1.5 in c:\\users\\fabrice\\appdata\\local\\programs\\python\\python312\\lib\\site-packages (from mne->-r requirements.txt (line 2)) (1.8.1)\n",
      "Requirement already satisfied: scipy>=1.7.1 in c:\\users\\fabrice\\appdata\\local\\programs\\python\\python312\\lib\\site-packages (from mne->-r requirements.txt (line 2)) (1.13.0)\n",
      "Requirement already satisfied: tqdm in c:\\users\\fabrice\\appdata\\local\\programs\\python\\python312\\lib\\site-packages (from mne->-r requirements.txt (line 2)) (4.66.2)\n",
      "Requirement already satisfied: filelock in c:\\users\\fabrice\\appdata\\local\\programs\\python\\python312\\lib\\site-packages (from torch->-r requirements.txt (line 4)) (3.13.4)\n",
      "Requirement already satisfied: typing-extensions>=4.8.0 in c:\\users\\fabrice\\appdata\\local\\programs\\python\\python312\\lib\\site-packages (from torch->-r requirements.txt (line 4)) (4.11.0)\n",
      "Requirement already satisfied: networkx in c:\\users\\fabrice\\appdata\\local\\programs\\python\\python312\\lib\\site-packages (from torch->-r requirements.txt (line 4)) (3.3)\n",
      "Requirement already satisfied: fsspec in c:\\users\\fabrice\\appdata\\local\\programs\\python\\python312\\lib\\site-packages (from torch->-r requirements.txt (line 4)) (2024.3.1)\n",
      "Requirement already satisfied: setuptools in c:\\users\\fabrice\\appdata\\local\\programs\\python\\python312\\lib\\site-packages (from torch->-r requirements.txt (line 4)) (69.5.1)\n",
      "Requirement already satisfied: sympy==1.13.1 in c:\\users\\fabrice\\appdata\\local\\programs\\python\\python312\\lib\\site-packages (from torch->-r requirements.txt (line 4)) (1.13.1)\n",
      "Requirement already satisfied: mpmath<1.4,>=1.1.0 in c:\\users\\fabrice\\appdata\\local\\programs\\python\\python312\\lib\\site-packages (from sympy==1.13.1->torch->-r requirements.txt (line 4)) (1.3.0)\n",
      "Requirement already satisfied: aiohttp in c:\\users\\fabrice\\appdata\\local\\programs\\python\\python312\\lib\\site-packages (from torch_geometric->-r requirements.txt (line 6)) (3.10.10)\n",
      "Requirement already satisfied: psutil>=5.8.0 in c:\\users\\fabrice\\appdata\\local\\programs\\python\\python312\\lib\\site-packages (from torch_geometric->-r requirements.txt (line 6)) (5.9.8)\n",
      "Requirement already satisfied: requests in c:\\users\\fabrice\\appdata\\local\\programs\\python\\python312\\lib\\site-packages (from torch_geometric->-r requirements.txt (line 6)) (2.31.0)\n",
      "Requirement already satisfied: pytz>=2020.1 in c:\\users\\fabrice\\appdata\\local\\programs\\python\\python312\\lib\\site-packages (from pandas->-r requirements.txt (line 7)) (2024.1)\n",
      "Requirement already satisfied: tzdata>=2022.7 in c:\\users\\fabrice\\appdata\\local\\programs\\python\\python312\\lib\\site-packages (from pandas->-r requirements.txt (line 7)) (2024.1)\n",
      "Requirement already satisfied: notebook in c:\\users\\fabrice\\appdata\\local\\programs\\python\\python312\\lib\\site-packages (from jupyter->-r requirements.txt (line 9)) (7.2.2)\n",
      "Requirement already satisfied: jupyter-console in c:\\users\\fabrice\\appdata\\local\\programs\\python\\python312\\lib\\site-packages (from jupyter->-r requirements.txt (line 9)) (6.6.3)\n",
      "Requirement already satisfied: nbconvert in c:\\users\\fabrice\\appdata\\local\\programs\\python\\python312\\lib\\site-packages (from jupyter->-r requirements.txt (line 9)) (7.16.4)\n",
      "Requirement already satisfied: ipykernel in c:\\users\\fabrice\\appdata\\local\\programs\\python\\python312\\lib\\site-packages (from jupyter->-r requirements.txt (line 9)) (6.29.4)\n",
      "Requirement already satisfied: ipywidgets in c:\\users\\fabrice\\appdata\\local\\programs\\python\\python312\\lib\\site-packages (from jupyter->-r requirements.txt (line 9)) (8.1.5)\n",
      "Requirement already satisfied: jupyterlab in c:\\users\\fabrice\\appdata\\local\\programs\\python\\python312\\lib\\site-packages (from jupyter->-r requirements.txt (line 9)) (4.2.5)\n",
      "Requirement already satisfied: joblib>=1.2.0 in c:\\users\\fabrice\\appdata\\local\\programs\\python\\python312\\lib\\site-packages (from scikit-learn->-r requirements.txt (line 10)) (1.4.0)\n",
      "Requirement already satisfied: threadpoolctl>=2.0.0 in c:\\users\\fabrice\\appdata\\local\\programs\\python\\python312\\lib\\site-packages (from scikit-learn->-r requirements.txt (line 10)) (3.4.0)\n",
      "Requirement already satisfied: platformdirs>=2.5.0 in c:\\users\\fabrice\\appdata\\local\\programs\\python\\python312\\lib\\site-packages (from pooch>=1.5->mne->-r requirements.txt (line 2)) (4.2.0)\n",
      "Requirement already satisfied: six>=1.5 in c:\\users\\fabrice\\appdata\\local\\programs\\python\\python312\\lib\\site-packages (from python-dateutil>=2.7->matplotlib->-r requirements.txt (line 1)) (1.16.0)\n",
      "Requirement already satisfied: charset-normalizer<4,>=2 in c:\\users\\fabrice\\appdata\\local\\programs\\python\\python312\\lib\\site-packages (from requests->torch_geometric->-r requirements.txt (line 6)) (3.3.2)\n",
      "Requirement already satisfied: idna<4,>=2.5 in c:\\users\\fabrice\\appdata\\local\\programs\\python\\python312\\lib\\site-packages (from requests->torch_geometric->-r requirements.txt (line 6)) (3.7)\n",
      "Requirement already satisfied: urllib3<3,>=1.21.1 in c:\\users\\fabrice\\appdata\\local\\programs\\python\\python312\\lib\\site-packages (from requests->torch_geometric->-r requirements.txt (line 6)) (2.2.1)\n",
      "Requirement already satisfied: certifi>=2017.4.17 in c:\\users\\fabrice\\appdata\\local\\programs\\python\\python312\\lib\\site-packages (from requests->torch_geometric->-r requirements.txt (line 6)) (2024.2.2)\n",
      "Requirement already satisfied: aiohappyeyeballs>=2.3.0 in c:\\users\\fabrice\\appdata\\local\\programs\\python\\python312\\lib\\site-packages (from aiohttp->torch_geometric->-r requirements.txt (line 6)) (2.4.3)\n",
      "Requirement already satisfied: aiosignal>=1.1.2 in c:\\users\\fabrice\\appdata\\local\\programs\\python\\python312\\lib\\site-packages (from aiohttp->torch_geometric->-r requirements.txt (line 6)) (1.3.1)\n",
      "Requirement already satisfied: attrs>=17.3.0 in c:\\users\\fabrice\\appdata\\local\\programs\\python\\python312\\lib\\site-packages (from aiohttp->torch_geometric->-r requirements.txt (line 6)) (24.2.0)\n",
      "Requirement already satisfied: frozenlist>=1.1.1 in c:\\users\\fabrice\\appdata\\local\\programs\\python\\python312\\lib\\site-packages (from aiohttp->torch_geometric->-r requirements.txt (line 6)) (1.5.0)\n",
      "Requirement already satisfied: multidict<7.0,>=4.5 in c:\\users\\fabrice\\appdata\\local\\programs\\python\\python312\\lib\\site-packages (from aiohttp->torch_geometric->-r requirements.txt (line 6)) (6.1.0)\n",
      "Requirement already satisfied: yarl<2.0,>=1.12.0 in c:\\users\\fabrice\\appdata\\local\\programs\\python\\python312\\lib\\site-packages (from aiohttp->torch_geometric->-r requirements.txt (line 6)) (1.17.1)\n",
      "Requirement already satisfied: comm>=0.1.1 in c:\\users\\fabrice\\appdata\\local\\programs\\python\\python312\\lib\\site-packages (from ipykernel->jupyter->-r requirements.txt (line 9)) (0.2.2)\n",
      "Requirement already satisfied: debugpy>=1.6.5 in c:\\users\\fabrice\\appdata\\local\\programs\\python\\python312\\lib\\site-packages (from ipykernel->jupyter->-r requirements.txt (line 9)) (1.8.1)\n",
      "Requirement already satisfied: ipython>=7.23.1 in c:\\users\\fabrice\\appdata\\local\\programs\\python\\python312\\lib\\site-packages (from ipykernel->jupyter->-r requirements.txt (line 9)) (8.23.0)\n",
      "Requirement already satisfied: jupyter-client>=6.1.12 in c:\\users\\fabrice\\appdata\\local\\programs\\python\\python312\\lib\\site-packages (from ipykernel->jupyter->-r requirements.txt (line 9)) (8.6.1)\n",
      "Requirement already satisfied: jupyter-core!=5.0.*,>=4.12 in c:\\users\\fabrice\\appdata\\local\\programs\\python\\python312\\lib\\site-packages (from ipykernel->jupyter->-r requirements.txt (line 9)) (5.7.2)\n",
      "Requirement already satisfied: matplotlib-inline>=0.1 in c:\\users\\fabrice\\appdata\\local\\programs\\python\\python312\\lib\\site-packages (from ipykernel->jupyter->-r requirements.txt (line 9)) (0.1.6)\n",
      "Requirement already satisfied: nest-asyncio in c:\\users\\fabrice\\appdata\\local\\programs\\python\\python312\\lib\\site-packages (from ipykernel->jupyter->-r requirements.txt (line 9)) (1.6.0)\n",
      "Requirement already satisfied: pyzmq>=24 in c:\\users\\fabrice\\appdata\\local\\programs\\python\\python312\\lib\\site-packages (from ipykernel->jupyter->-r requirements.txt (line 9)) (25.1.2)\n",
      "Requirement already satisfied: tornado>=6.1 in c:\\users\\fabrice\\appdata\\local\\programs\\python\\python312\\lib\\site-packages (from ipykernel->jupyter->-r requirements.txt (line 9)) (6.4)\n",
      "Requirement already satisfied: traitlets>=5.4.0 in c:\\users\\fabrice\\appdata\\local\\programs\\python\\python312\\lib\\site-packages (from ipykernel->jupyter->-r requirements.txt (line 9)) (5.14.2)\n",
      "Requirement already satisfied: widgetsnbextension~=4.0.12 in c:\\users\\fabrice\\appdata\\local\\programs\\python\\python312\\lib\\site-packages (from ipywidgets->jupyter->-r requirements.txt (line 9)) (4.0.13)\n",
      "Requirement already satisfied: jupyterlab-widgets~=3.0.12 in c:\\users\\fabrice\\appdata\\local\\programs\\python\\python312\\lib\\site-packages (from ipywidgets->jupyter->-r requirements.txt (line 9)) (3.0.13)\n",
      "Requirement already satisfied: MarkupSafe>=2.0 in c:\\users\\fabrice\\appdata\\local\\programs\\python\\python312\\lib\\site-packages (from jinja2->mne->-r requirements.txt (line 2)) (2.1.5)\n",
      "Requirement already satisfied: prompt-toolkit>=3.0.30 in c:\\users\\fabrice\\appdata\\local\\programs\\python\\python312\\lib\\site-packages (from jupyter-console->jupyter->-r requirements.txt (line 9)) (3.0.43)\n",
      "Requirement already satisfied: pygments in c:\\users\\fabrice\\appdata\\local\\programs\\python\\python312\\lib\\site-packages (from jupyter-console->jupyter->-r requirements.txt (line 9)) (2.17.2)\n",
      "Requirement already satisfied: async-lru>=1.0.0 in c:\\users\\fabrice\\appdata\\local\\programs\\python\\python312\\lib\\site-packages (from jupyterlab->jupyter->-r requirements.txt (line 9)) (2.0.4)\n",
      "Requirement already satisfied: httpx>=0.25.0 in c:\\users\\fabrice\\appdata\\local\\programs\\python\\python312\\lib\\site-packages (from jupyterlab->jupyter->-r requirements.txt (line 9)) (0.27.2)\n",
      "Requirement already satisfied: jupyter-lsp>=2.0.0 in c:\\users\\fabrice\\appdata\\local\\programs\\python\\python312\\lib\\site-packages (from jupyterlab->jupyter->-r requirements.txt (line 9)) (2.2.5)\n",
      "Requirement already satisfied: jupyter-server<3,>=2.4.0 in c:\\users\\fabrice\\appdata\\local\\programs\\python\\python312\\lib\\site-packages (from jupyterlab->jupyter->-r requirements.txt (line 9)) (2.14.2)\n",
      "Requirement already satisfied: jupyterlab-server<3,>=2.27.1 in c:\\users\\fabrice\\appdata\\local\\programs\\python\\python312\\lib\\site-packages (from jupyterlab->jupyter->-r requirements.txt (line 9)) (2.27.3)\n",
      "Requirement already satisfied: notebook-shim>=0.2 in c:\\users\\fabrice\\appdata\\local\\programs\\python\\python312\\lib\\site-packages (from jupyterlab->jupyter->-r requirements.txt (line 9)) (0.2.4)\n",
      "Requirement already satisfied: beautifulsoup4 in c:\\users\\fabrice\\appdata\\local\\programs\\python\\python312\\lib\\site-packages (from nbconvert->jupyter->-r requirements.txt (line 9)) (4.12.3)\n",
      "Requirement already satisfied: bleach!=5.0.0 in c:\\users\\fabrice\\appdata\\local\\programs\\python\\python312\\lib\\site-packages (from nbconvert->jupyter->-r requirements.txt (line 9)) (6.2.0)\n",
      "Requirement already satisfied: defusedxml in c:\\users\\fabrice\\appdata\\local\\programs\\python\\python312\\lib\\site-packages (from nbconvert->jupyter->-r requirements.txt (line 9)) (0.7.1)\n",
      "Requirement already satisfied: jupyterlab-pygments in c:\\users\\fabrice\\appdata\\local\\programs\\python\\python312\\lib\\site-packages (from nbconvert->jupyter->-r requirements.txt (line 9)) (0.3.0)\n",
      "Requirement already satisfied: mistune<4,>=2.0.3 in c:\\users\\fabrice\\appdata\\local\\programs\\python\\python312\\lib\\site-packages (from nbconvert->jupyter->-r requirements.txt (line 9)) (3.0.2)\n",
      "Requirement already satisfied: nbclient>=0.5.0 in c:\\users\\fabrice\\appdata\\local\\programs\\python\\python312\\lib\\site-packages (from nbconvert->jupyter->-r requirements.txt (line 9)) (0.10.0)\n",
      "Requirement already satisfied: nbformat>=5.7 in c:\\users\\fabrice\\appdata\\local\\programs\\python\\python312\\lib\\site-packages (from nbconvert->jupyter->-r requirements.txt (line 9)) (5.10.4)\n",
      "Requirement already satisfied: pandocfilters>=1.4.1 in c:\\users\\fabrice\\appdata\\local\\programs\\python\\python312\\lib\\site-packages (from nbconvert->jupyter->-r requirements.txt (line 9)) (1.5.1)\n",
      "Requirement already satisfied: tinycss2 in c:\\users\\fabrice\\appdata\\local\\programs\\python\\python312\\lib\\site-packages (from nbconvert->jupyter->-r requirements.txt (line 9)) (1.4.0)\n",
      "Requirement already satisfied: colorama in c:\\users\\fabrice\\appdata\\local\\programs\\python\\python312\\lib\\site-packages (from tqdm->mne->-r requirements.txt (line 2)) (0.4.6)\n",
      "Requirement already satisfied: webencodings in c:\\users\\fabrice\\appdata\\local\\programs\\python\\python312\\lib\\site-packages (from bleach!=5.0.0->nbconvert->jupyter->-r requirements.txt (line 9)) (0.5.1)\n",
      "Requirement already satisfied: anyio in c:\\users\\fabrice\\appdata\\local\\programs\\python\\python312\\lib\\site-packages (from httpx>=0.25.0->jupyterlab->jupyter->-r requirements.txt (line 9)) (4.6.2.post1)\n",
      "Requirement already satisfied: httpcore==1.* in c:\\users\\fabrice\\appdata\\local\\programs\\python\\python312\\lib\\site-packages (from httpx>=0.25.0->jupyterlab->jupyter->-r requirements.txt (line 9)) (1.0.6)\n",
      "Requirement already satisfied: sniffio in c:\\users\\fabrice\\appdata\\local\\programs\\python\\python312\\lib\\site-packages (from httpx>=0.25.0->jupyterlab->jupyter->-r requirements.txt (line 9)) (1.3.1)\n",
      "Requirement already satisfied: h11<0.15,>=0.13 in c:\\users\\fabrice\\appdata\\local\\programs\\python\\python312\\lib\\site-packages (from httpcore==1.*->httpx>=0.25.0->jupyterlab->jupyter->-r requirements.txt (line 9)) (0.14.0)\n",
      "Requirement already satisfied: jedi>=0.16 in c:\\users\\fabrice\\appdata\\local\\programs\\python\\python312\\lib\\site-packages (from ipython>=7.23.1->ipykernel->jupyter->-r requirements.txt (line 9)) (0.19.1)\n",
      "Requirement already satisfied: stack-data in c:\\users\\fabrice\\appdata\\local\\programs\\python\\python312\\lib\\site-packages (from ipython>=7.23.1->ipykernel->jupyter->-r requirements.txt (line 9)) (0.6.3)\n",
      "Requirement already satisfied: pywin32>=300 in c:\\users\\fabrice\\appdata\\local\\programs\\python\\python312\\lib\\site-packages (from jupyter-core!=5.0.*,>=4.12->ipykernel->jupyter->-r requirements.txt (line 9)) (306)\n",
      "Requirement already satisfied: argon2-cffi>=21.1 in c:\\users\\fabrice\\appdata\\local\\programs\\python\\python312\\lib\\site-packages (from jupyter-server<3,>=2.4.0->jupyterlab->jupyter->-r requirements.txt (line 9)) (23.1.0)\n",
      "Requirement already satisfied: jupyter-events>=0.9.0 in c:\\users\\fabrice\\appdata\\local\\programs\\python\\python312\\lib\\site-packages (from jupyter-server<3,>=2.4.0->jupyterlab->jupyter->-r requirements.txt (line 9)) (0.10.0)\n",
      "Requirement already satisfied: jupyter-server-terminals>=0.4.4 in c:\\users\\fabrice\\appdata\\local\\programs\\python\\python312\\lib\\site-packages (from jupyter-server<3,>=2.4.0->jupyterlab->jupyter->-r requirements.txt (line 9)) (0.5.3)\n",
      "Requirement already satisfied: overrides>=5.0 in c:\\users\\fabrice\\appdata\\local\\programs\\python\\python312\\lib\\site-packages (from jupyter-server<3,>=2.4.0->jupyterlab->jupyter->-r requirements.txt (line 9)) (7.7.0)\n",
      "Requirement already satisfied: prometheus-client>=0.9 in c:\\users\\fabrice\\appdata\\local\\programs\\python\\python312\\lib\\site-packages (from jupyter-server<3,>=2.4.0->jupyterlab->jupyter->-r requirements.txt (line 9)) (0.21.0)\n",
      "Requirement already satisfied: pywinpty>=2.0.1 in c:\\users\\fabrice\\appdata\\local\\programs\\python\\python312\\lib\\site-packages (from jupyter-server<3,>=2.4.0->jupyterlab->jupyter->-r requirements.txt (line 9)) (2.0.14)\n",
      "Requirement already satisfied: send2trash>=1.8.2 in c:\\users\\fabrice\\appdata\\local\\programs\\python\\python312\\lib\\site-packages (from jupyter-server<3,>=2.4.0->jupyterlab->jupyter->-r requirements.txt (line 9)) (1.8.3)\n",
      "Requirement already satisfied: terminado>=0.8.3 in c:\\users\\fabrice\\appdata\\local\\programs\\python\\python312\\lib\\site-packages (from jupyter-server<3,>=2.4.0->jupyterlab->jupyter->-r requirements.txt (line 9)) (0.18.1)\n",
      "Requirement already satisfied: websocket-client>=1.7 in c:\\users\\fabrice\\appdata\\local\\programs\\python\\python312\\lib\\site-packages (from jupyter-server<3,>=2.4.0->jupyterlab->jupyter->-r requirements.txt (line 9)) (1.8.0)\n",
      "Requirement already satisfied: babel>=2.10 in c:\\users\\fabrice\\appdata\\local\\programs\\python\\python312\\lib\\site-packages (from jupyterlab-server<3,>=2.27.1->jupyterlab->jupyter->-r requirements.txt (line 9)) (2.16.0)\n",
      "Requirement already satisfied: json5>=0.9.0 in c:\\users\\fabrice\\appdata\\local\\programs\\python\\python312\\lib\\site-packages (from jupyterlab-server<3,>=2.27.1->jupyterlab->jupyter->-r requirements.txt (line 9)) (0.9.27)\n",
      "Requirement already satisfied: jsonschema>=4.18.0 in c:\\users\\fabrice\\appdata\\local\\programs\\python\\python312\\lib\\site-packages (from jupyterlab-server<3,>=2.27.1->jupyterlab->jupyter->-r requirements.txt (line 9)) (4.23.0)\n",
      "Requirement already satisfied: fastjsonschema>=2.15 in c:\\users\\fabrice\\appdata\\local\\programs\\python\\python312\\lib\\site-packages (from nbformat>=5.7->nbconvert->jupyter->-r requirements.txt (line 9)) (2.20.0)\n",
      "Requirement already satisfied: wcwidth in c:\\users\\fabrice\\appdata\\local\\programs\\python\\python312\\lib\\site-packages (from prompt-toolkit>=3.0.30->jupyter-console->jupyter->-r requirements.txt (line 9)) (0.2.13)\n",
      "Requirement already satisfied: propcache>=0.2.0 in c:\\users\\fabrice\\appdata\\local\\programs\\python\\python312\\lib\\site-packages (from yarl<2.0,>=1.12.0->aiohttp->torch_geometric->-r requirements.txt (line 6)) (0.2.0)\n",
      "Requirement already satisfied: soupsieve>1.2 in c:\\users\\fabrice\\appdata\\local\\programs\\python\\python312\\lib\\site-packages (from beautifulsoup4->nbconvert->jupyter->-r requirements.txt (line 9)) (2.6)\n",
      "Requirement already satisfied: argon2-cffi-bindings in c:\\users\\fabrice\\appdata\\local\\programs\\python\\python312\\lib\\site-packages (from argon2-cffi>=21.1->jupyter-server<3,>=2.4.0->jupyterlab->jupyter->-r requirements.txt (line 9)) (21.2.0)\n",
      "Requirement already satisfied: parso<0.9.0,>=0.8.3 in c:\\users\\fabrice\\appdata\\local\\programs\\python\\python312\\lib\\site-packages (from jedi>=0.16->ipython>=7.23.1->ipykernel->jupyter->-r requirements.txt (line 9)) (0.8.4)\n",
      "Requirement already satisfied: jsonschema-specifications>=2023.03.6 in c:\\users\\fabrice\\appdata\\local\\programs\\python\\python312\\lib\\site-packages (from jsonschema>=4.18.0->jupyterlab-server<3,>=2.27.1->jupyterlab->jupyter->-r requirements.txt (line 9)) (2024.10.1)\n",
      "Requirement already satisfied: referencing>=0.28.4 in c:\\users\\fabrice\\appdata\\local\\programs\\python\\python312\\lib\\site-packages (from jsonschema>=4.18.0->jupyterlab-server<3,>=2.27.1->jupyterlab->jupyter->-r requirements.txt (line 9)) (0.35.1)\n",
      "Requirement already satisfied: rpds-py>=0.7.1 in c:\\users\\fabrice\\appdata\\local\\programs\\python\\python312\\lib\\site-packages (from jsonschema>=4.18.0->jupyterlab-server<3,>=2.27.1->jupyterlab->jupyter->-r requirements.txt (line 9)) (0.21.0)\n",
      "Requirement already satisfied: python-json-logger>=2.0.4 in c:\\users\\fabrice\\appdata\\local\\programs\\python\\python312\\lib\\site-packages (from jupyter-events>=0.9.0->jupyter-server<3,>=2.4.0->jupyterlab->jupyter->-r requirements.txt (line 9)) (2.0.7)\n",
      "Requirement already satisfied: rfc3339-validator in c:\\users\\fabrice\\appdata\\local\\programs\\python\\python312\\lib\\site-packages (from jupyter-events>=0.9.0->jupyter-server<3,>=2.4.0->jupyterlab->jupyter->-r requirements.txt (line 9)) (0.1.4)\n",
      "Requirement already satisfied: rfc3986-validator>=0.1.1 in c:\\users\\fabrice\\appdata\\local\\programs\\python\\python312\\lib\\site-packages (from jupyter-events>=0.9.0->jupyter-server<3,>=2.4.0->jupyterlab->jupyter->-r requirements.txt (line 9)) (0.1.1)\n",
      "Requirement already satisfied: executing>=1.2.0 in c:\\users\\fabrice\\appdata\\local\\programs\\python\\python312\\lib\\site-packages (from stack-data->ipython>=7.23.1->ipykernel->jupyter->-r requirements.txt (line 9)) (2.0.1)\n",
      "Requirement already satisfied: asttokens>=2.1.0 in c:\\users\\fabrice\\appdata\\local\\programs\\python\\python312\\lib\\site-packages (from stack-data->ipython>=7.23.1->ipykernel->jupyter->-r requirements.txt (line 9)) (2.4.1)\n",
      "Requirement already satisfied: pure-eval in c:\\users\\fabrice\\appdata\\local\\programs\\python\\python312\\lib\\site-packages (from stack-data->ipython>=7.23.1->ipykernel->jupyter->-r requirements.txt (line 9)) (0.2.2)\n",
      "Requirement already satisfied: fqdn in c:\\users\\fabrice\\appdata\\local\\programs\\python\\python312\\lib\\site-packages (from jsonschema[format-nongpl]>=4.18.0->jupyter-events>=0.9.0->jupyter-server<3,>=2.4.0->jupyterlab->jupyter->-r requirements.txt (line 9)) (1.5.1)\n",
      "Requirement already satisfied: isoduration in c:\\users\\fabrice\\appdata\\local\\programs\\python\\python312\\lib\\site-packages (from jsonschema[format-nongpl]>=4.18.0->jupyter-events>=0.9.0->jupyter-server<3,>=2.4.0->jupyterlab->jupyter->-r requirements.txt (line 9)) (20.11.0)\n",
      "Requirement already satisfied: jsonpointer>1.13 in c:\\users\\fabrice\\appdata\\local\\programs\\python\\python312\\lib\\site-packages (from jsonschema[format-nongpl]>=4.18.0->jupyter-events>=0.9.0->jupyter-server<3,>=2.4.0->jupyterlab->jupyter->-r requirements.txt (line 9)) (3.0.0)\n",
      "Requirement already satisfied: uri-template in c:\\users\\fabrice\\appdata\\local\\programs\\python\\python312\\lib\\site-packages (from jsonschema[format-nongpl]>=4.18.0->jupyter-events>=0.9.0->jupyter-server<3,>=2.4.0->jupyterlab->jupyter->-r requirements.txt (line 9)) (1.3.0)\n",
      "Requirement already satisfied: webcolors>=24.6.0 in c:\\users\\fabrice\\appdata\\local\\programs\\python\\python312\\lib\\site-packages (from jsonschema[format-nongpl]>=4.18.0->jupyter-events>=0.9.0->jupyter-server<3,>=2.4.0->jupyterlab->jupyter->-r requirements.txt (line 9)) (24.11.1)\n",
      "Requirement already satisfied: cffi>=1.0.1 in c:\\users\\fabrice\\appdata\\local\\programs\\python\\python312\\lib\\site-packages (from argon2-cffi-bindings->argon2-cffi>=21.1->jupyter-server<3,>=2.4.0->jupyterlab->jupyter->-r requirements.txt (line 9)) (1.17.1)\n",
      "Requirement already satisfied: pycparser in c:\\users\\fabrice\\appdata\\local\\programs\\python\\python312\\lib\\site-packages (from cffi>=1.0.1->argon2-cffi-bindings->argon2-cffi>=21.1->jupyter-server<3,>=2.4.0->jupyterlab->jupyter->-r requirements.txt (line 9)) (2.22)\n",
      "Requirement already satisfied: arrow>=0.15.0 in c:\\users\\fabrice\\appdata\\local\\programs\\python\\python312\\lib\\site-packages (from isoduration->jsonschema[format-nongpl]>=4.18.0->jupyter-events>=0.9.0->jupyter-server<3,>=2.4.0->jupyterlab->jupyter->-r requirements.txt (line 9)) (1.3.0)\n",
      "Requirement already satisfied: types-python-dateutil>=2.8.10 in c:\\users\\fabrice\\appdata\\local\\programs\\python\\python312\\lib\\site-packages (from arrow>=0.15.0->isoduration->jsonschema[format-nongpl]>=4.18.0->jupyter-events>=0.9.0->jupyter-server<3,>=2.4.0->jupyterlab->jupyter->-r requirements.txt (line 9)) (2.9.0.20241003)\n",
      "Downloading torchvision-0.20.1-cp312-cp312-win_amd64.whl (1.6 MB)\n",
      "   ---------------------------------------- 0.0/1.6 MB ? eta -:--:--\n",
      "   ---------------------------------------- 0.0/1.6 MB ? eta -:--:--\n",
      "   ---------------------------------------- 0.0/1.6 MB ? eta -:--:--\n",
      "   - -------------------------------------- 0.0/1.6 MB 326.8 kB/s eta 0:00:05\n",
      "   ----------- ---------------------------- 0.4/1.6 MB 3.1 MB/s eta 0:00:01\n",
      "   -------------------------------- ------- 1.3/1.6 MB 6.7 MB/s eta 0:00:01\n",
      "   ---------------------------------------- 1.6/1.6 MB 6.6 MB/s eta 0:00:00\n",
      "Installing collected packages: torchvision\n",
      "Successfully installed torchvision-0.20.1\n"
     ]
    },
    {
     "name": "stderr",
     "output_type": "stream",
     "text": [
      "\n",
      "[notice] A new release of pip is available: 24.0 -> 24.3.1\n",
      "[notice] To update, run: python.exe -m pip install --upgrade pip\n"
     ]
    }
   ],
   "source": [
    "! pip install -r requirements.txt"
   ]
  },
  {
   "cell_type": "code",
   "execution_count": 1,
   "id": "ad705af5-21ab-4778-b30e-04a1d53db59d",
   "metadata": {
    "ExecuteTime": {
     "end_time": "2024-11-11T11:42:34.709137Z",
     "start_time": "2024-11-11T11:42:18.400387Z"
    },
    "tags": []
   },
   "outputs": [
    {
     "data": {
      "text/plain": [
       "<module 'dataset' from '/project/166600089/marc-debug-grad-cam-cnn/preprocessing/dataset.py'>"
      ]
     },
     "execution_count": 1,
     "metadata": {},
     "output_type": "execute_result"
    }
   ],
   "source": [
    "# Manipulation de données\n",
    "import pandas as pd\n",
    "import numpy as np\n",
    "\n",
    "# Traitement du signal\n",
    "from scipy import signal\n",
    "import mne\n",
    "\n",
    "# Machine Learning et Deep Learning\n",
    "from sklearn.model_selection import train_test_split, GridSearchCV\n",
    "from sklearn.svm import SVC\n",
    "from sklearn.metrics import accuracy_score, confusion_matrix, classification_report\n",
    "import torch\n",
    "\n",
    "\n",
    "# Visualisation\n",
    "import matplotlib.pyplot as plt\n",
    "#import seaborn as sns\n",
    "#import plotly.express as px\n",
    "\n",
    "# Gestion de Notebooks\n",
    "#import papermill as pm\n",
    "import ipywidgets as widgets\n",
    "\n",
    "# Utilitaires\n",
    "import joblib\n",
    "import yaml\n",
    "import pickle\n",
    "import os\n",
    "import sys\n",
    "import importlib\n",
    "\n",
    "# Importation code local\n",
    "sys.path.append('preprocessing')\n",
    "import preprocess\n",
    "import dataset\n",
    "import torchcam\n",
    "import models.GGN.ggn_model as GGN\n",
    "import models.GGN.train as train\n",
    "importlib.reload(preprocess)\n",
    "importlib.reload(GGN)\n",
    "importlib.reload(train)\n",
    "importlib.reload(dataset)\n"
   ]
  },
  {
   "cell_type": "markdown",
   "id": "44d0c9a8",
   "metadata": {},
   "source": [
    "## Chargement de la configuration du projet"
   ]
  },
  {
   "cell_type": "code",
   "execution_count": 2,
   "id": "75051ae0-dd5a-4fa5-bfc1-963b87f12360",
   "metadata": {
    "ExecuteTime": {
     "end_time": "2024-11-11T11:42:37.629398Z",
     "start_time": "2024-11-11T11:42:37.581228Z"
    },
    "tags": []
   },
   "outputs": [],
   "source": [
    "# Chargement de la configuration YAML\n",
    "with open(\"config.yml\", \"r\") as file:\n",
    "    config = yaml.safe_load(file)\n",
    "    \n",
    "device = torch.device(\"cuda\" if torch.cuda.is_available() else \"cpu\")"
   ]
  },
  {
   "cell_type": "markdown",
   "id": "74fb7966",
   "metadata": {},
   "source": [
    "## Preprocessing"
   ]
  },
  {
   "cell_type": "code",
   "execution_count": 3,
   "id": "2175e3f3-a415-4ddd-b5ae-6b7826e73318",
   "metadata": {
    "ExecuteTime": {
     "end_time": "2024-11-11T11:42:58.823832Z",
     "start_time": "2024-11-11T11:42:40.477590Z"
    },
    "tags": []
   },
   "outputs": [
    {
     "name": "stdout",
     "output_type": "stream",
     "text": [
      "EEG channel type selected for re-referencing\n",
      "Applying average reference.\n",
      "Applying a custom ('EEG',) reference.\n",
      "Filtering raw data in 1 contiguous segment\n",
      "Setting up band-stop filter\n",
      "\n",
      "FIR filter parameters\n",
      "---------------------\n",
      "Designing a one-pass, zero-phase, non-causal bandstop filter:\n",
      "- Windowed time-domain design (firwin) method\n",
      "- Hamming window with 0.0194 passband ripple and 53 dB stopband attenuation\n",
      "- Lower transition bandwidth: 0.50 Hz\n",
      "- Upper transition bandwidth: 0.50 Hz\n",
      "- Filter length: 6601 samples (6.601 s)\n",
      "\n"
     ]
    },
    {
     "name": "stderr",
     "output_type": "stream",
     "text": [
      "[Parallel(n_jobs=1)]: Done  17 tasks      | elapsed:    0.2s\n"
     ]
    },
    {
     "name": "stdout",
     "output_type": "stream",
     "text": [
      "Saved epoch 1 for sub-003 task audioactive to data/processed/sub-003/audioactive/1-epo.fif\n",
      "Saved epoch 2 for sub-003 task audioactive to data/processed/sub-003/audioactive/2-epo.fif\n",
      "Saved epoch 3 for sub-003 task audioactive to data/processed/sub-003/audioactive/3-epo.fif\n",
      "Saved epoch 4 for sub-003 task audioactive to data/processed/sub-003/audioactive/4-epo.fif\n",
      "Saved epoch 5 for sub-003 task audioactive to data/processed/sub-003/audioactive/5-epo.fif\n",
      "Saved epoch 6 for sub-003 task audioactive to data/processed/sub-003/audioactive/6-epo.fif\n",
      "Saved epoch 7 for sub-003 task audioactive to data/processed/sub-003/audioactive/7-epo.fif\n",
      "Saved epoch 8 for sub-003 task audioactive to data/processed/sub-003/audioactive/8-epo.fif\n",
      "Saved epoch 9 for sub-003 task audioactive to data/processed/sub-003/audioactive/9-epo.fif\n",
      "Saved epoch 10 for sub-003 task audioactive to data/processed/sub-003/audioactive/10-epo.fif\n",
      "Saved epoch 11 for sub-003 task audioactive to data/processed/sub-003/audioactive/11-epo.fif\n",
      "Saved epoch 12 for sub-003 task audioactive to data/processed/sub-003/audioactive/12-epo.fif\n",
      "Saved epoch 13 for sub-003 task audioactive to data/processed/sub-003/audioactive/13-epo.fif\n",
      "Saved epoch 14 for sub-003 task audioactive to data/processed/sub-003/audioactive/14-epo.fif\n",
      "Saved epoch 15 for sub-003 task audioactive to data/processed/sub-003/audioactive/15-epo.fif\n",
      "Saved epoch 16 for sub-003 task audioactive to data/processed/sub-003/audioactive/16-epo.fif\n",
      "Saved epoch 17 for sub-003 task audioactive to data/processed/sub-003/audioactive/17-epo.fif\n",
      "Saved epoch 18 for sub-003 task audioactive to data/processed/sub-003/audioactive/18-epo.fif\n",
      "Saved epoch 19 for sub-003 task audioactive to data/processed/sub-003/audioactive/19-epo.fif\n",
      "Saved epoch 20 for sub-003 task audioactive to data/processed/sub-003/audioactive/20-epo.fif\n",
      "Saved epoch 21 for sub-003 task audioactive to data/processed/sub-003/audioactive/21-epo.fif\n",
      "Saved epoch 22 for sub-003 task audioactive to data/processed/sub-003/audioactive/22-epo.fif\n",
      "Saved epoch 23 for sub-003 task audioactive to data/processed/sub-003/audioactive/23-epo.fif\n",
      "Saved epoch 24 for sub-003 task audioactive to data/processed/sub-003/audioactive/24-epo.fif\n",
      "Saved epoch 25 for sub-003 task audioactive to data/processed/sub-003/audioactive/25-epo.fif\n",
      "Saved epoch 26 for sub-003 task audioactive to data/processed/sub-003/audioactive/26-epo.fif\n",
      "Saved epoch 27 for sub-003 task audioactive to data/processed/sub-003/audioactive/27-epo.fif\n",
      "Saved epoch 28 for sub-003 task audioactive to data/processed/sub-003/audioactive/28-epo.fif\n",
      "Saved epoch 29 for sub-003 task audioactive to data/processed/sub-003/audioactive/29-epo.fif\n",
      "Saved epoch 30 for sub-003 task audioactive to data/processed/sub-003/audioactive/30-epo.fif\n",
      "Saved epoch 31 for sub-003 task audioactive to data/processed/sub-003/audioactive/31-epo.fif\n",
      "Saved epoch 32 for sub-003 task audioactive to data/processed/sub-003/audioactive/32-epo.fif\n",
      "Saved epoch 33 for sub-003 task audioactive to data/processed/sub-003/audioactive/33-epo.fif\n",
      "Saved epoch 34 for sub-003 task audioactive to data/processed/sub-003/audioactive/34-epo.fif\n",
      "Saved epoch 35 for sub-003 task audioactive to data/processed/sub-003/audioactive/35-epo.fif\n",
      "Saved epoch 36 for sub-003 task audioactive to data/processed/sub-003/audioactive/36-epo.fif\n",
      "Saved epoch 37 for sub-003 task audioactive to data/processed/sub-003/audioactive/37-epo.fif\n",
      "Saved epoch 38 for sub-003 task audioactive to data/processed/sub-003/audioactive/38-epo.fif\n",
      "Saved epoch 39 for sub-003 task audioactive to data/processed/sub-003/audioactive/39-epo.fif\n",
      "Saved epoch 40 for sub-003 task audioactive to data/processed/sub-003/audioactive/40-epo.fif\n",
      "Saved epoch 41 for sub-003 task audioactive to data/processed/sub-003/audioactive/41-epo.fif\n",
      "Saved epoch 42 for sub-003 task audioactive to data/processed/sub-003/audioactive/42-epo.fif\n",
      "Saved epoch 43 for sub-003 task audioactive to data/processed/sub-003/audioactive/43-epo.fif\n",
      "Saved epoch 44 for sub-003 task audioactive to data/processed/sub-003/audioactive/44-epo.fif\n",
      "Saved epoch 45 for sub-003 task audioactive to data/processed/sub-003/audioactive/45-epo.fif\n",
      "Saved epoch 46 for sub-003 task audioactive to data/processed/sub-003/audioactive/46-epo.fif\n",
      "Saved epoch 47 for sub-003 task audioactive to data/processed/sub-003/audioactive/47-epo.fif\n",
      "Saved epoch 48 for sub-003 task audioactive to data/processed/sub-003/audioactive/48-epo.fif\n",
      "Saved epoch 49 for sub-003 task audioactive to data/processed/sub-003/audioactive/49-epo.fif\n",
      "Saved epoch 50 for sub-003 task audioactive to data/processed/sub-003/audioactive/50-epo.fif\n",
      "Saved epoch 51 for sub-003 task audioactive to data/processed/sub-003/audioactive/51-epo.fif\n",
      "Saved epoch 52 for sub-003 task audioactive to data/processed/sub-003/audioactive/52-epo.fif\n",
      "Saved epoch 53 for sub-003 task audioactive to data/processed/sub-003/audioactive/53-epo.fif\n",
      "Saved epoch 54 for sub-003 task audioactive to data/processed/sub-003/audioactive/54-epo.fif\n",
      "Saved epoch 55 for sub-003 task audioactive to data/processed/sub-003/audioactive/55-epo.fif\n",
      "Saved epoch 56 for sub-003 task audioactive to data/processed/sub-003/audioactive/56-epo.fif\n",
      "Saved epoch 57 for sub-003 task audioactive to data/processed/sub-003/audioactive/57-epo.fif\n",
      "Saved epoch 58 for sub-003 task audioactive to data/processed/sub-003/audioactive/58-epo.fif\n",
      "Saved epoch 59 for sub-003 task audioactive to data/processed/sub-003/audioactive/59-epo.fif\n",
      "Saved epoch 60 for sub-003 task audioactive to data/processed/sub-003/audioactive/60-epo.fif\n",
      "Saved epoch 61 for sub-003 task audioactive to data/processed/sub-003/audioactive/61-epo.fif\n",
      "Saved epoch 62 for sub-003 task audioactive to data/processed/sub-003/audioactive/62-epo.fif\n",
      "Saved epoch 63 for sub-003 task audioactive to data/processed/sub-003/audioactive/63-epo.fif\n",
      "Saved epoch 64 for sub-003 task audioactive to data/processed/sub-003/audioactive/64-epo.fif\n",
      "Saved epoch 65 for sub-003 task audioactive to data/processed/sub-003/audioactive/65-epo.fif\n",
      "Saved epoch 66 for sub-003 task audioactive to data/processed/sub-003/audioactive/66-epo.fif\n",
      "Saved epoch 67 for sub-003 task audioactive to data/processed/sub-003/audioactive/67-epo.fif\n",
      "Saved epoch 68 for sub-003 task audioactive to data/processed/sub-003/audioactive/68-epo.fif\n",
      "Saved epoch 69 for sub-003 task audioactive to data/processed/sub-003/audioactive/69-epo.fif\n",
      "Saved epoch 70 for sub-003 task audioactive to data/processed/sub-003/audioactive/70-epo.fif\n",
      "Saved epoch 71 for sub-003 task audioactive to data/processed/sub-003/audioactive/71-epo.fif\n",
      "Saved epoch 72 for sub-003 task audioactive to data/processed/sub-003/audioactive/72-epo.fif\n",
      "Saved epoch 73 for sub-003 task audioactive to data/processed/sub-003/audioactive/73-epo.fif\n",
      "Saved epoch 74 for sub-003 task audioactive to data/processed/sub-003/audioactive/74-epo.fif\n",
      "Saved epoch 75 for sub-003 task audioactive to data/processed/sub-003/audioactive/75-epo.fif\n",
      "Saved epoch 76 for sub-003 task audioactive to data/processed/sub-003/audioactive/76-epo.fif\n",
      "Saved epoch 77 for sub-003 task audioactive to data/processed/sub-003/audioactive/77-epo.fif\n",
      "Saved epoch 78 for sub-003 task audioactive to data/processed/sub-003/audioactive/78-epo.fif\n",
      "Saved epoch 79 for sub-003 task audioactive to data/processed/sub-003/audioactive/79-epo.fif\n",
      "Saved epoch 80 for sub-003 task audioactive to data/processed/sub-003/audioactive/80-epo.fif\n",
      "Saved epoch 81 for sub-003 task audioactive to data/processed/sub-003/audioactive/81-epo.fif\n",
      "Saved epoch 82 for sub-003 task audioactive to data/processed/sub-003/audioactive/82-epo.fif\n",
      "Saved epoch 83 for sub-003 task audioactive to data/processed/sub-003/audioactive/83-epo.fif\n",
      "Saved epoch 84 for sub-003 task audioactive to data/processed/sub-003/audioactive/84-epo.fif\n",
      "Saved epoch 85 for sub-003 task audioactive to data/processed/sub-003/audioactive/85-epo.fif\n",
      "Saved epoch 86 for sub-003 task audioactive to data/processed/sub-003/audioactive/86-epo.fif\n",
      "Saved epoch 87 for sub-003 task audioactive to data/processed/sub-003/audioactive/87-epo.fif\n",
      "Saved epoch 88 for sub-003 task audioactive to data/processed/sub-003/audioactive/88-epo.fif\n",
      "Saved epoch 89 for sub-003 task audioactive to data/processed/sub-003/audioactive/89-epo.fif\n",
      "Saved epoch 90 for sub-003 task audioactive to data/processed/sub-003/audioactive/90-epo.fif\n",
      "Saved epoch 91 for sub-003 task audioactive to data/processed/sub-003/audioactive/91-epo.fif\n",
      "Saved epoch 92 for sub-003 task audioactive to data/processed/sub-003/audioactive/92-epo.fif\n",
      "Saved epoch 93 for sub-003 task audioactive to data/processed/sub-003/audioactive/93-epo.fif\n",
      "Saved epoch 94 for sub-003 task audioactive to data/processed/sub-003/audioactive/94-epo.fif\n",
      "Saved epoch 95 for sub-003 task audioactive to data/processed/sub-003/audioactive/95-epo.fif\n",
      "Saved epoch 96 for sub-003 task audioactive to data/processed/sub-003/audioactive/96-epo.fif\n",
      "Saved epoch 97 for sub-003 task audioactive to data/processed/sub-003/audioactive/97-epo.fif\n",
      "Saved epoch 98 for sub-003 task audioactive to data/processed/sub-003/audioactive/98-epo.fif\n",
      "Saved epoch 99 for sub-003 task audioactive to data/processed/sub-003/audioactive/99-epo.fif\n",
      "Saved epoch 100 for sub-003 task audioactive to data/processed/sub-003/audioactive/100-epo.fif\n",
      "Saved epoch 101 for sub-003 task audioactive to data/processed/sub-003/audioactive/101-epo.fif\n",
      "Saved epoch 102 for sub-003 task audioactive to data/processed/sub-003/audioactive/102-epo.fif\n",
      "Saved epoch 103 for sub-003 task audioactive to data/processed/sub-003/audioactive/103-epo.fif\n",
      "Saved epoch 104 for sub-003 task audioactive to data/processed/sub-003/audioactive/104-epo.fif\n",
      "Saved epoch 105 for sub-003 task audioactive to data/processed/sub-003/audioactive/105-epo.fif\n",
      "Saved epoch 106 for sub-003 task audioactive to data/processed/sub-003/audioactive/106-epo.fif\n",
      "Saved epoch 107 for sub-003 task audioactive to data/processed/sub-003/audioactive/107-epo.fif\n",
      "Saved epoch 108 for sub-003 task audioactive to data/processed/sub-003/audioactive/108-epo.fif\n",
      "Saved epoch 109 for sub-003 task audioactive to data/processed/sub-003/audioactive/109-epo.fif\n",
      "Saved epoch 110 for sub-003 task audioactive to data/processed/sub-003/audioactive/110-epo.fif\n",
      "Saved epoch 111 for sub-003 task audioactive to data/processed/sub-003/audioactive/111-epo.fif\n",
      "Saved epoch 112 for sub-003 task audioactive to data/processed/sub-003/audioactive/112-epo.fif\n",
      "Saved epoch 113 for sub-003 task audioactive to data/processed/sub-003/audioactive/113-epo.fif\n",
      "Saved epoch 114 for sub-003 task audioactive to data/processed/sub-003/audioactive/114-epo.fif\n",
      "Saved epoch 115 for sub-003 task audioactive to data/processed/sub-003/audioactive/115-epo.fif\n",
      "Saved epoch 116 for sub-003 task audioactive to data/processed/sub-003/audioactive/116-epo.fif\n",
      "Saved epoch 117 for sub-003 task audioactive to data/processed/sub-003/audioactive/117-epo.fif\n",
      "Saved epoch 118 for sub-003 task audioactive to data/processed/sub-003/audioactive/118-epo.fif\n",
      "Saved epoch 119 for sub-003 task audioactive to data/processed/sub-003/audioactive/119-epo.fif\n",
      "Saved epoch 120 for sub-003 task audioactive to data/processed/sub-003/audioactive/120-epo.fif\n",
      "Saved epoch 121 for sub-003 task audioactive to data/processed/sub-003/audioactive/121-epo.fif\n",
      "Saved epoch 122 for sub-003 task audioactive to data/processed/sub-003/audioactive/122-epo.fif\n",
      "EEG channel type selected for re-referencing\n",
      "Applying average reference.\n",
      "Applying a custom ('EEG',) reference.\n",
      "Filtering raw data in 1 contiguous segment\n",
      "Setting up band-stop filter\n",
      "\n",
      "FIR filter parameters\n",
      "---------------------\n",
      "Designing a one-pass, zero-phase, non-causal bandstop filter:\n",
      "- Windowed time-domain design (firwin) method\n",
      "- Hamming window with 0.0194 passband ripple and 53 dB stopband attenuation\n",
      "- Lower transition bandwidth: 0.50 Hz\n",
      "- Upper transition bandwidth: 0.50 Hz\n",
      "- Filter length: 6601 samples (6.601 s)\n",
      "\n"
     ]
    },
    {
     "name": "stderr",
     "output_type": "stream",
     "text": [
      "[Parallel(n_jobs=1)]: Done  17 tasks      | elapsed:    0.2s\n"
     ]
    },
    {
     "name": "stdout",
     "output_type": "stream",
     "text": [
      "Saved epoch 1 for sub-003 task audiopassive to data/processed/sub-003/audiopassive/1-epo.fif\n",
      "Saved epoch 2 for sub-003 task audiopassive to data/processed/sub-003/audiopassive/2-epo.fif\n",
      "Saved epoch 3 for sub-003 task audiopassive to data/processed/sub-003/audiopassive/3-epo.fif\n",
      "Saved epoch 4 for sub-003 task audiopassive to data/processed/sub-003/audiopassive/4-epo.fif\n",
      "Saved epoch 5 for sub-003 task audiopassive to data/processed/sub-003/audiopassive/5-epo.fif\n",
      "Saved epoch 6 for sub-003 task audiopassive to data/processed/sub-003/audiopassive/6-epo.fif\n",
      "Saved epoch 7 for sub-003 task audiopassive to data/processed/sub-003/audiopassive/7-epo.fif\n",
      "Saved epoch 8 for sub-003 task audiopassive to data/processed/sub-003/audiopassive/8-epo.fif\n",
      "Saved epoch 9 for sub-003 task audiopassive to data/processed/sub-003/audiopassive/9-epo.fif\n",
      "Saved epoch 10 for sub-003 task audiopassive to data/processed/sub-003/audiopassive/10-epo.fif\n",
      "Saved epoch 11 for sub-003 task audiopassive to data/processed/sub-003/audiopassive/11-epo.fif\n",
      "Saved epoch 12 for sub-003 task audiopassive to data/processed/sub-003/audiopassive/12-epo.fif\n",
      "Saved epoch 13 for sub-003 task audiopassive to data/processed/sub-003/audiopassive/13-epo.fif\n",
      "Saved epoch 14 for sub-003 task audiopassive to data/processed/sub-003/audiopassive/14-epo.fif\n",
      "Saved epoch 15 for sub-003 task audiopassive to data/processed/sub-003/audiopassive/15-epo.fif\n",
      "Saved epoch 16 for sub-003 task audiopassive to data/processed/sub-003/audiopassive/16-epo.fif\n",
      "Saved epoch 17 for sub-003 task audiopassive to data/processed/sub-003/audiopassive/17-epo.fif\n",
      "Saved epoch 18 for sub-003 task audiopassive to data/processed/sub-003/audiopassive/18-epo.fif\n",
      "Saved epoch 19 for sub-003 task audiopassive to data/processed/sub-003/audiopassive/19-epo.fif\n",
      "Saved epoch 20 for sub-003 task audiopassive to data/processed/sub-003/audiopassive/20-epo.fif\n",
      "Saved epoch 21 for sub-003 task audiopassive to data/processed/sub-003/audiopassive/21-epo.fif\n",
      "Saved epoch 22 for sub-003 task audiopassive to data/processed/sub-003/audiopassive/22-epo.fif\n",
      "Saved epoch 23 for sub-003 task audiopassive to data/processed/sub-003/audiopassive/23-epo.fif\n",
      "Saved epoch 24 for sub-003 task audiopassive to data/processed/sub-003/audiopassive/24-epo.fif\n",
      "Saved epoch 25 for sub-003 task audiopassive to data/processed/sub-003/audiopassive/25-epo.fif\n",
      "Saved epoch 26 for sub-003 task audiopassive to data/processed/sub-003/audiopassive/26-epo.fif\n",
      "Saved epoch 27 for sub-003 task audiopassive to data/processed/sub-003/audiopassive/27-epo.fif\n",
      "Saved epoch 28 for sub-003 task audiopassive to data/processed/sub-003/audiopassive/28-epo.fif\n",
      "Saved epoch 29 for sub-003 task audiopassive to data/processed/sub-003/audiopassive/29-epo.fif\n",
      "Saved epoch 30 for sub-003 task audiopassive to data/processed/sub-003/audiopassive/30-epo.fif\n",
      "Saved epoch 31 for sub-003 task audiopassive to data/processed/sub-003/audiopassive/31-epo.fif\n",
      "Saved epoch 32 for sub-003 task audiopassive to data/processed/sub-003/audiopassive/32-epo.fif\n",
      "Saved epoch 33 for sub-003 task audiopassive to data/processed/sub-003/audiopassive/33-epo.fif\n",
      "Saved epoch 34 for sub-003 task audiopassive to data/processed/sub-003/audiopassive/34-epo.fif\n",
      "Saved epoch 35 for sub-003 task audiopassive to data/processed/sub-003/audiopassive/35-epo.fif\n",
      "Saved epoch 36 for sub-003 task audiopassive to data/processed/sub-003/audiopassive/36-epo.fif\n",
      "Saved epoch 37 for sub-003 task audiopassive to data/processed/sub-003/audiopassive/37-epo.fif\n",
      "Saved epoch 38 for sub-003 task audiopassive to data/processed/sub-003/audiopassive/38-epo.fif\n",
      "Saved epoch 39 for sub-003 task audiopassive to data/processed/sub-003/audiopassive/39-epo.fif\n",
      "Saved epoch 40 for sub-003 task audiopassive to data/processed/sub-003/audiopassive/40-epo.fif\n",
      "Saved epoch 41 for sub-003 task audiopassive to data/processed/sub-003/audiopassive/41-epo.fif\n",
      "Saved epoch 42 for sub-003 task audiopassive to data/processed/sub-003/audiopassive/42-epo.fif\n",
      "Saved epoch 43 for sub-003 task audiopassive to data/processed/sub-003/audiopassive/43-epo.fif\n",
      "Saved epoch 44 for sub-003 task audiopassive to data/processed/sub-003/audiopassive/44-epo.fif\n",
      "Saved epoch 45 for sub-003 task audiopassive to data/processed/sub-003/audiopassive/45-epo.fif\n",
      "Saved epoch 46 for sub-003 task audiopassive to data/processed/sub-003/audiopassive/46-epo.fif\n",
      "Saved epoch 47 for sub-003 task audiopassive to data/processed/sub-003/audiopassive/47-epo.fif\n",
      "Saved epoch 48 for sub-003 task audiopassive to data/processed/sub-003/audiopassive/48-epo.fif\n",
      "Saved epoch 49 for sub-003 task audiopassive to data/processed/sub-003/audiopassive/49-epo.fif\n",
      "Saved epoch 50 for sub-003 task audiopassive to data/processed/sub-003/audiopassive/50-epo.fif\n",
      "Saved epoch 51 for sub-003 task audiopassive to data/processed/sub-003/audiopassive/51-epo.fif\n",
      "Saved epoch 52 for sub-003 task audiopassive to data/processed/sub-003/audiopassive/52-epo.fif\n",
      "Saved epoch 53 for sub-003 task audiopassive to data/processed/sub-003/audiopassive/53-epo.fif\n",
      "Saved epoch 54 for sub-003 task audiopassive to data/processed/sub-003/audiopassive/54-epo.fif\n",
      "Saved epoch 55 for sub-003 task audiopassive to data/processed/sub-003/audiopassive/55-epo.fif\n",
      "Saved epoch 56 for sub-003 task audiopassive to data/processed/sub-003/audiopassive/56-epo.fif\n",
      "Saved epoch 57 for sub-003 task audiopassive to data/processed/sub-003/audiopassive/57-epo.fif\n",
      "Saved epoch 58 for sub-003 task audiopassive to data/processed/sub-003/audiopassive/58-epo.fif\n",
      "Saved epoch 59 for sub-003 task audiopassive to data/processed/sub-003/audiopassive/59-epo.fif\n",
      "Saved epoch 60 for sub-003 task audiopassive to data/processed/sub-003/audiopassive/60-epo.fif\n",
      "Saved epoch 61 for sub-003 task audiopassive to data/processed/sub-003/audiopassive/61-epo.fif\n",
      "Saved epoch 62 for sub-003 task audiopassive to data/processed/sub-003/audiopassive/62-epo.fif\n",
      "Saved epoch 63 for sub-003 task audiopassive to data/processed/sub-003/audiopassive/63-epo.fif\n",
      "Saved epoch 64 for sub-003 task audiopassive to data/processed/sub-003/audiopassive/64-epo.fif\n",
      "Saved epoch 65 for sub-003 task audiopassive to data/processed/sub-003/audiopassive/65-epo.fif\n",
      "Saved epoch 66 for sub-003 task audiopassive to data/processed/sub-003/audiopassive/66-epo.fif\n",
      "Saved epoch 67 for sub-003 task audiopassive to data/processed/sub-003/audiopassive/67-epo.fif\n",
      "Saved epoch 68 for sub-003 task audiopassive to data/processed/sub-003/audiopassive/68-epo.fif\n",
      "Saved epoch 69 for sub-003 task audiopassive to data/processed/sub-003/audiopassive/69-epo.fif\n",
      "Saved epoch 70 for sub-003 task audiopassive to data/processed/sub-003/audiopassive/70-epo.fif\n",
      "Saved epoch 71 for sub-003 task audiopassive to data/processed/sub-003/audiopassive/71-epo.fif\n",
      "Saved epoch 72 for sub-003 task audiopassive to data/processed/sub-003/audiopassive/72-epo.fif\n",
      "Saved epoch 73 for sub-003 task audiopassive to data/processed/sub-003/audiopassive/73-epo.fif\n",
      "Saved epoch 74 for sub-003 task audiopassive to data/processed/sub-003/audiopassive/74-epo.fif\n",
      "Saved epoch 75 for sub-003 task audiopassive to data/processed/sub-003/audiopassive/75-epo.fif\n",
      "Saved epoch 76 for sub-003 task audiopassive to data/processed/sub-003/audiopassive/76-epo.fif\n",
      "Saved epoch 77 for sub-003 task audiopassive to data/processed/sub-003/audiopassive/77-epo.fif\n",
      "Saved epoch 78 for sub-003 task audiopassive to data/processed/sub-003/audiopassive/78-epo.fif\n",
      "Saved epoch 79 for sub-003 task audiopassive to data/processed/sub-003/audiopassive/79-epo.fif\n",
      "Saved epoch 80 for sub-003 task audiopassive to data/processed/sub-003/audiopassive/80-epo.fif\n",
      "Saved epoch 81 for sub-003 task audiopassive to data/processed/sub-003/audiopassive/81-epo.fif\n",
      "Saved epoch 82 for sub-003 task audiopassive to data/processed/sub-003/audiopassive/82-epo.fif\n",
      "Saved epoch 83 for sub-003 task audiopassive to data/processed/sub-003/audiopassive/83-epo.fif\n",
      "Saved epoch 84 for sub-003 task audiopassive to data/processed/sub-003/audiopassive/84-epo.fif\n",
      "Saved epoch 85 for sub-003 task audiopassive to data/processed/sub-003/audiopassive/85-epo.fif\n",
      "Saved epoch 86 for sub-003 task audiopassive to data/processed/sub-003/audiopassive/86-epo.fif\n",
      "Saved epoch 87 for sub-003 task audiopassive to data/processed/sub-003/audiopassive/87-epo.fif\n",
      "Saved epoch 88 for sub-003 task audiopassive to data/processed/sub-003/audiopassive/88-epo.fif\n",
      "Saved epoch 89 for sub-003 task audiopassive to data/processed/sub-003/audiopassive/89-epo.fif\n",
      "Saved epoch 90 for sub-003 task audiopassive to data/processed/sub-003/audiopassive/90-epo.fif\n",
      "Saved epoch 91 for sub-003 task audiopassive to data/processed/sub-003/audiopassive/91-epo.fif\n",
      "Saved epoch 92 for sub-003 task audiopassive to data/processed/sub-003/audiopassive/92-epo.fif\n",
      "Saved epoch 93 for sub-003 task audiopassive to data/processed/sub-003/audiopassive/93-epo.fif\n",
      "Saved epoch 94 for sub-003 task audiopassive to data/processed/sub-003/audiopassive/94-epo.fif\n",
      "Saved epoch 95 for sub-003 task audiopassive to data/processed/sub-003/audiopassive/95-epo.fif\n",
      "Saved epoch 96 for sub-003 task audiopassive to data/processed/sub-003/audiopassive/96-epo.fif\n",
      "Saved epoch 97 for sub-003 task audiopassive to data/processed/sub-003/audiopassive/97-epo.fif\n",
      "Saved epoch 98 for sub-003 task audiopassive to data/processed/sub-003/audiopassive/98-epo.fif\n",
      "Saved epoch 99 for sub-003 task audiopassive to data/processed/sub-003/audiopassive/99-epo.fif\n",
      "Saved epoch 100 for sub-003 task audiopassive to data/processed/sub-003/audiopassive/100-epo.fif\n",
      "Saved epoch 101 for sub-003 task audiopassive to data/processed/sub-003/audiopassive/101-epo.fif\n",
      "Saved epoch 102 for sub-003 task audiopassive to data/processed/sub-003/audiopassive/102-epo.fif\n",
      "Saved epoch 103 for sub-003 task audiopassive to data/processed/sub-003/audiopassive/103-epo.fif\n",
      "Saved epoch 104 for sub-003 task audiopassive to data/processed/sub-003/audiopassive/104-epo.fif\n",
      "Saved epoch 105 for sub-003 task audiopassive to data/processed/sub-003/audiopassive/105-epo.fif\n",
      "Saved epoch 106 for sub-003 task audiopassive to data/processed/sub-003/audiopassive/106-epo.fif\n",
      "Saved epoch 107 for sub-003 task audiopassive to data/processed/sub-003/audiopassive/107-epo.fif\n",
      "Saved epoch 108 for sub-003 task audiopassive to data/processed/sub-003/audiopassive/108-epo.fif\n",
      "Saved epoch 109 for sub-003 task audiopassive to data/processed/sub-003/audiopassive/109-epo.fif\n",
      "Saved epoch 110 for sub-003 task audiopassive to data/processed/sub-003/audiopassive/110-epo.fif\n",
      "Saved epoch 111 for sub-003 task audiopassive to data/processed/sub-003/audiopassive/111-epo.fif\n",
      "Saved epoch 112 for sub-003 task audiopassive to data/processed/sub-003/audiopassive/112-epo.fif\n",
      "Saved epoch 113 for sub-003 task audiopassive to data/processed/sub-003/audiopassive/113-epo.fif\n",
      "Saved epoch 114 for sub-003 task audiopassive to data/processed/sub-003/audiopassive/114-epo.fif\n",
      "Saved epoch 115 for sub-003 task audiopassive to data/processed/sub-003/audiopassive/115-epo.fif\n",
      "Saved epoch 116 for sub-003 task audiopassive to data/processed/sub-003/audiopassive/116-epo.fif\n",
      "Saved epoch 117 for sub-003 task audiopassive to data/processed/sub-003/audiopassive/117-epo.fif\n",
      "Saved epoch 118 for sub-003 task audiopassive to data/processed/sub-003/audiopassive/118-epo.fif\n",
      "Saved epoch 119 for sub-003 task audiopassive to data/processed/sub-003/audiopassive/119-epo.fif\n",
      "Saved epoch 120 for sub-003 task audiopassive to data/processed/sub-003/audiopassive/120-epo.fif\n",
      "Saved epoch 121 for sub-003 task audiopassive to data/processed/sub-003/audiopassive/121-epo.fif\n",
      "Saved epoch 122 for sub-003 task audiopassive to data/processed/sub-003/audiopassive/122-epo.fif\n",
      "EEG channel type selected for re-referencing\n",
      "Applying average reference.\n",
      "Applying a custom ('EEG',) reference.\n",
      "Filtering raw data in 1 contiguous segment\n",
      "Setting up band-stop filter\n",
      "\n",
      "FIR filter parameters\n",
      "---------------------\n",
      "Designing a one-pass, zero-phase, non-causal bandstop filter:\n",
      "- Windowed time-domain design (firwin) method\n",
      "- Hamming window with 0.0194 passband ripple and 53 dB stopband attenuation\n",
      "- Lower transition bandwidth: 0.50 Hz\n",
      "- Upper transition bandwidth: 0.50 Hz\n",
      "- Filter length: 6601 samples (6.601 s)\n",
      "\n"
     ]
    },
    {
     "name": "stderr",
     "output_type": "stream",
     "text": [
      "[Parallel(n_jobs=1)]: Done  17 tasks      | elapsed:    0.2s\n"
     ]
    },
    {
     "name": "stdout",
     "output_type": "stream",
     "text": [
      "Saved epoch 1 for sub-003 task thermalactive to data/processed/sub-003/thermalactive/1-epo.fif\n",
      "Saved epoch 2 for sub-003 task thermalactive to data/processed/sub-003/thermalactive/2-epo.fif\n",
      "Saved epoch 3 for sub-003 task thermalactive to data/processed/sub-003/thermalactive/3-epo.fif\n",
      "Saved epoch 4 for sub-003 task thermalactive to data/processed/sub-003/thermalactive/4-epo.fif\n",
      "Saved epoch 5 for sub-003 task thermalactive to data/processed/sub-003/thermalactive/5-epo.fif\n",
      "Saved epoch 6 for sub-003 task thermalactive to data/processed/sub-003/thermalactive/6-epo.fif\n",
      "Saved epoch 7 for sub-003 task thermalactive to data/processed/sub-003/thermalactive/7-epo.fif\n",
      "Saved epoch 8 for sub-003 task thermalactive to data/processed/sub-003/thermalactive/8-epo.fif\n",
      "Saved epoch 9 for sub-003 task thermalactive to data/processed/sub-003/thermalactive/9-epo.fif\n",
      "Saved epoch 10 for sub-003 task thermalactive to data/processed/sub-003/thermalactive/10-epo.fif\n",
      "Saved epoch 11 for sub-003 task thermalactive to data/processed/sub-003/thermalactive/11-epo.fif\n",
      "Saved epoch 12 for sub-003 task thermalactive to data/processed/sub-003/thermalactive/12-epo.fif\n",
      "Saved epoch 13 for sub-003 task thermalactive to data/processed/sub-003/thermalactive/13-epo.fif\n",
      "Saved epoch 14 for sub-003 task thermalactive to data/processed/sub-003/thermalactive/14-epo.fif\n",
      "Saved epoch 15 for sub-003 task thermalactive to data/processed/sub-003/thermalactive/15-epo.fif\n",
      "Saved epoch 16 for sub-003 task thermalactive to data/processed/sub-003/thermalactive/16-epo.fif\n",
      "Saved epoch 17 for sub-003 task thermalactive to data/processed/sub-003/thermalactive/17-epo.fif\n",
      "Saved epoch 18 for sub-003 task thermalactive to data/processed/sub-003/thermalactive/18-epo.fif\n",
      "Saved epoch 19 for sub-003 task thermalactive to data/processed/sub-003/thermalactive/19-epo.fif\n",
      "Saved epoch 20 for sub-003 task thermalactive to data/processed/sub-003/thermalactive/20-epo.fif\n",
      "Saved epoch 21 for sub-003 task thermalactive to data/processed/sub-003/thermalactive/21-epo.fif\n",
      "Saved epoch 22 for sub-003 task thermalactive to data/processed/sub-003/thermalactive/22-epo.fif\n",
      "Saved epoch 23 for sub-003 task thermalactive to data/processed/sub-003/thermalactive/23-epo.fif\n",
      "Saved epoch 24 for sub-003 task thermalactive to data/processed/sub-003/thermalactive/24-epo.fif\n",
      "Saved epoch 25 for sub-003 task thermalactive to data/processed/sub-003/thermalactive/25-epo.fif\n",
      "Saved epoch 26 for sub-003 task thermalactive to data/processed/sub-003/thermalactive/26-epo.fif\n",
      "Saved epoch 27 for sub-003 task thermalactive to data/processed/sub-003/thermalactive/27-epo.fif\n",
      "Saved epoch 28 for sub-003 task thermalactive to data/processed/sub-003/thermalactive/28-epo.fif\n",
      "Saved epoch 29 for sub-003 task thermalactive to data/processed/sub-003/thermalactive/29-epo.fif\n",
      "Saved epoch 30 for sub-003 task thermalactive to data/processed/sub-003/thermalactive/30-epo.fif\n",
      "Saved epoch 31 for sub-003 task thermalactive to data/processed/sub-003/thermalactive/31-epo.fif\n",
      "Saved epoch 32 for sub-003 task thermalactive to data/processed/sub-003/thermalactive/32-epo.fif\n",
      "Saved epoch 33 for sub-003 task thermalactive to data/processed/sub-003/thermalactive/33-epo.fif\n",
      "Saved epoch 34 for sub-003 task thermalactive to data/processed/sub-003/thermalactive/34-epo.fif\n",
      "Saved epoch 35 for sub-003 task thermalactive to data/processed/sub-003/thermalactive/35-epo.fif\n",
      "Saved epoch 36 for sub-003 task thermalactive to data/processed/sub-003/thermalactive/36-epo.fif\n",
      "Saved epoch 37 for sub-003 task thermalactive to data/processed/sub-003/thermalactive/37-epo.fif\n",
      "Saved epoch 38 for sub-003 task thermalactive to data/processed/sub-003/thermalactive/38-epo.fif\n",
      "Saved epoch 39 for sub-003 task thermalactive to data/processed/sub-003/thermalactive/39-epo.fif\n",
      "Saved epoch 40 for sub-003 task thermalactive to data/processed/sub-003/thermalactive/40-epo.fif\n",
      "Saved epoch 41 for sub-003 task thermalactive to data/processed/sub-003/thermalactive/41-epo.fif\n",
      "Saved epoch 42 for sub-003 task thermalactive to data/processed/sub-003/thermalactive/42-epo.fif\n",
      "Saved epoch 43 for sub-003 task thermalactive to data/processed/sub-003/thermalactive/43-epo.fif\n",
      "Saved epoch 44 for sub-003 task thermalactive to data/processed/sub-003/thermalactive/44-epo.fif\n",
      "Saved epoch 45 for sub-003 task thermalactive to data/processed/sub-003/thermalactive/45-epo.fif\n",
      "Saved epoch 46 for sub-003 task thermalactive to data/processed/sub-003/thermalactive/46-epo.fif\n",
      "Saved epoch 47 for sub-003 task thermalactive to data/processed/sub-003/thermalactive/47-epo.fif\n",
      "Saved epoch 48 for sub-003 task thermalactive to data/processed/sub-003/thermalactive/48-epo.fif\n",
      "Saved epoch 49 for sub-003 task thermalactive to data/processed/sub-003/thermalactive/49-epo.fif\n",
      "Saved epoch 50 for sub-003 task thermalactive to data/processed/sub-003/thermalactive/50-epo.fif\n",
      "Saved epoch 51 for sub-003 task thermalactive to data/processed/sub-003/thermalactive/51-epo.fif\n",
      "Saved epoch 52 for sub-003 task thermalactive to data/processed/sub-003/thermalactive/52-epo.fif\n",
      "Saved epoch 53 for sub-003 task thermalactive to data/processed/sub-003/thermalactive/53-epo.fif\n",
      "Saved epoch 54 for sub-003 task thermalactive to data/processed/sub-003/thermalactive/54-epo.fif\n",
      "Saved epoch 55 for sub-003 task thermalactive to data/processed/sub-003/thermalactive/55-epo.fif\n",
      "Saved epoch 56 for sub-003 task thermalactive to data/processed/sub-003/thermalactive/56-epo.fif\n",
      "Saved epoch 57 for sub-003 task thermalactive to data/processed/sub-003/thermalactive/57-epo.fif\n",
      "Saved epoch 58 for sub-003 task thermalactive to data/processed/sub-003/thermalactive/58-epo.fif\n",
      "Saved epoch 59 for sub-003 task thermalactive to data/processed/sub-003/thermalactive/59-epo.fif\n",
      "Saved epoch 60 for sub-003 task thermalactive to data/processed/sub-003/thermalactive/60-epo.fif\n",
      "Saved epoch 61 for sub-003 task thermalactive to data/processed/sub-003/thermalactive/61-epo.fif\n",
      "Saved epoch 62 for sub-003 task thermalactive to data/processed/sub-003/thermalactive/62-epo.fif\n",
      "Saved epoch 63 for sub-003 task thermalactive to data/processed/sub-003/thermalactive/63-epo.fif\n",
      "Saved epoch 64 for sub-003 task thermalactive to data/processed/sub-003/thermalactive/64-epo.fif\n",
      "Saved epoch 65 for sub-003 task thermalactive to data/processed/sub-003/thermalactive/65-epo.fif\n",
      "Saved epoch 66 for sub-003 task thermalactive to data/processed/sub-003/thermalactive/66-epo.fif\n",
      "Saved epoch 67 for sub-003 task thermalactive to data/processed/sub-003/thermalactive/67-epo.fif\n",
      "Saved epoch 68 for sub-003 task thermalactive to data/processed/sub-003/thermalactive/68-epo.fif\n",
      "Saved epoch 69 for sub-003 task thermalactive to data/processed/sub-003/thermalactive/69-epo.fif\n",
      "Saved epoch 70 for sub-003 task thermalactive to data/processed/sub-003/thermalactive/70-epo.fif\n",
      "Saved epoch 71 for sub-003 task thermalactive to data/processed/sub-003/thermalactive/71-epo.fif\n",
      "Saved epoch 72 for sub-003 task thermalactive to data/processed/sub-003/thermalactive/72-epo.fif\n",
      "Saved epoch 73 for sub-003 task thermalactive to data/processed/sub-003/thermalactive/73-epo.fif\n",
      "Saved epoch 74 for sub-003 task thermalactive to data/processed/sub-003/thermalactive/74-epo.fif\n",
      "Saved epoch 75 for sub-003 task thermalactive to data/processed/sub-003/thermalactive/75-epo.fif\n",
      "Saved epoch 76 for sub-003 task thermalactive to data/processed/sub-003/thermalactive/76-epo.fif\n",
      "Saved epoch 77 for sub-003 task thermalactive to data/processed/sub-003/thermalactive/77-epo.fif\n",
      "Saved epoch 78 for sub-003 task thermalactive to data/processed/sub-003/thermalactive/78-epo.fif\n",
      "Saved epoch 79 for sub-003 task thermalactive to data/processed/sub-003/thermalactive/79-epo.fif\n",
      "Saved epoch 80 for sub-003 task thermalactive to data/processed/sub-003/thermalactive/80-epo.fif\n",
      "Saved epoch 81 for sub-003 task thermalactive to data/processed/sub-003/thermalactive/81-epo.fif\n",
      "Saved epoch 82 for sub-003 task thermalactive to data/processed/sub-003/thermalactive/82-epo.fif\n",
      "Saved epoch 83 for sub-003 task thermalactive to data/processed/sub-003/thermalactive/83-epo.fif\n",
      "Saved epoch 84 for sub-003 task thermalactive to data/processed/sub-003/thermalactive/84-epo.fif\n",
      "Saved epoch 85 for sub-003 task thermalactive to data/processed/sub-003/thermalactive/85-epo.fif\n",
      "Saved epoch 86 for sub-003 task thermalactive to data/processed/sub-003/thermalactive/86-epo.fif\n",
      "Saved epoch 87 for sub-003 task thermalactive to data/processed/sub-003/thermalactive/87-epo.fif\n",
      "Saved epoch 88 for sub-003 task thermalactive to data/processed/sub-003/thermalactive/88-epo.fif\n",
      "Saved epoch 89 for sub-003 task thermalactive to data/processed/sub-003/thermalactive/89-epo.fif\n",
      "Saved epoch 90 for sub-003 task thermalactive to data/processed/sub-003/thermalactive/90-epo.fif\n",
      "Saved epoch 91 for sub-003 task thermalactive to data/processed/sub-003/thermalactive/91-epo.fif\n",
      "Saved epoch 92 for sub-003 task thermalactive to data/processed/sub-003/thermalactive/92-epo.fif\n",
      "Saved epoch 93 for sub-003 task thermalactive to data/processed/sub-003/thermalactive/93-epo.fif\n",
      "Saved epoch 94 for sub-003 task thermalactive to data/processed/sub-003/thermalactive/94-epo.fif\n",
      "Saved epoch 95 for sub-003 task thermalactive to data/processed/sub-003/thermalactive/95-epo.fif\n",
      "Saved epoch 96 for sub-003 task thermalactive to data/processed/sub-003/thermalactive/96-epo.fif\n",
      "Saved epoch 97 for sub-003 task thermalactive to data/processed/sub-003/thermalactive/97-epo.fif\n",
      "Saved epoch 98 for sub-003 task thermalactive to data/processed/sub-003/thermalactive/98-epo.fif\n",
      "Saved epoch 99 for sub-003 task thermalactive to data/processed/sub-003/thermalactive/99-epo.fif\n",
      "Saved epoch 100 for sub-003 task thermalactive to data/processed/sub-003/thermalactive/100-epo.fif\n",
      "Saved epoch 101 for sub-003 task thermalactive to data/processed/sub-003/thermalactive/101-epo.fif\n",
      "Saved epoch 102 for sub-003 task thermalactive to data/processed/sub-003/thermalactive/102-epo.fif\n",
      "Saved epoch 103 for sub-003 task thermalactive to data/processed/sub-003/thermalactive/103-epo.fif\n",
      "Saved epoch 104 for sub-003 task thermalactive to data/processed/sub-003/thermalactive/104-epo.fif\n",
      "Saved epoch 105 for sub-003 task thermalactive to data/processed/sub-003/thermalactive/105-epo.fif\n",
      "Saved epoch 106 for sub-003 task thermalactive to data/processed/sub-003/thermalactive/106-epo.fif\n",
      "Saved epoch 107 for sub-003 task thermalactive to data/processed/sub-003/thermalactive/107-epo.fif\n",
      "Saved epoch 108 for sub-003 task thermalactive to data/processed/sub-003/thermalactive/108-epo.fif\n",
      "Saved epoch 109 for sub-003 task thermalactive to data/processed/sub-003/thermalactive/109-epo.fif\n",
      "Saved epoch 110 for sub-003 task thermalactive to data/processed/sub-003/thermalactive/110-epo.fif\n",
      "Saved epoch 111 for sub-003 task thermalactive to data/processed/sub-003/thermalactive/111-epo.fif\n",
      "Saved epoch 112 for sub-003 task thermalactive to data/processed/sub-003/thermalactive/112-epo.fif\n",
      "Saved epoch 113 for sub-003 task thermalactive to data/processed/sub-003/thermalactive/113-epo.fif\n",
      "Saved epoch 114 for sub-003 task thermalactive to data/processed/sub-003/thermalactive/114-epo.fif\n",
      "Saved epoch 115 for sub-003 task thermalactive to data/processed/sub-003/thermalactive/115-epo.fif\n",
      "Saved epoch 116 for sub-003 task thermalactive to data/processed/sub-003/thermalactive/116-epo.fif\n",
      "Saved epoch 117 for sub-003 task thermalactive to data/processed/sub-003/thermalactive/117-epo.fif\n",
      "Saved epoch 118 for sub-003 task thermalactive to data/processed/sub-003/thermalactive/118-epo.fif\n",
      "Saved epoch 119 for sub-003 task thermalactive to data/processed/sub-003/thermalactive/119-epo.fif\n",
      "Saved epoch 120 for sub-003 task thermalactive to data/processed/sub-003/thermalactive/120-epo.fif\n",
      "Saved epoch 121 for sub-003 task thermalactive to data/processed/sub-003/thermalactive/121-epo.fif\n",
      "Saved epoch 122 for sub-003 task thermalactive to data/processed/sub-003/thermalactive/122-epo.fif\n",
      "Saved epoch 123 for sub-003 task thermalactive to data/processed/sub-003/thermalactive/123-epo.fif\n",
      "Saved epoch 124 for sub-003 task thermalactive to data/processed/sub-003/thermalactive/124-epo.fif\n",
      "Saved epoch 125 for sub-003 task thermalactive to data/processed/sub-003/thermalactive/125-epo.fif\n",
      "EEG channel type selected for re-referencing\n",
      "Applying average reference.\n",
      "Applying a custom ('EEG',) reference.\n",
      "Filtering raw data in 1 contiguous segment\n",
      "Setting up band-stop filter\n",
      "\n",
      "FIR filter parameters\n",
      "---------------------\n",
      "Designing a one-pass, zero-phase, non-causal bandstop filter:\n",
      "- Windowed time-domain design (firwin) method\n",
      "- Hamming window with 0.0194 passband ripple and 53 dB stopband attenuation\n",
      "- Lower transition bandwidth: 0.50 Hz\n",
      "- Upper transition bandwidth: 0.50 Hz\n",
      "- Filter length: 6601 samples (6.601 s)\n",
      "\n"
     ]
    },
    {
     "name": "stderr",
     "output_type": "stream",
     "text": [
      "[Parallel(n_jobs=1)]: Done  17 tasks      | elapsed:    0.2s\n"
     ]
    },
    {
     "name": "stdout",
     "output_type": "stream",
     "text": [
      "Saved epoch 1 for sub-003 task thermalpassive to data/processed/sub-003/thermalpassive/1-epo.fif\n",
      "Saved epoch 2 for sub-003 task thermalpassive to data/processed/sub-003/thermalpassive/2-epo.fif\n",
      "Saved epoch 3 for sub-003 task thermalpassive to data/processed/sub-003/thermalpassive/3-epo.fif\n",
      "Saved epoch 4 for sub-003 task thermalpassive to data/processed/sub-003/thermalpassive/4-epo.fif\n",
      "Saved epoch 5 for sub-003 task thermalpassive to data/processed/sub-003/thermalpassive/5-epo.fif\n",
      "Saved epoch 6 for sub-003 task thermalpassive to data/processed/sub-003/thermalpassive/6-epo.fif\n",
      "Saved epoch 7 for sub-003 task thermalpassive to data/processed/sub-003/thermalpassive/7-epo.fif\n",
      "Saved epoch 8 for sub-003 task thermalpassive to data/processed/sub-003/thermalpassive/8-epo.fif\n",
      "Saved epoch 9 for sub-003 task thermalpassive to data/processed/sub-003/thermalpassive/9-epo.fif\n",
      "Saved epoch 10 for sub-003 task thermalpassive to data/processed/sub-003/thermalpassive/10-epo.fif\n",
      "Saved epoch 11 for sub-003 task thermalpassive to data/processed/sub-003/thermalpassive/11-epo.fif\n",
      "Saved epoch 12 for sub-003 task thermalpassive to data/processed/sub-003/thermalpassive/12-epo.fif\n",
      "Saved epoch 13 for sub-003 task thermalpassive to data/processed/sub-003/thermalpassive/13-epo.fif\n",
      "Saved epoch 14 for sub-003 task thermalpassive to data/processed/sub-003/thermalpassive/14-epo.fif\n",
      "Saved epoch 15 for sub-003 task thermalpassive to data/processed/sub-003/thermalpassive/15-epo.fif\n",
      "Saved epoch 16 for sub-003 task thermalpassive to data/processed/sub-003/thermalpassive/16-epo.fif\n",
      "Saved epoch 17 for sub-003 task thermalpassive to data/processed/sub-003/thermalpassive/17-epo.fif\n",
      "Saved epoch 18 for sub-003 task thermalpassive to data/processed/sub-003/thermalpassive/18-epo.fif\n",
      "Saved epoch 19 for sub-003 task thermalpassive to data/processed/sub-003/thermalpassive/19-epo.fif\n",
      "Saved epoch 20 for sub-003 task thermalpassive to data/processed/sub-003/thermalpassive/20-epo.fif\n",
      "Saved epoch 21 for sub-003 task thermalpassive to data/processed/sub-003/thermalpassive/21-epo.fif\n",
      "Saved epoch 22 for sub-003 task thermalpassive to data/processed/sub-003/thermalpassive/22-epo.fif\n",
      "Saved epoch 23 for sub-003 task thermalpassive to data/processed/sub-003/thermalpassive/23-epo.fif\n",
      "Saved epoch 24 for sub-003 task thermalpassive to data/processed/sub-003/thermalpassive/24-epo.fif\n",
      "Saved epoch 25 for sub-003 task thermalpassive to data/processed/sub-003/thermalpassive/25-epo.fif\n",
      "Saved epoch 26 for sub-003 task thermalpassive to data/processed/sub-003/thermalpassive/26-epo.fif\n",
      "Saved epoch 27 for sub-003 task thermalpassive to data/processed/sub-003/thermalpassive/27-epo.fif\n",
      "Saved epoch 28 for sub-003 task thermalpassive to data/processed/sub-003/thermalpassive/28-epo.fif\n",
      "Saved epoch 29 for sub-003 task thermalpassive to data/processed/sub-003/thermalpassive/29-epo.fif\n",
      "Saved epoch 30 for sub-003 task thermalpassive to data/processed/sub-003/thermalpassive/30-epo.fif\n",
      "Saved epoch 31 for sub-003 task thermalpassive to data/processed/sub-003/thermalpassive/31-epo.fif\n",
      "Saved epoch 32 for sub-003 task thermalpassive to data/processed/sub-003/thermalpassive/32-epo.fif\n",
      "Saved epoch 33 for sub-003 task thermalpassive to data/processed/sub-003/thermalpassive/33-epo.fif\n",
      "Saved epoch 34 for sub-003 task thermalpassive to data/processed/sub-003/thermalpassive/34-epo.fif\n",
      "Saved epoch 35 for sub-003 task thermalpassive to data/processed/sub-003/thermalpassive/35-epo.fif\n",
      "Saved epoch 36 for sub-003 task thermalpassive to data/processed/sub-003/thermalpassive/36-epo.fif\n",
      "Saved epoch 37 for sub-003 task thermalpassive to data/processed/sub-003/thermalpassive/37-epo.fif\n",
      "Saved epoch 38 for sub-003 task thermalpassive to data/processed/sub-003/thermalpassive/38-epo.fif\n",
      "Saved epoch 39 for sub-003 task thermalpassive to data/processed/sub-003/thermalpassive/39-epo.fif\n",
      "Saved epoch 40 for sub-003 task thermalpassive to data/processed/sub-003/thermalpassive/40-epo.fif\n",
      "Saved epoch 41 for sub-003 task thermalpassive to data/processed/sub-003/thermalpassive/41-epo.fif\n",
      "Saved epoch 42 for sub-003 task thermalpassive to data/processed/sub-003/thermalpassive/42-epo.fif\n",
      "Saved epoch 43 for sub-003 task thermalpassive to data/processed/sub-003/thermalpassive/43-epo.fif\n",
      "Saved epoch 44 for sub-003 task thermalpassive to data/processed/sub-003/thermalpassive/44-epo.fif\n",
      "Saved epoch 45 for sub-003 task thermalpassive to data/processed/sub-003/thermalpassive/45-epo.fif\n",
      "Saved epoch 46 for sub-003 task thermalpassive to data/processed/sub-003/thermalpassive/46-epo.fif\n",
      "Saved epoch 47 for sub-003 task thermalpassive to data/processed/sub-003/thermalpassive/47-epo.fif\n",
      "Saved epoch 48 for sub-003 task thermalpassive to data/processed/sub-003/thermalpassive/48-epo.fif\n",
      "Saved epoch 49 for sub-003 task thermalpassive to data/processed/sub-003/thermalpassive/49-epo.fif\n",
      "Saved epoch 50 for sub-003 task thermalpassive to data/processed/sub-003/thermalpassive/50-epo.fif\n",
      "Saved epoch 51 for sub-003 task thermalpassive to data/processed/sub-003/thermalpassive/51-epo.fif\n",
      "Saved epoch 52 for sub-003 task thermalpassive to data/processed/sub-003/thermalpassive/52-epo.fif\n",
      "Saved epoch 53 for sub-003 task thermalpassive to data/processed/sub-003/thermalpassive/53-epo.fif\n",
      "Saved epoch 54 for sub-003 task thermalpassive to data/processed/sub-003/thermalpassive/54-epo.fif\n",
      "Saved epoch 55 for sub-003 task thermalpassive to data/processed/sub-003/thermalpassive/55-epo.fif\n",
      "Saved epoch 56 for sub-003 task thermalpassive to data/processed/sub-003/thermalpassive/56-epo.fif\n",
      "Saved epoch 57 for sub-003 task thermalpassive to data/processed/sub-003/thermalpassive/57-epo.fif\n",
      "Saved epoch 58 for sub-003 task thermalpassive to data/processed/sub-003/thermalpassive/58-epo.fif\n",
      "Saved epoch 59 for sub-003 task thermalpassive to data/processed/sub-003/thermalpassive/59-epo.fif\n",
      "Saved epoch 60 for sub-003 task thermalpassive to data/processed/sub-003/thermalpassive/60-epo.fif\n",
      "Saved epoch 61 for sub-003 task thermalpassive to data/processed/sub-003/thermalpassive/61-epo.fif\n",
      "Saved epoch 62 for sub-003 task thermalpassive to data/processed/sub-003/thermalpassive/62-epo.fif\n",
      "Saved epoch 63 for sub-003 task thermalpassive to data/processed/sub-003/thermalpassive/63-epo.fif\n",
      "Saved epoch 64 for sub-003 task thermalpassive to data/processed/sub-003/thermalpassive/64-epo.fif\n",
      "Saved epoch 65 for sub-003 task thermalpassive to data/processed/sub-003/thermalpassive/65-epo.fif\n",
      "Saved epoch 66 for sub-003 task thermalpassive to data/processed/sub-003/thermalpassive/66-epo.fif\n",
      "Saved epoch 67 for sub-003 task thermalpassive to data/processed/sub-003/thermalpassive/67-epo.fif\n",
      "Saved epoch 68 for sub-003 task thermalpassive to data/processed/sub-003/thermalpassive/68-epo.fif\n",
      "Saved epoch 69 for sub-003 task thermalpassive to data/processed/sub-003/thermalpassive/69-epo.fif\n",
      "Saved epoch 70 for sub-003 task thermalpassive to data/processed/sub-003/thermalpassive/70-epo.fif\n",
      "Saved epoch 71 for sub-003 task thermalpassive to data/processed/sub-003/thermalpassive/71-epo.fif\n",
      "Saved epoch 72 for sub-003 task thermalpassive to data/processed/sub-003/thermalpassive/72-epo.fif\n",
      "Saved epoch 73 for sub-003 task thermalpassive to data/processed/sub-003/thermalpassive/73-epo.fif\n",
      "Saved epoch 74 for sub-003 task thermalpassive to data/processed/sub-003/thermalpassive/74-epo.fif\n",
      "Saved epoch 75 for sub-003 task thermalpassive to data/processed/sub-003/thermalpassive/75-epo.fif\n",
      "Saved epoch 76 for sub-003 task thermalpassive to data/processed/sub-003/thermalpassive/76-epo.fif\n",
      "Saved epoch 77 for sub-003 task thermalpassive to data/processed/sub-003/thermalpassive/77-epo.fif\n",
      "Saved epoch 78 for sub-003 task thermalpassive to data/processed/sub-003/thermalpassive/78-epo.fif\n",
      "Saved epoch 79 for sub-003 task thermalpassive to data/processed/sub-003/thermalpassive/79-epo.fif\n",
      "Saved epoch 80 for sub-003 task thermalpassive to data/processed/sub-003/thermalpassive/80-epo.fif\n",
      "Saved epoch 81 for sub-003 task thermalpassive to data/processed/sub-003/thermalpassive/81-epo.fif\n",
      "Saved epoch 82 for sub-003 task thermalpassive to data/processed/sub-003/thermalpassive/82-epo.fif\n",
      "Saved epoch 83 for sub-003 task thermalpassive to data/processed/sub-003/thermalpassive/83-epo.fif\n",
      "Saved epoch 84 for sub-003 task thermalpassive to data/processed/sub-003/thermalpassive/84-epo.fif\n",
      "Saved epoch 85 for sub-003 task thermalpassive to data/processed/sub-003/thermalpassive/85-epo.fif\n",
      "Saved epoch 86 for sub-003 task thermalpassive to data/processed/sub-003/thermalpassive/86-epo.fif\n",
      "Saved epoch 87 for sub-003 task thermalpassive to data/processed/sub-003/thermalpassive/87-epo.fif\n",
      "Saved epoch 88 for sub-003 task thermalpassive to data/processed/sub-003/thermalpassive/88-epo.fif\n",
      "Saved epoch 89 for sub-003 task thermalpassive to data/processed/sub-003/thermalpassive/89-epo.fif\n",
      "Saved epoch 90 for sub-003 task thermalpassive to data/processed/sub-003/thermalpassive/90-epo.fif\n",
      "Saved epoch 91 for sub-003 task thermalpassive to data/processed/sub-003/thermalpassive/91-epo.fif\n",
      "Saved epoch 92 for sub-003 task thermalpassive to data/processed/sub-003/thermalpassive/92-epo.fif\n",
      "Saved epoch 93 for sub-003 task thermalpassive to data/processed/sub-003/thermalpassive/93-epo.fif\n",
      "Saved epoch 94 for sub-003 task thermalpassive to data/processed/sub-003/thermalpassive/94-epo.fif\n",
      "Saved epoch 95 for sub-003 task thermalpassive to data/processed/sub-003/thermalpassive/95-epo.fif\n",
      "Saved epoch 96 for sub-003 task thermalpassive to data/processed/sub-003/thermalpassive/96-epo.fif\n",
      "Saved epoch 97 for sub-003 task thermalpassive to data/processed/sub-003/thermalpassive/97-epo.fif\n",
      "Saved epoch 98 for sub-003 task thermalpassive to data/processed/sub-003/thermalpassive/98-epo.fif\n",
      "Saved epoch 99 for sub-003 task thermalpassive to data/processed/sub-003/thermalpassive/99-epo.fif\n",
      "Saved epoch 100 for sub-003 task thermalpassive to data/processed/sub-003/thermalpassive/100-epo.fif\n",
      "Saved epoch 101 for sub-003 task thermalpassive to data/processed/sub-003/thermalpassive/101-epo.fif\n",
      "Saved epoch 102 for sub-003 task thermalpassive to data/processed/sub-003/thermalpassive/102-epo.fif\n",
      "Saved epoch 103 for sub-003 task thermalpassive to data/processed/sub-003/thermalpassive/103-epo.fif\n",
      "Saved epoch 104 for sub-003 task thermalpassive to data/processed/sub-003/thermalpassive/104-epo.fif\n",
      "Saved epoch 105 for sub-003 task thermalpassive to data/processed/sub-003/thermalpassive/105-epo.fif\n",
      "Saved epoch 106 for sub-003 task thermalpassive to data/processed/sub-003/thermalpassive/106-epo.fif\n",
      "Saved epoch 107 for sub-003 task thermalpassive to data/processed/sub-003/thermalpassive/107-epo.fif\n",
      "Saved epoch 108 for sub-003 task thermalpassive to data/processed/sub-003/thermalpassive/108-epo.fif\n",
      "Saved epoch 109 for sub-003 task thermalpassive to data/processed/sub-003/thermalpassive/109-epo.fif\n",
      "Saved epoch 110 for sub-003 task thermalpassive to data/processed/sub-003/thermalpassive/110-epo.fif\n",
      "Saved epoch 111 for sub-003 task thermalpassive to data/processed/sub-003/thermalpassive/111-epo.fif\n",
      "Saved epoch 112 for sub-003 task thermalpassive to data/processed/sub-003/thermalpassive/112-epo.fif\n",
      "Saved epoch 113 for sub-003 task thermalpassive to data/processed/sub-003/thermalpassive/113-epo.fif\n",
      "Saved epoch 114 for sub-003 task thermalpassive to data/processed/sub-003/thermalpassive/114-epo.fif\n",
      "Saved epoch 115 for sub-003 task thermalpassive to data/processed/sub-003/thermalpassive/115-epo.fif\n",
      "Saved epoch 116 for sub-003 task thermalpassive to data/processed/sub-003/thermalpassive/116-epo.fif\n",
      "Saved epoch 117 for sub-003 task thermalpassive to data/processed/sub-003/thermalpassive/117-epo.fif\n",
      "Saved epoch 118 for sub-003 task thermalpassive to data/processed/sub-003/thermalpassive/118-epo.fif\n",
      "Saved epoch 119 for sub-003 task thermalpassive to data/processed/sub-003/thermalpassive/119-epo.fif\n",
      "Saved epoch 120 for sub-003 task thermalpassive to data/processed/sub-003/thermalpassive/120-epo.fif\n",
      "Saved epoch 121 for sub-003 task thermalpassive to data/processed/sub-003/thermalpassive/121-epo.fif\n",
      "Saved epoch 122 for sub-003 task thermalpassive to data/processed/sub-003/thermalpassive/122-epo.fif\n",
      "Saved epoch 123 for sub-003 task thermalpassive to data/processed/sub-003/thermalpassive/123-epo.fif\n",
      "Saved epoch 124 for sub-003 task thermalpassive to data/processed/sub-003/thermalpassive/124-epo.fif\n",
      "Saved epoch 125 for sub-003 task thermalpassive to data/processed/sub-003/thermalpassive/125-epo.fif\n",
      "Processing subject: sub-004\n",
      "Processing task: thermalpassive\n",
      "Saved splits for sub-004 task thermalpassive in data/split\n",
      "Processing task: audiopassive\n",
      "Saved splits for sub-004 task audiopassive in data/split\n",
      "Processing task: audioactive\n",
      "Saved splits for sub-004 task audioactive in data/split\n",
      "Processing task: thermalactive\n",
      "Saved splits for sub-004 task thermalactive in data/split\n",
      "Processing subject: sub-017\n",
      "Processing task: audiopassive\n",
      "Saved splits for sub-017 task audiopassive in data/split\n",
      "Processing task: thermalactive\n"
     ]
    },
    {
     "ename": "KeyboardInterrupt",
     "evalue": "",
     "output_type": "error",
     "traceback": [
      "\u001b[0;31m---------------------------------------------------------------------------\u001b[0m",
      "\u001b[0;31mKeyboardInterrupt\u001b[0m                         Traceback (most recent call last)",
      "Cell \u001b[0;32mIn[3], line 1\u001b[0m\n\u001b[0;32m----> 1\u001b[0m \u001b[43mpreprocess\u001b[49m\u001b[38;5;241;43m.\u001b[39;49m\u001b[43mpreprocess_data\u001b[49m\u001b[43m(\u001b[49m\u001b[43mconfig\u001b[49m\u001b[43m)\u001b[49m\n",
      "File \u001b[0;32m/project/166600089/marc-debug-grad-cam-cnn/preprocessing/preprocess.py:209\u001b[0m, in \u001b[0;36mpreprocess_data\u001b[0;34m(config)\u001b[0m\n\u001b[1;32m    206\u001b[0m test_size \u001b[38;5;241m=\u001b[39m config[\u001b[38;5;124m'\u001b[39m\u001b[38;5;124mdata\u001b[39m\u001b[38;5;124m'\u001b[39m][\u001b[38;5;124m'\u001b[39m\u001b[38;5;124mtrain_test_split\u001b[39m\u001b[38;5;124m'\u001b[39m][\u001b[38;5;124m'\u001b[39m\u001b[38;5;124mtest_size\u001b[39m\u001b[38;5;124m'\u001b[39m]\n\u001b[1;32m    207\u001b[0m random_state \u001b[38;5;241m=\u001b[39m config[\u001b[38;5;124m'\u001b[39m\u001b[38;5;124mdata\u001b[39m\u001b[38;5;124m'\u001b[39m][\u001b[38;5;124m'\u001b[39m\u001b[38;5;124mtrain_test_split\u001b[39m\u001b[38;5;124m'\u001b[39m][\u001b[38;5;124m'\u001b[39m\u001b[38;5;124mrandom_state\u001b[39m\u001b[38;5;124m'\u001b[39m]\n\u001b[0;32m--> 209\u001b[0m \u001b[43mtrain_test_split_files\u001b[49m\u001b[43m(\u001b[49m\u001b[43mpreprocessed_data_path\u001b[49m\u001b[43m,\u001b[49m\u001b[43m \u001b[49m\u001b[43msplit_data_save_path\u001b[49m\u001b[43m,\u001b[49m\u001b[43m \u001b[49m\u001b[43mtest_size\u001b[49m\u001b[43m,\u001b[49m\u001b[43m \u001b[49m\u001b[43mrandom_state\u001b[49m\u001b[43m)\u001b[49m\n\u001b[1;32m    211\u001b[0m raw \u001b[38;5;241m=\u001b[39m read_epochs(headset_file, preload\u001b[38;5;241m=\u001b[39m\u001b[38;5;28;01mTrue\u001b[39;00m)\n\u001b[1;32m    212\u001b[0m distance_topo \u001b[38;5;241m=\u001b[39m generate_distance_topology(raw)\n",
      "File \u001b[0;32m/project/166600089/marc-debug-grad-cam-cnn/preprocessing/preprocess.py:184\u001b[0m, in \u001b[0;36mtrain_test_split_files\u001b[0;34m(preprocessed_data_path, output_path, test_size, random_state)\u001b[0m\n\u001b[1;32m    182\u001b[0m     os\u001b[38;5;241m.\u001b[39mmakedirs(split_dir, exist_ok\u001b[38;5;241m=\u001b[39m\u001b[38;5;28;01mTrue\u001b[39;00m)\n\u001b[1;32m    183\u001b[0m     \u001b[38;5;28;01mfor\u001b[39;00m file \u001b[38;5;129;01min\u001b[39;00m files:\n\u001b[0;32m--> 184\u001b[0m         \u001b[43mshutil\u001b[49m\u001b[38;5;241;43m.\u001b[39;49m\u001b[43mcopy\u001b[49m\u001b[43m(\u001b[49m\u001b[43mfile\u001b[49m\u001b[43m,\u001b[49m\u001b[43m \u001b[49m\u001b[43msplit_dir\u001b[49m\u001b[43m)\u001b[49m\n\u001b[1;32m    186\u001b[0m \u001b[38;5;28mprint\u001b[39m(\u001b[38;5;124mf\u001b[39m\u001b[38;5;124m\"\u001b[39m\u001b[38;5;124mSaved splits for \u001b[39m\u001b[38;5;132;01m{\u001b[39;00msubject_id\u001b[38;5;132;01m}\u001b[39;00m\u001b[38;5;124m task \u001b[39m\u001b[38;5;132;01m{\u001b[39;00mtask\u001b[38;5;132;01m}\u001b[39;00m\u001b[38;5;124m in \u001b[39m\u001b[38;5;132;01m{\u001b[39;00moutput_path\u001b[38;5;132;01m}\u001b[39;00m\u001b[38;5;124m\"\u001b[39m)\n",
      "File \u001b[0;32m/cvmfs/soft.computecanada.ca/easybuild/software/2020/avx2/Core/python/3.11.2/lib/python3.11/shutil.py:419\u001b[0m, in \u001b[0;36mcopy\u001b[0;34m(src, dst, follow_symlinks)\u001b[0m\n\u001b[1;32m    417\u001b[0m \u001b[38;5;28;01mif\u001b[39;00m os\u001b[38;5;241m.\u001b[39mpath\u001b[38;5;241m.\u001b[39misdir(dst):\n\u001b[1;32m    418\u001b[0m     dst \u001b[38;5;241m=\u001b[39m os\u001b[38;5;241m.\u001b[39mpath\u001b[38;5;241m.\u001b[39mjoin(dst, os\u001b[38;5;241m.\u001b[39mpath\u001b[38;5;241m.\u001b[39mbasename(src))\n\u001b[0;32m--> 419\u001b[0m \u001b[43mcopyfile\u001b[49m\u001b[43m(\u001b[49m\u001b[43msrc\u001b[49m\u001b[43m,\u001b[49m\u001b[43m \u001b[49m\u001b[43mdst\u001b[49m\u001b[43m,\u001b[49m\u001b[43m \u001b[49m\u001b[43mfollow_symlinks\u001b[49m\u001b[38;5;241;43m=\u001b[39;49m\u001b[43mfollow_symlinks\u001b[49m\u001b[43m)\u001b[49m\n\u001b[1;32m    420\u001b[0m copymode(src, dst, follow_symlinks\u001b[38;5;241m=\u001b[39mfollow_symlinks)\n\u001b[1;32m    421\u001b[0m \u001b[38;5;28;01mreturn\u001b[39;00m dst\n",
      "File \u001b[0;32m/cvmfs/soft.computecanada.ca/easybuild/software/2020/avx2/Core/python/3.11.2/lib/python3.11/shutil.py:235\u001b[0m, in \u001b[0;36mcopyfile\u001b[0;34m(src, dst, follow_symlinks)\u001b[0m\n\u001b[1;32m    227\u001b[0m \u001b[38;5;250m\u001b[39m\u001b[38;5;124;03m\"\"\"Copy data from src to dst in the most efficient way possible.\u001b[39;00m\n\u001b[1;32m    228\u001b[0m \n\u001b[1;32m    229\u001b[0m \u001b[38;5;124;03mIf follow_symlinks is not set and src is a symbolic link, a new\u001b[39;00m\n\u001b[1;32m    230\u001b[0m \u001b[38;5;124;03msymlink will be created instead of copying the file it points to.\u001b[39;00m\n\u001b[1;32m    231\u001b[0m \n\u001b[1;32m    232\u001b[0m \u001b[38;5;124;03m\"\"\"\u001b[39;00m\n\u001b[1;32m    233\u001b[0m sys\u001b[38;5;241m.\u001b[39maudit(\u001b[38;5;124m\"\u001b[39m\u001b[38;5;124mshutil.copyfile\u001b[39m\u001b[38;5;124m\"\u001b[39m, src, dst)\n\u001b[0;32m--> 235\u001b[0m \u001b[38;5;28;01mif\u001b[39;00m \u001b[43m_samefile\u001b[49m\u001b[43m(\u001b[49m\u001b[43msrc\u001b[49m\u001b[43m,\u001b[49m\u001b[43m \u001b[49m\u001b[43mdst\u001b[49m\u001b[43m)\u001b[49m:\n\u001b[1;32m    236\u001b[0m     \u001b[38;5;28;01mraise\u001b[39;00m SameFileError(\u001b[38;5;124m\"\u001b[39m\u001b[38;5;132;01m{!r}\u001b[39;00m\u001b[38;5;124m and \u001b[39m\u001b[38;5;132;01m{!r}\u001b[39;00m\u001b[38;5;124m are the same file\u001b[39m\u001b[38;5;124m\"\u001b[39m\u001b[38;5;241m.\u001b[39mformat(src, dst))\n\u001b[1;32m    238\u001b[0m file_size \u001b[38;5;241m=\u001b[39m \u001b[38;5;241m0\u001b[39m\n",
      "File \u001b[0;32m/cvmfs/soft.computecanada.ca/easybuild/software/2020/avx2/Core/python/3.11.2/lib/python3.11/shutil.py:212\u001b[0m, in \u001b[0;36m_samefile\u001b[0;34m(src, dst)\u001b[0m\n\u001b[1;32m    210\u001b[0m \u001b[38;5;28;01mif\u001b[39;00m \u001b[38;5;28mhasattr\u001b[39m(os\u001b[38;5;241m.\u001b[39mpath, \u001b[38;5;124m'\u001b[39m\u001b[38;5;124msamefile\u001b[39m\u001b[38;5;124m'\u001b[39m):\n\u001b[1;32m    211\u001b[0m     \u001b[38;5;28;01mtry\u001b[39;00m:\n\u001b[0;32m--> 212\u001b[0m         \u001b[38;5;28;01mreturn\u001b[39;00m \u001b[43mos\u001b[49m\u001b[38;5;241;43m.\u001b[39;49m\u001b[43mpath\u001b[49m\u001b[38;5;241;43m.\u001b[39;49m\u001b[43msamefile\u001b[49m\u001b[43m(\u001b[49m\u001b[43msrc\u001b[49m\u001b[43m,\u001b[49m\u001b[43m \u001b[49m\u001b[43mdst\u001b[49m\u001b[43m)\u001b[49m\n\u001b[1;32m    213\u001b[0m     \u001b[38;5;28;01mexcept\u001b[39;00m \u001b[38;5;167;01mOSError\u001b[39;00m:\n\u001b[1;32m    214\u001b[0m         \u001b[38;5;28;01mreturn\u001b[39;00m \u001b[38;5;28;01mFalse\u001b[39;00m\n",
      "File \u001b[0;32m<frozen genericpath>:100\u001b[0m, in \u001b[0;36msamefile\u001b[0;34m(f1, f2)\u001b[0m\n",
      "\u001b[0;31mKeyboardInterrupt\u001b[0m: "
     ]
    }
   ],
   "source": [
    "preprocess.preprocess_data(config)"
   ]
  },
  {
   "cell_type": "markdown",
   "id": "51c37280",
   "metadata": {},
   "source": [
    "## Model Training"
   ]
  },
  {
   "cell_type": "code",
   "execution_count": 33,
   "id": "dcf7aa33",
   "metadata": {},
   "outputs": [
    {
     "name": "stderr",
     "output_type": "stream",
     "text": [
      "Epoch [1/50]:  14%|█▍        | 1/7 [00:01<00:09,  1.57s/it]"
     ]
    },
    {
     "name": "stdout",
     "output_type": "stream",
     "text": [
      "torch.Size([50, 128, 128])\n"
     ]
    },
    {
     "name": "stderr",
     "output_type": "stream",
     "text": [
      "Epoch [1/50]:  29%|██▊       | 2/7 [00:03<00:07,  1.55s/it]"
     ]
    },
    {
     "name": "stdout",
     "output_type": "stream",
     "text": [
      "torch.Size([50, 128, 128])\n"
     ]
    },
    {
     "name": "stderr",
     "output_type": "stream",
     "text": [
      "Epoch [1/50]:  43%|████▎     | 3/7 [00:04<00:06,  1.54s/it]"
     ]
    },
    {
     "name": "stdout",
     "output_type": "stream",
     "text": [
      "torch.Size([50, 128, 128])\n"
     ]
    },
    {
     "name": "stderr",
     "output_type": "stream",
     "text": [
      "Epoch [1/50]:  57%|█████▋    | 4/7 [00:06<00:04,  1.54s/it]"
     ]
    },
    {
     "name": "stdout",
     "output_type": "stream",
     "text": [
      "torch.Size([50, 128, 128])\n"
     ]
    },
    {
     "name": "stderr",
     "output_type": "stream",
     "text": [
      "Epoch [1/50]:  71%|███████▏  | 5/7 [00:07<00:03,  1.54s/it]"
     ]
    },
    {
     "name": "stdout",
     "output_type": "stream",
     "text": [
      "torch.Size([50, 128, 128])\n"
     ]
    },
    {
     "name": "stderr",
     "output_type": "stream",
     "text": [
      "Epoch [1/50]:  86%|████████▌ | 6/7 [00:09<00:01,  1.54s/it]"
     ]
    },
    {
     "name": "stdout",
     "output_type": "stream",
     "text": [
      "torch.Size([50, 128, 128])\n"
     ]
    },
    {
     "name": "stderr",
     "output_type": "stream",
     "text": [
      "                                                           "
     ]
    },
    {
     "name": "stdout",
     "output_type": "stream",
     "text": [
      "torch.Size([44, 128, 128])\n",
      "Epoch [1/50], Loss: 0.6945\n"
     ]
    },
    {
     "name": "stderr",
     "output_type": "stream",
     "text": [
      "\r"
     ]
    },
    {
     "name": "stdout",
     "output_type": "stream",
     "text": [
      "torch.Size([48, 128, 128])\n",
      "Validation Loss: 0.6938\n"
     ]
    },
    {
     "name": "stderr",
     "output_type": "stream",
     "text": [
      "Epoch [2/50]:  14%|█▍        | 1/7 [00:01<00:09,  1.54s/it]"
     ]
    },
    {
     "name": "stdout",
     "output_type": "stream",
     "text": [
      "torch.Size([50, 128, 128])\n"
     ]
    },
    {
     "name": "stderr",
     "output_type": "stream",
     "text": [
      "Epoch [2/50]:  29%|██▊       | 2/7 [00:03<00:07,  1.53s/it]"
     ]
    },
    {
     "name": "stdout",
     "output_type": "stream",
     "text": [
      "torch.Size([50, 128, 128])\n"
     ]
    },
    {
     "name": "stderr",
     "output_type": "stream",
     "text": [
      "Epoch [2/50]:  43%|████▎     | 3/7 [00:04<00:06,  1.53s/it]"
     ]
    },
    {
     "name": "stdout",
     "output_type": "stream",
     "text": [
      "torch.Size([50, 128, 128])\n"
     ]
    },
    {
     "name": "stderr",
     "output_type": "stream",
     "text": [
      "Epoch [2/50]:  57%|█████▋    | 4/7 [00:06<00:04,  1.63s/it]"
     ]
    },
    {
     "name": "stdout",
     "output_type": "stream",
     "text": [
      "torch.Size([50, 128, 128])\n"
     ]
    },
    {
     "name": "stderr",
     "output_type": "stream",
     "text": [
      "Epoch [2/50]:  71%|███████▏  | 5/7 [00:07<00:03,  1.59s/it]"
     ]
    },
    {
     "name": "stdout",
     "output_type": "stream",
     "text": [
      "torch.Size([50, 128, 128])\n"
     ]
    },
    {
     "name": "stderr",
     "output_type": "stream",
     "text": [
      "Epoch [2/50]:  86%|████████▌ | 6/7 [00:09<00:01,  1.57s/it]"
     ]
    },
    {
     "name": "stdout",
     "output_type": "stream",
     "text": [
      "torch.Size([50, 128, 128])\n"
     ]
    },
    {
     "name": "stderr",
     "output_type": "stream",
     "text": [
      "                                                           "
     ]
    },
    {
     "name": "stdout",
     "output_type": "stream",
     "text": [
      "torch.Size([44, 128, 128])\n",
      "Epoch [2/50], Loss: 0.6942\n"
     ]
    },
    {
     "name": "stderr",
     "output_type": "stream",
     "text": [
      "\r"
     ]
    },
    {
     "name": "stdout",
     "output_type": "stream",
     "text": [
      "torch.Size([48, 128, 128])\n",
      "Validation Loss: 0.6937\n"
     ]
    },
    {
     "name": "stderr",
     "output_type": "stream",
     "text": [
      "Epoch [3/50]:  14%|█▍        | 1/7 [00:01<00:09,  1.52s/it]"
     ]
    },
    {
     "name": "stdout",
     "output_type": "stream",
     "text": [
      "torch.Size([50, 128, 128])\n"
     ]
    },
    {
     "name": "stderr",
     "output_type": "stream",
     "text": [
      "Epoch [3/50]:  29%|██▊       | 2/7 [00:03<00:07,  1.53s/it]"
     ]
    },
    {
     "name": "stdout",
     "output_type": "stream",
     "text": [
      "torch.Size([50, 128, 128])\n"
     ]
    },
    {
     "name": "stderr",
     "output_type": "stream",
     "text": [
      "Epoch [3/50]:  43%|████▎     | 3/7 [00:04<00:06,  1.53s/it]"
     ]
    },
    {
     "name": "stdout",
     "output_type": "stream",
     "text": [
      "torch.Size([50, 128, 128])\n"
     ]
    },
    {
     "name": "stderr",
     "output_type": "stream",
     "text": [
      "Epoch [3/50]:  57%|█████▋    | 4/7 [00:05<00:04,  1.48s/it]"
     ]
    },
    {
     "name": "stdout",
     "output_type": "stream",
     "text": [
      "torch.Size([50, 128, 128])\n"
     ]
    },
    {
     "name": "stderr",
     "output_type": "stream",
     "text": [
      "Epoch [3/50]:  71%|███████▏  | 5/7 [00:07<00:02,  1.49s/it]"
     ]
    },
    {
     "name": "stdout",
     "output_type": "stream",
     "text": [
      "torch.Size([50, 128, 128])\n"
     ]
    },
    {
     "name": "stderr",
     "output_type": "stream",
     "text": [
      "Epoch [3/50]:  86%|████████▌ | 6/7 [00:09<00:01,  1.51s/it]"
     ]
    },
    {
     "name": "stdout",
     "output_type": "stream",
     "text": [
      "torch.Size([50, 128, 128])\n"
     ]
    },
    {
     "name": "stderr",
     "output_type": "stream",
     "text": [
      "                                                           "
     ]
    },
    {
     "name": "stdout",
     "output_type": "stream",
     "text": [
      "torch.Size([44, 128, 128])\n",
      "Epoch [3/50], Loss: 0.6940\n"
     ]
    },
    {
     "name": "stderr",
     "output_type": "stream",
     "text": [
      "\r"
     ]
    },
    {
     "name": "stdout",
     "output_type": "stream",
     "text": [
      "torch.Size([48, 128, 128])\n",
      "Validation Loss: 0.6934\n"
     ]
    },
    {
     "name": "stderr",
     "output_type": "stream",
     "text": [
      "Epoch [4/50]:  14%|█▍        | 1/7 [00:01<00:09,  1.53s/it]"
     ]
    },
    {
     "name": "stdout",
     "output_type": "stream",
     "text": [
      "torch.Size([50, 128, 128])\n"
     ]
    },
    {
     "name": "stderr",
     "output_type": "stream",
     "text": [
      "Epoch [4/50]:  29%|██▊       | 2/7 [00:03<00:07,  1.53s/it]"
     ]
    },
    {
     "name": "stdout",
     "output_type": "stream",
     "text": [
      "torch.Size([50, 128, 128])\n"
     ]
    },
    {
     "name": "stderr",
     "output_type": "stream",
     "text": [
      "Epoch [4/50]:  43%|████▎     | 3/7 [00:04<00:06,  1.50s/it]"
     ]
    },
    {
     "name": "stdout",
     "output_type": "stream",
     "text": [
      "torch.Size([50, 128, 128])\n"
     ]
    },
    {
     "name": "stderr",
     "output_type": "stream",
     "text": [
      "Epoch [4/50]:  57%|█████▋    | 4/7 [00:05<00:04,  1.47s/it]"
     ]
    },
    {
     "name": "stdout",
     "output_type": "stream",
     "text": [
      "torch.Size([50, 128, 128])\n"
     ]
    },
    {
     "name": "stderr",
     "output_type": "stream",
     "text": [
      "Epoch [4/50]:  71%|███████▏  | 5/7 [00:07<00:02,  1.49s/it]"
     ]
    },
    {
     "name": "stdout",
     "output_type": "stream",
     "text": [
      "torch.Size([50, 128, 128])\n"
     ]
    },
    {
     "name": "stderr",
     "output_type": "stream",
     "text": [
      "Epoch [4/50]:  86%|████████▌ | 6/7 [00:09<00:01,  1.51s/it]"
     ]
    },
    {
     "name": "stdout",
     "output_type": "stream",
     "text": [
      "torch.Size([50, 128, 128])\n"
     ]
    },
    {
     "name": "stderr",
     "output_type": "stream",
     "text": [
      "                                                           "
     ]
    },
    {
     "name": "stdout",
     "output_type": "stream",
     "text": [
      "torch.Size([44, 128, 128])\n",
      "Epoch [4/50], Loss: 0.6936\n"
     ]
    },
    {
     "name": "stderr",
     "output_type": "stream",
     "text": [
      "\r"
     ]
    },
    {
     "name": "stdout",
     "output_type": "stream",
     "text": [
      "torch.Size([48, 128, 128])\n",
      "Validation Loss: 0.6928\n"
     ]
    },
    {
     "name": "stderr",
     "output_type": "stream",
     "text": [
      "Epoch [5/50]:  14%|█▍        | 1/7 [00:01<00:09,  1.53s/it]"
     ]
    },
    {
     "name": "stdout",
     "output_type": "stream",
     "text": [
      "torch.Size([50, 128, 128])\n"
     ]
    },
    {
     "name": "stderr",
     "output_type": "stream",
     "text": [
      "Epoch [5/50]:  29%|██▊       | 2/7 [00:02<00:07,  1.47s/it]"
     ]
    },
    {
     "name": "stdout",
     "output_type": "stream",
     "text": [
      "torch.Size([50, 128, 128])\n"
     ]
    },
    {
     "name": "stderr",
     "output_type": "stream",
     "text": [
      "Epoch [5/50]:  43%|████▎     | 3/7 [00:04<00:05,  1.44s/it]"
     ]
    },
    {
     "name": "stdout",
     "output_type": "stream",
     "text": [
      "torch.Size([50, 128, 128])\n"
     ]
    },
    {
     "name": "stderr",
     "output_type": "stream",
     "text": [
      "Epoch [5/50]:  57%|█████▋    | 4/7 [00:05<00:04,  1.47s/it]"
     ]
    },
    {
     "name": "stdout",
     "output_type": "stream",
     "text": [
      "torch.Size([50, 128, 128])\n"
     ]
    },
    {
     "name": "stderr",
     "output_type": "stream",
     "text": [
      "Epoch [5/50]:  71%|███████▏  | 5/7 [00:07<00:02,  1.49s/it]"
     ]
    },
    {
     "name": "stdout",
     "output_type": "stream",
     "text": [
      "torch.Size([50, 128, 128])\n"
     ]
    },
    {
     "name": "stderr",
     "output_type": "stream",
     "text": [
      "Epoch [5/50]:  86%|████████▌ | 6/7 [00:08<00:01,  1.51s/it]"
     ]
    },
    {
     "name": "stdout",
     "output_type": "stream",
     "text": [
      "torch.Size([50, 128, 128])\n"
     ]
    },
    {
     "name": "stderr",
     "output_type": "stream",
     "text": [
      "                                                           "
     ]
    },
    {
     "name": "stdout",
     "output_type": "stream",
     "text": [
      "torch.Size([44, 128, 128])\n",
      "Epoch [5/50], Loss: 0.6928\n"
     ]
    },
    {
     "name": "stderr",
     "output_type": "stream",
     "text": [
      "\r"
     ]
    },
    {
     "name": "stdout",
     "output_type": "stream",
     "text": [
      "torch.Size([48, 128, 128])\n",
      "Validation Loss: 0.6919\n"
     ]
    },
    {
     "name": "stderr",
     "output_type": "stream",
     "text": [
      "Epoch [6/50]:  14%|█▍        | 1/7 [00:01<00:09,  1.53s/it]"
     ]
    },
    {
     "name": "stdout",
     "output_type": "stream",
     "text": [
      "torch.Size([50, 128, 128])\n"
     ]
    },
    {
     "name": "stderr",
     "output_type": "stream",
     "text": [
      "Epoch [6/50]:  29%|██▊       | 2/7 [00:03<00:07,  1.53s/it]"
     ]
    },
    {
     "name": "stdout",
     "output_type": "stream",
     "text": [
      "torch.Size([50, 128, 128])\n"
     ]
    },
    {
     "name": "stderr",
     "output_type": "stream",
     "text": [
      "Epoch [6/50]:  43%|████▎     | 3/7 [00:04<00:06,  1.53s/it]"
     ]
    },
    {
     "name": "stdout",
     "output_type": "stream",
     "text": [
      "torch.Size([50, 128, 128])\n"
     ]
    },
    {
     "name": "stderr",
     "output_type": "stream",
     "text": [
      "Epoch [6/50]:  57%|█████▋    | 4/7 [00:06<00:04,  1.53s/it]"
     ]
    },
    {
     "name": "stdout",
     "output_type": "stream",
     "text": [
      "torch.Size([50, 128, 128])\n"
     ]
    },
    {
     "name": "stderr",
     "output_type": "stream",
     "text": [
      "Epoch [6/50]:  71%|███████▏  | 5/7 [00:07<00:03,  1.53s/it]"
     ]
    },
    {
     "name": "stdout",
     "output_type": "stream",
     "text": [
      "torch.Size([50, 128, 128])\n"
     ]
    },
    {
     "name": "stderr",
     "output_type": "stream",
     "text": [
      "Epoch [6/50]:  86%|████████▌ | 6/7 [00:09<00:01,  1.53s/it]"
     ]
    },
    {
     "name": "stdout",
     "output_type": "stream",
     "text": [
      "torch.Size([50, 128, 128])\n"
     ]
    },
    {
     "name": "stderr",
     "output_type": "stream",
     "text": [
      "                                                           "
     ]
    },
    {
     "name": "stdout",
     "output_type": "stream",
     "text": [
      "torch.Size([44, 128, 128])\n",
      "Epoch [6/50], Loss: 0.6917\n"
     ]
    },
    {
     "name": "stderr",
     "output_type": "stream",
     "text": [
      "\r"
     ]
    },
    {
     "name": "stdout",
     "output_type": "stream",
     "text": [
      "torch.Size([48, 128, 128])\n",
      "Validation Loss: 0.6900\n"
     ]
    },
    {
     "name": "stderr",
     "output_type": "stream",
     "text": [
      "Epoch [7/50]:  14%|█▍        | 1/7 [00:01<00:09,  1.54s/it]"
     ]
    },
    {
     "name": "stdout",
     "output_type": "stream",
     "text": [
      "torch.Size([50, 128, 128])\n"
     ]
    },
    {
     "name": "stderr",
     "output_type": "stream",
     "text": [
      "Epoch [7/50]:  29%|██▊       | 2/7 [00:02<00:07,  1.47s/it]"
     ]
    },
    {
     "name": "stdout",
     "output_type": "stream",
     "text": [
      "torch.Size([50, 128, 128])\n"
     ]
    },
    {
     "name": "stderr",
     "output_type": "stream",
     "text": [
      "Epoch [7/50]:  43%|████▎     | 3/7 [00:04<00:05,  1.45s/it]"
     ]
    },
    {
     "name": "stdout",
     "output_type": "stream",
     "text": [
      "torch.Size([50, 128, 128])\n"
     ]
    },
    {
     "name": "stderr",
     "output_type": "stream",
     "text": [
      "Epoch [7/50]:  57%|█████▋    | 4/7 [00:05<00:04,  1.43s/it]"
     ]
    },
    {
     "name": "stdout",
     "output_type": "stream",
     "text": [
      "torch.Size([50, 128, 128])\n"
     ]
    },
    {
     "name": "stderr",
     "output_type": "stream",
     "text": [
      "Epoch [7/50]:  71%|███████▏  | 5/7 [00:07<00:02,  1.46s/it]"
     ]
    },
    {
     "name": "stdout",
     "output_type": "stream",
     "text": [
      "torch.Size([50, 128, 128])\n"
     ]
    },
    {
     "name": "stderr",
     "output_type": "stream",
     "text": [
      "Epoch [7/50]:  86%|████████▌ | 6/7 [00:08<00:01,  1.48s/it]"
     ]
    },
    {
     "name": "stdout",
     "output_type": "stream",
     "text": [
      "torch.Size([50, 128, 128])\n"
     ]
    },
    {
     "name": "stderr",
     "output_type": "stream",
     "text": [
      "                                                           "
     ]
    },
    {
     "name": "stdout",
     "output_type": "stream",
     "text": [
      "torch.Size([44, 128, 128])\n",
      "Epoch [7/50], Loss: 0.6896\n"
     ]
    },
    {
     "name": "stderr",
     "output_type": "stream",
     "text": [
      "\r"
     ]
    },
    {
     "name": "stdout",
     "output_type": "stream",
     "text": [
      "torch.Size([48, 128, 128])\n",
      "Validation Loss: 0.6867\n"
     ]
    },
    {
     "name": "stderr",
     "output_type": "stream",
     "text": [
      "Epoch [8/50]:  14%|█▍        | 1/7 [00:01<00:09,  1.52s/it]"
     ]
    },
    {
     "name": "stdout",
     "output_type": "stream",
     "text": [
      "torch.Size([50, 128, 128])\n"
     ]
    },
    {
     "name": "stderr",
     "output_type": "stream",
     "text": [
      "Epoch [8/50]:  29%|██▊       | 2/7 [00:03<00:07,  1.53s/it]"
     ]
    },
    {
     "name": "stdout",
     "output_type": "stream",
     "text": [
      "torch.Size([50, 128, 128])\n"
     ]
    },
    {
     "name": "stderr",
     "output_type": "stream",
     "text": [
      "Epoch [8/50]:  43%|████▎     | 3/7 [00:04<00:06,  1.54s/it]"
     ]
    },
    {
     "name": "stdout",
     "output_type": "stream",
     "text": [
      "torch.Size([50, 128, 128])\n"
     ]
    },
    {
     "name": "stderr",
     "output_type": "stream",
     "text": [
      "Epoch [8/50]:  57%|█████▋    | 4/7 [00:06<00:04,  1.53s/it]"
     ]
    },
    {
     "name": "stdout",
     "output_type": "stream",
     "text": [
      "torch.Size([50, 128, 128])\n"
     ]
    },
    {
     "name": "stderr",
     "output_type": "stream",
     "text": [
      "Epoch [8/50]:  71%|███████▏  | 5/7 [00:07<00:03,  1.53s/it]"
     ]
    },
    {
     "name": "stdout",
     "output_type": "stream",
     "text": [
      "torch.Size([50, 128, 128])\n"
     ]
    },
    {
     "name": "stderr",
     "output_type": "stream",
     "text": [
      "Epoch [8/50]:  86%|████████▌ | 6/7 [00:09<00:01,  1.53s/it]"
     ]
    },
    {
     "name": "stdout",
     "output_type": "stream",
     "text": [
      "torch.Size([50, 128, 128])\n"
     ]
    },
    {
     "name": "stderr",
     "output_type": "stream",
     "text": [
      "                                                           "
     ]
    },
    {
     "name": "stdout",
     "output_type": "stream",
     "text": [
      "torch.Size([44, 128, 128])\n",
      "Epoch [8/50], Loss: 0.6867\n"
     ]
    },
    {
     "name": "stderr",
     "output_type": "stream",
     "text": [
      "\r"
     ]
    },
    {
     "name": "stdout",
     "output_type": "stream",
     "text": [
      "torch.Size([48, 128, 128])\n",
      "Validation Loss: 0.6816\n"
     ]
    },
    {
     "name": "stderr",
     "output_type": "stream",
     "text": [
      "Epoch [9/50]:  14%|█▍        | 1/7 [00:01<00:09,  1.53s/it]"
     ]
    },
    {
     "name": "stdout",
     "output_type": "stream",
     "text": [
      "torch.Size([50, 128, 128])\n"
     ]
    },
    {
     "name": "stderr",
     "output_type": "stream",
     "text": [
      "Epoch [9/50]:  29%|██▊       | 2/7 [00:03<00:07,  1.53s/it]"
     ]
    },
    {
     "name": "stdout",
     "output_type": "stream",
     "text": [
      "torch.Size([50, 128, 128])\n"
     ]
    },
    {
     "name": "stderr",
     "output_type": "stream",
     "text": [
      "Epoch [9/50]:  43%|████▎     | 3/7 [00:04<00:06,  1.53s/it]"
     ]
    },
    {
     "name": "stdout",
     "output_type": "stream",
     "text": [
      "torch.Size([50, 128, 128])\n"
     ]
    },
    {
     "name": "stderr",
     "output_type": "stream",
     "text": [
      "Epoch [9/50]:  57%|█████▋    | 4/7 [00:06<00:04,  1.53s/it]"
     ]
    },
    {
     "name": "stdout",
     "output_type": "stream",
     "text": [
      "torch.Size([50, 128, 128])\n"
     ]
    },
    {
     "name": "stderr",
     "output_type": "stream",
     "text": [
      "Epoch [9/50]:  71%|███████▏  | 5/7 [00:07<00:03,  1.53s/it]"
     ]
    },
    {
     "name": "stdout",
     "output_type": "stream",
     "text": [
      "torch.Size([50, 128, 128])\n"
     ]
    },
    {
     "name": "stderr",
     "output_type": "stream",
     "text": [
      "Epoch [9/50]:  86%|████████▌ | 6/7 [00:09<00:01,  1.53s/it]"
     ]
    },
    {
     "name": "stdout",
     "output_type": "stream",
     "text": [
      "torch.Size([50, 128, 128])\n"
     ]
    },
    {
     "name": "stderr",
     "output_type": "stream",
     "text": [
      "                                                           "
     ]
    },
    {
     "name": "stdout",
     "output_type": "stream",
     "text": [
      "torch.Size([44, 128, 128])\n",
      "Epoch [9/50], Loss: 0.6803\n"
     ]
    },
    {
     "name": "stderr",
     "output_type": "stream",
     "text": [
      "\r"
     ]
    },
    {
     "name": "stdout",
     "output_type": "stream",
     "text": [
      "torch.Size([48, 128, 128])\n",
      "Validation Loss: 0.6733\n"
     ]
    },
    {
     "name": "stderr",
     "output_type": "stream",
     "text": [
      "Epoch [10/50]:  14%|█▍        | 1/7 [00:01<00:09,  1.52s/it]"
     ]
    },
    {
     "name": "stdout",
     "output_type": "stream",
     "text": [
      "torch.Size([50, 128, 128])\n"
     ]
    },
    {
     "name": "stderr",
     "output_type": "stream",
     "text": [
      "Epoch [10/50]:  29%|██▊       | 2/7 [00:03<00:07,  1.53s/it]"
     ]
    },
    {
     "name": "stdout",
     "output_type": "stream",
     "text": [
      "torch.Size([50, 128, 128])\n"
     ]
    },
    {
     "name": "stderr",
     "output_type": "stream",
     "text": [
      "Epoch [10/50]:  43%|████▎     | 3/7 [00:04<00:06,  1.53s/it]"
     ]
    },
    {
     "name": "stdout",
     "output_type": "stream",
     "text": [
      "torch.Size([50, 128, 128])\n"
     ]
    },
    {
     "name": "stderr",
     "output_type": "stream",
     "text": [
      "Epoch [10/50]:  57%|█████▋    | 4/7 [00:06<00:04,  1.53s/it]"
     ]
    },
    {
     "name": "stdout",
     "output_type": "stream",
     "text": [
      "torch.Size([50, 128, 128])\n"
     ]
    },
    {
     "name": "stderr",
     "output_type": "stream",
     "text": [
      "Epoch [10/50]:  71%|███████▏  | 5/7 [00:07<00:03,  1.53s/it]"
     ]
    },
    {
     "name": "stdout",
     "output_type": "stream",
     "text": [
      "torch.Size([50, 128, 128])\n"
     ]
    },
    {
     "name": "stderr",
     "output_type": "stream",
     "text": [
      "Epoch [10/50]:  86%|████████▌ | 6/7 [00:09<00:01,  1.53s/it]"
     ]
    },
    {
     "name": "stdout",
     "output_type": "stream",
     "text": [
      "torch.Size([50, 128, 128])\n"
     ]
    },
    {
     "name": "stderr",
     "output_type": "stream",
     "text": [
      "                                                            "
     ]
    },
    {
     "name": "stdout",
     "output_type": "stream",
     "text": [
      "torch.Size([44, 128, 128])\n",
      "Epoch [10/50], Loss: 0.6726\n"
     ]
    },
    {
     "name": "stderr",
     "output_type": "stream",
     "text": [
      "\r"
     ]
    },
    {
     "name": "stdout",
     "output_type": "stream",
     "text": [
      "torch.Size([48, 128, 128])\n",
      "Validation Loss: 0.6597\n"
     ]
    },
    {
     "name": "stderr",
     "output_type": "stream",
     "text": [
      "Epoch [11/50]:  14%|█▍        | 1/7 [00:01<00:10,  1.80s/it]"
     ]
    },
    {
     "name": "stdout",
     "output_type": "stream",
     "text": [
      "torch.Size([50, 128, 128])\n"
     ]
    },
    {
     "name": "stderr",
     "output_type": "stream",
     "text": [
      "Epoch [11/50]:  29%|██▊       | 2/7 [00:03<00:08,  1.64s/it]"
     ]
    },
    {
     "name": "stdout",
     "output_type": "stream",
     "text": [
      "torch.Size([50, 128, 128])\n"
     ]
    },
    {
     "name": "stderr",
     "output_type": "stream",
     "text": [
      "Epoch [11/50]:  43%|████▎     | 3/7 [00:04<00:06,  1.58s/it]"
     ]
    },
    {
     "name": "stdout",
     "output_type": "stream",
     "text": [
      "torch.Size([50, 128, 128])\n"
     ]
    },
    {
     "name": "stderr",
     "output_type": "stream",
     "text": [
      "Epoch [11/50]:  57%|█████▋    | 4/7 [00:06<00:04,  1.51s/it]"
     ]
    },
    {
     "name": "stdout",
     "output_type": "stream",
     "text": [
      "torch.Size([50, 128, 128])\n"
     ]
    },
    {
     "name": "stderr",
     "output_type": "stream",
     "text": [
      "Epoch [11/50]:  71%|███████▏  | 5/7 [00:07<00:02,  1.47s/it]"
     ]
    },
    {
     "name": "stdout",
     "output_type": "stream",
     "text": [
      "torch.Size([50, 128, 128])\n"
     ]
    },
    {
     "name": "stderr",
     "output_type": "stream",
     "text": [
      "Epoch [11/50]:  86%|████████▌ | 6/7 [00:09<00:01,  1.50s/it]"
     ]
    },
    {
     "name": "stdout",
     "output_type": "stream",
     "text": [
      "torch.Size([50, 128, 128])\n"
     ]
    },
    {
     "name": "stderr",
     "output_type": "stream",
     "text": [
      "                                                            "
     ]
    },
    {
     "name": "stdout",
     "output_type": "stream",
     "text": [
      "torch.Size([44, 128, 128])\n",
      "Epoch [11/50], Loss: 0.6605\n"
     ]
    },
    {
     "name": "stderr",
     "output_type": "stream",
     "text": [
      "\r"
     ]
    },
    {
     "name": "stdout",
     "output_type": "stream",
     "text": [
      "torch.Size([48, 128, 128])\n",
      "Validation Loss: 0.6417\n"
     ]
    },
    {
     "name": "stderr",
     "output_type": "stream",
     "text": [
      "Epoch [12/50]:  14%|█▍        | 1/7 [00:01<00:09,  1.55s/it]"
     ]
    },
    {
     "name": "stdout",
     "output_type": "stream",
     "text": [
      "torch.Size([50, 128, 128])\n"
     ]
    },
    {
     "name": "stderr",
     "output_type": "stream",
     "text": [
      "Epoch [12/50]:  29%|██▊       | 2/7 [00:03<00:07,  1.55s/it]"
     ]
    },
    {
     "name": "stdout",
     "output_type": "stream",
     "text": [
      "torch.Size([50, 128, 128])\n"
     ]
    },
    {
     "name": "stderr",
     "output_type": "stream",
     "text": [
      "Epoch [12/50]:  43%|████▎     | 3/7 [00:04<00:06,  1.55s/it]"
     ]
    },
    {
     "name": "stdout",
     "output_type": "stream",
     "text": [
      "torch.Size([50, 128, 128])\n"
     ]
    },
    {
     "name": "stderr",
     "output_type": "stream",
     "text": [
      "Epoch [12/50]:  57%|█████▋    | 4/7 [00:06<00:04,  1.55s/it]"
     ]
    },
    {
     "name": "stdout",
     "output_type": "stream",
     "text": [
      "torch.Size([50, 128, 128])\n"
     ]
    },
    {
     "name": "stderr",
     "output_type": "stream",
     "text": [
      "Epoch [12/50]:  71%|███████▏  | 5/7 [00:07<00:03,  1.55s/it]"
     ]
    },
    {
     "name": "stdout",
     "output_type": "stream",
     "text": [
      "torch.Size([50, 128, 128])\n"
     ]
    },
    {
     "name": "stderr",
     "output_type": "stream",
     "text": [
      "Epoch [12/50]:  86%|████████▌ | 6/7 [00:09<00:01,  1.54s/it]"
     ]
    },
    {
     "name": "stdout",
     "output_type": "stream",
     "text": [
      "torch.Size([50, 128, 128])\n"
     ]
    },
    {
     "name": "stderr",
     "output_type": "stream",
     "text": [
      "                                                            "
     ]
    },
    {
     "name": "stdout",
     "output_type": "stream",
     "text": [
      "torch.Size([44, 128, 128])\n",
      "Epoch [12/50], Loss: 0.6453\n"
     ]
    },
    {
     "name": "stderr",
     "output_type": "stream",
     "text": [
      "\r"
     ]
    },
    {
     "name": "stdout",
     "output_type": "stream",
     "text": [
      "torch.Size([48, 128, 128])\n",
      "Validation Loss: 0.6207\n"
     ]
    },
    {
     "name": "stderr",
     "output_type": "stream",
     "text": [
      "Epoch [13/50]:  14%|█▍        | 1/7 [00:01<00:09,  1.53s/it]"
     ]
    },
    {
     "name": "stdout",
     "output_type": "stream",
     "text": [
      "torch.Size([50, 128, 128])\n"
     ]
    },
    {
     "name": "stderr",
     "output_type": "stream",
     "text": [
      "Epoch [13/50]:  29%|██▊       | 2/7 [00:03<00:07,  1.53s/it]"
     ]
    },
    {
     "name": "stdout",
     "output_type": "stream",
     "text": [
      "torch.Size([50, 128, 128])\n"
     ]
    },
    {
     "name": "stderr",
     "output_type": "stream",
     "text": [
      "Epoch [13/50]:  43%|████▎     | 3/7 [00:04<00:06,  1.55s/it]"
     ]
    },
    {
     "name": "stdout",
     "output_type": "stream",
     "text": [
      "torch.Size([50, 128, 128])\n"
     ]
    },
    {
     "name": "stderr",
     "output_type": "stream",
     "text": [
      "Epoch [13/50]:  57%|█████▋    | 4/7 [00:06<00:04,  1.56s/it]"
     ]
    },
    {
     "name": "stdout",
     "output_type": "stream",
     "text": [
      "torch.Size([50, 128, 128])\n"
     ]
    },
    {
     "name": "stderr",
     "output_type": "stream",
     "text": [
      "Epoch [13/50]:  71%|███████▏  | 5/7 [00:07<00:03,  1.55s/it]"
     ]
    },
    {
     "name": "stdout",
     "output_type": "stream",
     "text": [
      "torch.Size([50, 128, 128])\n"
     ]
    },
    {
     "name": "stderr",
     "output_type": "stream",
     "text": [
      "Epoch [13/50]:  86%|████████▌ | 6/7 [00:09<00:01,  1.55s/it]"
     ]
    },
    {
     "name": "stdout",
     "output_type": "stream",
     "text": [
      "torch.Size([50, 128, 128])\n"
     ]
    },
    {
     "name": "stderr",
     "output_type": "stream",
     "text": [
      "                                                            "
     ]
    },
    {
     "name": "stdout",
     "output_type": "stream",
     "text": [
      "torch.Size([44, 128, 128])\n",
      "Epoch [13/50], Loss: 0.6322\n"
     ]
    },
    {
     "name": "stderr",
     "output_type": "stream",
     "text": [
      "\r"
     ]
    },
    {
     "name": "stdout",
     "output_type": "stream",
     "text": [
      "torch.Size([48, 128, 128])\n",
      "Validation Loss: 0.5971\n"
     ]
    },
    {
     "name": "stderr",
     "output_type": "stream",
     "text": [
      "Epoch [14/50]:  14%|█▍        | 1/7 [00:01<00:09,  1.54s/it]"
     ]
    },
    {
     "name": "stdout",
     "output_type": "stream",
     "text": [
      "torch.Size([50, 128, 128])\n"
     ]
    },
    {
     "name": "stderr",
     "output_type": "stream",
     "text": [
      "Epoch [14/50]:  29%|██▊       | 2/7 [00:03<00:07,  1.54s/it]"
     ]
    },
    {
     "name": "stdout",
     "output_type": "stream",
     "text": [
      "torch.Size([50, 128, 128])\n"
     ]
    },
    {
     "name": "stderr",
     "output_type": "stream",
     "text": [
      "Epoch [14/50]:  43%|████▎     | 3/7 [00:04<00:06,  1.54s/it]"
     ]
    },
    {
     "name": "stdout",
     "output_type": "stream",
     "text": [
      "torch.Size([50, 128, 128])\n"
     ]
    },
    {
     "name": "stderr",
     "output_type": "stream",
     "text": [
      "Epoch [14/50]:  57%|█████▋    | 4/7 [00:06<00:04,  1.54s/it]"
     ]
    },
    {
     "name": "stdout",
     "output_type": "stream",
     "text": [
      "torch.Size([50, 128, 128])\n"
     ]
    },
    {
     "name": "stderr",
     "output_type": "stream",
     "text": [
      "Epoch [14/50]:  71%|███████▏  | 5/7 [00:07<00:03,  1.55s/it]"
     ]
    },
    {
     "name": "stdout",
     "output_type": "stream",
     "text": [
      "torch.Size([50, 128, 128])\n"
     ]
    },
    {
     "name": "stderr",
     "output_type": "stream",
     "text": [
      "Epoch [14/50]:  86%|████████▌ | 6/7 [00:09<00:01,  1.55s/it]"
     ]
    },
    {
     "name": "stdout",
     "output_type": "stream",
     "text": [
      "torch.Size([50, 128, 128])\n"
     ]
    },
    {
     "name": "stderr",
     "output_type": "stream",
     "text": [
      "                                                            "
     ]
    },
    {
     "name": "stdout",
     "output_type": "stream",
     "text": [
      "torch.Size([44, 128, 128])\n",
      "Epoch [14/50], Loss: 0.6205\n"
     ]
    },
    {
     "name": "stderr",
     "output_type": "stream",
     "text": [
      "\r"
     ]
    },
    {
     "name": "stdout",
     "output_type": "stream",
     "text": [
      "torch.Size([48, 128, 128])\n",
      "Validation Loss: 0.5926\n"
     ]
    },
    {
     "name": "stderr",
     "output_type": "stream",
     "text": [
      "Epoch [15/50]:  14%|█▍        | 1/7 [00:01<00:09,  1.56s/it]"
     ]
    },
    {
     "name": "stdout",
     "output_type": "stream",
     "text": [
      "torch.Size([50, 128, 128])\n"
     ]
    },
    {
     "name": "stderr",
     "output_type": "stream",
     "text": [
      "Epoch [15/50]:  29%|██▊       | 2/7 [00:03<00:07,  1.56s/it]"
     ]
    },
    {
     "name": "stdout",
     "output_type": "stream",
     "text": [
      "torch.Size([50, 128, 128])\n"
     ]
    },
    {
     "name": "stderr",
     "output_type": "stream",
     "text": [
      "Epoch [15/50]:  43%|████▎     | 3/7 [00:04<00:06,  1.55s/it]"
     ]
    },
    {
     "name": "stdout",
     "output_type": "stream",
     "text": [
      "torch.Size([50, 128, 128])\n"
     ]
    },
    {
     "name": "stderr",
     "output_type": "stream",
     "text": [
      "Epoch [15/50]:  57%|█████▋    | 4/7 [00:06<00:04,  1.54s/it]"
     ]
    },
    {
     "name": "stdout",
     "output_type": "stream",
     "text": [
      "torch.Size([50, 128, 128])\n"
     ]
    },
    {
     "name": "stderr",
     "output_type": "stream",
     "text": [
      "Epoch [15/50]:  71%|███████▏  | 5/7 [00:07<00:03,  1.51s/it]"
     ]
    },
    {
     "name": "stdout",
     "output_type": "stream",
     "text": [
      "torch.Size([50, 128, 128])\n"
     ]
    },
    {
     "name": "stderr",
     "output_type": "stream",
     "text": [
      "Epoch [15/50]:  86%|████████▌ | 6/7 [00:09<00:01,  1.49s/it]"
     ]
    },
    {
     "name": "stdout",
     "output_type": "stream",
     "text": [
      "torch.Size([50, 128, 128])\n"
     ]
    },
    {
     "name": "stderr",
     "output_type": "stream",
     "text": [
      "                                                            "
     ]
    },
    {
     "name": "stdout",
     "output_type": "stream",
     "text": [
      "torch.Size([44, 128, 128])\n",
      "Epoch [15/50], Loss: 0.6055\n"
     ]
    },
    {
     "name": "stderr",
     "output_type": "stream",
     "text": [
      "\r"
     ]
    },
    {
     "name": "stdout",
     "output_type": "stream",
     "text": [
      "torch.Size([48, 128, 128])\n",
      "Validation Loss: 0.5656\n"
     ]
    },
    {
     "name": "stderr",
     "output_type": "stream",
     "text": [
      "Epoch [16/50]:  14%|█▍        | 1/7 [00:01<00:09,  1.54s/it]"
     ]
    },
    {
     "name": "stdout",
     "output_type": "stream",
     "text": [
      "torch.Size([50, 128, 128])\n"
     ]
    },
    {
     "name": "stderr",
     "output_type": "stream",
     "text": [
      "Epoch [16/50]:  29%|██▊       | 2/7 [00:03<00:07,  1.54s/it]"
     ]
    },
    {
     "name": "stdout",
     "output_type": "stream",
     "text": [
      "torch.Size([50, 128, 128])\n"
     ]
    },
    {
     "name": "stderr",
     "output_type": "stream",
     "text": [
      "Epoch [16/50]:  43%|████▎     | 3/7 [00:04<00:06,  1.54s/it]"
     ]
    },
    {
     "name": "stdout",
     "output_type": "stream",
     "text": [
      "torch.Size([50, 128, 128])\n"
     ]
    },
    {
     "name": "stderr",
     "output_type": "stream",
     "text": [
      "Epoch [16/50]:  57%|█████▋    | 4/7 [00:06<00:04,  1.54s/it]"
     ]
    },
    {
     "name": "stdout",
     "output_type": "stream",
     "text": [
      "torch.Size([50, 128, 128])\n"
     ]
    },
    {
     "name": "stderr",
     "output_type": "stream",
     "text": [
      "Epoch [16/50]:  71%|███████▏  | 5/7 [00:07<00:03,  1.54s/it]"
     ]
    },
    {
     "name": "stdout",
     "output_type": "stream",
     "text": [
      "torch.Size([50, 128, 128])\n"
     ]
    },
    {
     "name": "stderr",
     "output_type": "stream",
     "text": [
      "Epoch [16/50]:  86%|████████▌ | 6/7 [00:09<00:01,  1.54s/it]"
     ]
    },
    {
     "name": "stdout",
     "output_type": "stream",
     "text": [
      "torch.Size([50, 128, 128])\n"
     ]
    },
    {
     "name": "stderr",
     "output_type": "stream",
     "text": [
      "                                                            "
     ]
    },
    {
     "name": "stdout",
     "output_type": "stream",
     "text": [
      "torch.Size([44, 128, 128])\n",
      "Epoch [16/50], Loss: 0.5876\n"
     ]
    },
    {
     "name": "stderr",
     "output_type": "stream",
     "text": [
      "\r"
     ]
    },
    {
     "name": "stdout",
     "output_type": "stream",
     "text": [
      "torch.Size([48, 128, 128])\n",
      "Validation Loss: 0.5676\n"
     ]
    },
    {
     "name": "stderr",
     "output_type": "stream",
     "text": [
      "Epoch [17/50]:  14%|█▍        | 1/7 [00:01<00:09,  1.55s/it]"
     ]
    },
    {
     "name": "stdout",
     "output_type": "stream",
     "text": [
      "torch.Size([50, 128, 128])\n"
     ]
    },
    {
     "name": "stderr",
     "output_type": "stream",
     "text": [
      "Epoch [17/50]:  29%|██▊       | 2/7 [00:03<00:07,  1.51s/it]"
     ]
    },
    {
     "name": "stdout",
     "output_type": "stream",
     "text": [
      "torch.Size([50, 128, 128])\n"
     ]
    },
    {
     "name": "stderr",
     "output_type": "stream",
     "text": [
      "Epoch [17/50]:  43%|████▎     | 3/7 [00:04<00:06,  1.50s/it]"
     ]
    },
    {
     "name": "stdout",
     "output_type": "stream",
     "text": [
      "torch.Size([50, 128, 128])\n"
     ]
    },
    {
     "name": "stderr",
     "output_type": "stream",
     "text": [
      "Epoch [17/50]:  57%|█████▋    | 4/7 [00:05<00:04,  1.47s/it]"
     ]
    },
    {
     "name": "stdout",
     "output_type": "stream",
     "text": [
      "torch.Size([50, 128, 128])\n"
     ]
    },
    {
     "name": "stderr",
     "output_type": "stream",
     "text": [
      "Epoch [17/50]:  71%|███████▏  | 5/7 [00:07<00:02,  1.46s/it]"
     ]
    },
    {
     "name": "stdout",
     "output_type": "stream",
     "text": [
      "torch.Size([50, 128, 128])\n"
     ]
    },
    {
     "name": "stderr",
     "output_type": "stream",
     "text": [
      "Epoch [17/50]:  86%|████████▌ | 6/7 [00:08<00:01,  1.44s/it]"
     ]
    },
    {
     "name": "stdout",
     "output_type": "stream",
     "text": [
      "torch.Size([50, 128, 128])\n"
     ]
    },
    {
     "name": "stderr",
     "output_type": "stream",
     "text": [
      "                                                            "
     ]
    },
    {
     "name": "stdout",
     "output_type": "stream",
     "text": [
      "torch.Size([44, 128, 128])\n",
      "Epoch [17/50], Loss: 0.5708\n"
     ]
    },
    {
     "name": "stderr",
     "output_type": "stream",
     "text": [
      "\r"
     ]
    },
    {
     "name": "stdout",
     "output_type": "stream",
     "text": [
      "torch.Size([48, 128, 128])\n",
      "Validation Loss: 0.5380\n"
     ]
    },
    {
     "name": "stderr",
     "output_type": "stream",
     "text": [
      "Epoch [18/50]:  14%|█▍        | 1/7 [00:01<00:09,  1.53s/it]"
     ]
    },
    {
     "name": "stdout",
     "output_type": "stream",
     "text": [
      "torch.Size([50, 128, 128])\n"
     ]
    },
    {
     "name": "stderr",
     "output_type": "stream",
     "text": [
      "Epoch [18/50]:  29%|██▊       | 2/7 [00:03<00:07,  1.53s/it]"
     ]
    },
    {
     "name": "stdout",
     "output_type": "stream",
     "text": [
      "torch.Size([50, 128, 128])\n"
     ]
    },
    {
     "name": "stderr",
     "output_type": "stream",
     "text": [
      "Epoch [18/50]:  43%|████▎     | 3/7 [00:04<00:06,  1.53s/it]"
     ]
    },
    {
     "name": "stdout",
     "output_type": "stream",
     "text": [
      "torch.Size([50, 128, 128])\n"
     ]
    },
    {
     "name": "stderr",
     "output_type": "stream",
     "text": [
      "Epoch [18/50]:  57%|█████▋    | 4/7 [00:06<00:04,  1.53s/it]"
     ]
    },
    {
     "name": "stdout",
     "output_type": "stream",
     "text": [
      "torch.Size([50, 128, 128])\n"
     ]
    },
    {
     "name": "stderr",
     "output_type": "stream",
     "text": [
      "Epoch [18/50]:  71%|███████▏  | 5/7 [00:07<00:03,  1.53s/it]"
     ]
    },
    {
     "name": "stdout",
     "output_type": "stream",
     "text": [
      "torch.Size([50, 128, 128])\n"
     ]
    },
    {
     "name": "stderr",
     "output_type": "stream",
     "text": [
      "Epoch [18/50]:  86%|████████▌ | 6/7 [00:09<00:01,  1.53s/it]"
     ]
    },
    {
     "name": "stdout",
     "output_type": "stream",
     "text": [
      "torch.Size([50, 128, 128])\n"
     ]
    },
    {
     "name": "stderr",
     "output_type": "stream",
     "text": [
      "                                                            "
     ]
    },
    {
     "name": "stdout",
     "output_type": "stream",
     "text": [
      "torch.Size([44, 128, 128])\n",
      "Epoch [18/50], Loss: 0.5548\n"
     ]
    },
    {
     "name": "stderr",
     "output_type": "stream",
     "text": [
      "\r"
     ]
    },
    {
     "name": "stdout",
     "output_type": "stream",
     "text": [
      "torch.Size([48, 128, 128])\n",
      "Validation Loss: 0.5263\n"
     ]
    },
    {
     "name": "stderr",
     "output_type": "stream",
     "text": [
      "Epoch [19/50]:  14%|█▍        | 1/7 [00:01<00:09,  1.53s/it]"
     ]
    },
    {
     "name": "stdout",
     "output_type": "stream",
     "text": [
      "torch.Size([50, 128, 128])\n"
     ]
    },
    {
     "name": "stderr",
     "output_type": "stream",
     "text": [
      "Epoch [19/50]:  29%|██▊       | 2/7 [00:03<00:07,  1.53s/it]"
     ]
    },
    {
     "name": "stdout",
     "output_type": "stream",
     "text": [
      "torch.Size([50, 128, 128])\n"
     ]
    },
    {
     "name": "stderr",
     "output_type": "stream",
     "text": [
      "Epoch [19/50]:  43%|████▎     | 3/7 [00:04<00:06,  1.53s/it]"
     ]
    },
    {
     "name": "stdout",
     "output_type": "stream",
     "text": [
      "torch.Size([50, 128, 128])\n"
     ]
    },
    {
     "name": "stderr",
     "output_type": "stream",
     "text": [
      "Epoch [19/50]:  57%|█████▋    | 4/7 [00:06<00:04,  1.53s/it]"
     ]
    },
    {
     "name": "stdout",
     "output_type": "stream",
     "text": [
      "torch.Size([50, 128, 128])\n"
     ]
    },
    {
     "name": "stderr",
     "output_type": "stream",
     "text": [
      "Epoch [19/50]:  71%|███████▏  | 5/7 [00:07<00:03,  1.53s/it]"
     ]
    },
    {
     "name": "stdout",
     "output_type": "stream",
     "text": [
      "torch.Size([50, 128, 128])\n"
     ]
    },
    {
     "name": "stderr",
     "output_type": "stream",
     "text": [
      "Epoch [19/50]:  86%|████████▌ | 6/7 [00:09<00:01,  1.53s/it]"
     ]
    },
    {
     "name": "stdout",
     "output_type": "stream",
     "text": [
      "torch.Size([50, 128, 128])\n"
     ]
    },
    {
     "name": "stderr",
     "output_type": "stream",
     "text": [
      "                                                            "
     ]
    },
    {
     "name": "stdout",
     "output_type": "stream",
     "text": [
      "torch.Size([44, 128, 128])\n",
      "Epoch [19/50], Loss: 0.5353\n"
     ]
    },
    {
     "name": "stderr",
     "output_type": "stream",
     "text": [
      "\r"
     ]
    },
    {
     "name": "stdout",
     "output_type": "stream",
     "text": [
      "torch.Size([48, 128, 128])\n",
      "Validation Loss: 0.5099\n"
     ]
    },
    {
     "name": "stderr",
     "output_type": "stream",
     "text": [
      "Epoch [20/50]:  14%|█▍        | 1/7 [00:01<00:09,  1.53s/it]"
     ]
    },
    {
     "name": "stdout",
     "output_type": "stream",
     "text": [
      "torch.Size([50, 128, 128])\n"
     ]
    },
    {
     "name": "stderr",
     "output_type": "stream",
     "text": [
      "Epoch [20/50]:  29%|██▊       | 2/7 [00:03<00:07,  1.53s/it]"
     ]
    },
    {
     "name": "stdout",
     "output_type": "stream",
     "text": [
      "torch.Size([50, 128, 128])\n"
     ]
    },
    {
     "name": "stderr",
     "output_type": "stream",
     "text": [
      "Epoch [20/50]:  43%|████▎     | 3/7 [00:04<00:06,  1.53s/it]"
     ]
    },
    {
     "name": "stdout",
     "output_type": "stream",
     "text": [
      "torch.Size([50, 128, 128])\n"
     ]
    },
    {
     "name": "stderr",
     "output_type": "stream",
     "text": [
      "Epoch [20/50]:  57%|█████▋    | 4/7 [00:06<00:04,  1.53s/it]"
     ]
    },
    {
     "name": "stdout",
     "output_type": "stream",
     "text": [
      "torch.Size([50, 128, 128])\n"
     ]
    },
    {
     "name": "stderr",
     "output_type": "stream",
     "text": [
      "Epoch [20/50]:  71%|███████▏  | 5/7 [00:07<00:03,  1.55s/it]"
     ]
    },
    {
     "name": "stdout",
     "output_type": "stream",
     "text": [
      "torch.Size([50, 128, 128])\n"
     ]
    },
    {
     "name": "stderr",
     "output_type": "stream",
     "text": [
      "Epoch [20/50]:  86%|████████▌ | 6/7 [00:09<00:01,  1.57s/it]"
     ]
    },
    {
     "name": "stdout",
     "output_type": "stream",
     "text": [
      "torch.Size([50, 128, 128])\n"
     ]
    },
    {
     "name": "stderr",
     "output_type": "stream",
     "text": [
      "                                                            "
     ]
    },
    {
     "name": "stdout",
     "output_type": "stream",
     "text": [
      "torch.Size([44, 128, 128])\n",
      "Epoch [20/50], Loss: 0.5140\n"
     ]
    },
    {
     "name": "stderr",
     "output_type": "stream",
     "text": [
      "\r"
     ]
    },
    {
     "name": "stdout",
     "output_type": "stream",
     "text": [
      "torch.Size([48, 128, 128])\n",
      "Validation Loss: 0.4981\n"
     ]
    },
    {
     "name": "stderr",
     "output_type": "stream",
     "text": [
      "Epoch [21/50]:  14%|█▍        | 1/7 [00:01<00:09,  1.53s/it]"
     ]
    },
    {
     "name": "stdout",
     "output_type": "stream",
     "text": [
      "torch.Size([50, 128, 128])\n"
     ]
    },
    {
     "name": "stderr",
     "output_type": "stream",
     "text": [
      "Epoch [21/50]:  29%|██▊       | 2/7 [00:03<00:07,  1.54s/it]"
     ]
    },
    {
     "name": "stdout",
     "output_type": "stream",
     "text": [
      "torch.Size([50, 128, 128])\n"
     ]
    },
    {
     "name": "stderr",
     "output_type": "stream",
     "text": [
      "Epoch [21/50]:  43%|████▎     | 3/7 [00:04<00:06,  1.54s/it]"
     ]
    },
    {
     "name": "stdout",
     "output_type": "stream",
     "text": [
      "torch.Size([50, 128, 128])\n"
     ]
    },
    {
     "name": "stderr",
     "output_type": "stream",
     "text": [
      "Epoch [21/50]:  57%|█████▋    | 4/7 [00:06<00:04,  1.53s/it]"
     ]
    },
    {
     "name": "stdout",
     "output_type": "stream",
     "text": [
      "torch.Size([50, 128, 128])\n"
     ]
    },
    {
     "name": "stderr",
     "output_type": "stream",
     "text": [
      "Epoch [21/50]:  71%|███████▏  | 5/7 [00:07<00:03,  1.54s/it]"
     ]
    },
    {
     "name": "stdout",
     "output_type": "stream",
     "text": [
      "torch.Size([50, 128, 128])\n"
     ]
    },
    {
     "name": "stderr",
     "output_type": "stream",
     "text": [
      "Epoch [21/50]:  86%|████████▌ | 6/7 [00:09<00:01,  1.54s/it]"
     ]
    },
    {
     "name": "stdout",
     "output_type": "stream",
     "text": [
      "torch.Size([50, 128, 128])\n"
     ]
    },
    {
     "name": "stderr",
     "output_type": "stream",
     "text": [
      "                                                            "
     ]
    },
    {
     "name": "stdout",
     "output_type": "stream",
     "text": [
      "torch.Size([44, 128, 128])\n",
      "Epoch [21/50], Loss: 0.4912\n"
     ]
    },
    {
     "name": "stderr",
     "output_type": "stream",
     "text": [
      "\r"
     ]
    },
    {
     "name": "stdout",
     "output_type": "stream",
     "text": [
      "torch.Size([48, 128, 128])\n",
      "Validation Loss: 0.4869\n"
     ]
    },
    {
     "name": "stderr",
     "output_type": "stream",
     "text": [
      "Epoch [22/50]:  14%|█▍        | 1/7 [00:01<00:09,  1.54s/it]"
     ]
    },
    {
     "name": "stdout",
     "output_type": "stream",
     "text": [
      "torch.Size([50, 128, 128])\n"
     ]
    },
    {
     "name": "stderr",
     "output_type": "stream",
     "text": [
      "Epoch [22/50]:  29%|██▊       | 2/7 [00:03<00:07,  1.54s/it]"
     ]
    },
    {
     "name": "stdout",
     "output_type": "stream",
     "text": [
      "torch.Size([50, 128, 128])\n"
     ]
    },
    {
     "name": "stderr",
     "output_type": "stream",
     "text": [
      "Epoch [22/50]:  43%|████▎     | 3/7 [00:04<00:06,  1.53s/it]"
     ]
    },
    {
     "name": "stdout",
     "output_type": "stream",
     "text": [
      "torch.Size([50, 128, 128])\n"
     ]
    },
    {
     "name": "stderr",
     "output_type": "stream",
     "text": [
      "Epoch [22/50]:  57%|█████▋    | 4/7 [00:06<00:04,  1.53s/it]"
     ]
    },
    {
     "name": "stdout",
     "output_type": "stream",
     "text": [
      "torch.Size([50, 128, 128])\n"
     ]
    },
    {
     "name": "stderr",
     "output_type": "stream",
     "text": [
      "Epoch [22/50]:  71%|███████▏  | 5/7 [00:07<00:03,  1.54s/it]"
     ]
    },
    {
     "name": "stdout",
     "output_type": "stream",
     "text": [
      "torch.Size([50, 128, 128])\n"
     ]
    },
    {
     "name": "stderr",
     "output_type": "stream",
     "text": [
      "Epoch [22/50]:  86%|████████▌ | 6/7 [00:09<00:01,  1.54s/it]"
     ]
    },
    {
     "name": "stdout",
     "output_type": "stream",
     "text": [
      "torch.Size([50, 128, 128])\n"
     ]
    },
    {
     "name": "stderr",
     "output_type": "stream",
     "text": [
      "                                                            "
     ]
    },
    {
     "name": "stdout",
     "output_type": "stream",
     "text": [
      "torch.Size([44, 128, 128])\n",
      "Epoch [22/50], Loss: 0.4713\n"
     ]
    },
    {
     "name": "stderr",
     "output_type": "stream",
     "text": [
      "\r"
     ]
    },
    {
     "name": "stdout",
     "output_type": "stream",
     "text": [
      "torch.Size([48, 128, 128])\n",
      "Validation Loss: 0.4698\n"
     ]
    },
    {
     "name": "stderr",
     "output_type": "stream",
     "text": [
      "Epoch [23/50]:  14%|█▍        | 1/7 [00:01<00:09,  1.53s/it]"
     ]
    },
    {
     "name": "stdout",
     "output_type": "stream",
     "text": [
      "torch.Size([50, 128, 128])\n"
     ]
    },
    {
     "name": "stderr",
     "output_type": "stream",
     "text": [
      "Epoch [23/50]:  29%|██▊       | 2/7 [00:03<00:07,  1.54s/it]"
     ]
    },
    {
     "name": "stdout",
     "output_type": "stream",
     "text": [
      "torch.Size([50, 128, 128])\n"
     ]
    },
    {
     "name": "stderr",
     "output_type": "stream",
     "text": [
      "Epoch [23/50]:  43%|████▎     | 3/7 [00:04<00:06,  1.54s/it]"
     ]
    },
    {
     "name": "stdout",
     "output_type": "stream",
     "text": [
      "torch.Size([50, 128, 128])\n"
     ]
    },
    {
     "name": "stderr",
     "output_type": "stream",
     "text": [
      "Epoch [23/50]:  57%|█████▋    | 4/7 [00:06<00:04,  1.54s/it]"
     ]
    },
    {
     "name": "stdout",
     "output_type": "stream",
     "text": [
      "torch.Size([50, 128, 128])\n"
     ]
    },
    {
     "name": "stderr",
     "output_type": "stream",
     "text": [
      "Epoch [23/50]:  71%|███████▏  | 5/7 [00:07<00:03,  1.54s/it]"
     ]
    },
    {
     "name": "stdout",
     "output_type": "stream",
     "text": [
      "torch.Size([50, 128, 128])\n"
     ]
    },
    {
     "name": "stderr",
     "output_type": "stream",
     "text": [
      "Epoch [23/50]:  86%|████████▌ | 6/7 [00:09<00:01,  1.54s/it]"
     ]
    },
    {
     "name": "stdout",
     "output_type": "stream",
     "text": [
      "torch.Size([50, 128, 128])\n"
     ]
    },
    {
     "name": "stderr",
     "output_type": "stream",
     "text": [
      "                                                            "
     ]
    },
    {
     "name": "stdout",
     "output_type": "stream",
     "text": [
      "torch.Size([44, 128, 128])\n",
      "Epoch [23/50], Loss: 0.4383\n"
     ]
    },
    {
     "name": "stderr",
     "output_type": "stream",
     "text": [
      "\r"
     ]
    },
    {
     "name": "stdout",
     "output_type": "stream",
     "text": [
      "torch.Size([48, 128, 128])\n",
      "Validation Loss: 0.4520\n"
     ]
    },
    {
     "name": "stderr",
     "output_type": "stream",
     "text": [
      "Epoch [24/50]:  14%|█▍        | 1/7 [00:01<00:08,  1.42s/it]"
     ]
    },
    {
     "name": "stdout",
     "output_type": "stream",
     "text": [
      "torch.Size([50, 128, 128])\n"
     ]
    },
    {
     "name": "stderr",
     "output_type": "stream",
     "text": [
      "Epoch [24/50]:  29%|██▊       | 2/7 [00:02<00:07,  1.42s/it]"
     ]
    },
    {
     "name": "stdout",
     "output_type": "stream",
     "text": [
      "torch.Size([50, 128, 128])\n"
     ]
    },
    {
     "name": "stderr",
     "output_type": "stream",
     "text": [
      "Epoch [24/50]:  43%|████▎     | 3/7 [00:04<00:05,  1.42s/it]"
     ]
    },
    {
     "name": "stdout",
     "output_type": "stream",
     "text": [
      "torch.Size([50, 128, 128])\n"
     ]
    },
    {
     "name": "stderr",
     "output_type": "stream",
     "text": [
      "Epoch [24/50]:  57%|█████▋    | 4/7 [00:05<00:04,  1.42s/it]"
     ]
    },
    {
     "name": "stdout",
     "output_type": "stream",
     "text": [
      "torch.Size([50, 128, 128])\n"
     ]
    },
    {
     "name": "stderr",
     "output_type": "stream",
     "text": [
      "Epoch [24/50]:  71%|███████▏  | 5/7 [00:07<00:02,  1.46s/it]"
     ]
    },
    {
     "name": "stdout",
     "output_type": "stream",
     "text": [
      "torch.Size([50, 128, 128])\n"
     ]
    },
    {
     "name": "stderr",
     "output_type": "stream",
     "text": [
      "Epoch [24/50]:  86%|████████▌ | 6/7 [00:08<00:01,  1.49s/it]"
     ]
    },
    {
     "name": "stdout",
     "output_type": "stream",
     "text": [
      "torch.Size([50, 128, 128])\n"
     ]
    },
    {
     "name": "stderr",
     "output_type": "stream",
     "text": [
      "                                                            "
     ]
    },
    {
     "name": "stdout",
     "output_type": "stream",
     "text": [
      "torch.Size([44, 128, 128])\n",
      "Epoch [24/50], Loss: 0.4064\n"
     ]
    },
    {
     "name": "stderr",
     "output_type": "stream",
     "text": [
      "\r"
     ]
    },
    {
     "name": "stdout",
     "output_type": "stream",
     "text": [
      "torch.Size([48, 128, 128])\n",
      "Validation Loss: 0.4667\n"
     ]
    },
    {
     "name": "stderr",
     "output_type": "stream",
     "text": [
      "Epoch [25/50]:  14%|█▍        | 1/7 [00:01<00:08,  1.46s/it]"
     ]
    },
    {
     "name": "stdout",
     "output_type": "stream",
     "text": [
      "torch.Size([50, 128, 128])\n"
     ]
    },
    {
     "name": "stderr",
     "output_type": "stream",
     "text": [
      "Epoch [25/50]:  29%|██▊       | 2/7 [00:02<00:07,  1.44s/it]"
     ]
    },
    {
     "name": "stdout",
     "output_type": "stream",
     "text": [
      "torch.Size([50, 128, 128])\n"
     ]
    },
    {
     "name": "stderr",
     "output_type": "stream",
     "text": [
      "Epoch [25/50]:  43%|████▎     | 3/7 [00:04<00:05,  1.43s/it]"
     ]
    },
    {
     "name": "stdout",
     "output_type": "stream",
     "text": [
      "torch.Size([50, 128, 128])\n"
     ]
    },
    {
     "name": "stderr",
     "output_type": "stream",
     "text": [
      "Epoch [25/50]:  57%|█████▋    | 4/7 [00:05<00:04,  1.42s/it]"
     ]
    },
    {
     "name": "stdout",
     "output_type": "stream",
     "text": [
      "torch.Size([50, 128, 128])\n"
     ]
    },
    {
     "name": "stderr",
     "output_type": "stream",
     "text": [
      "Epoch [25/50]:  71%|███████▏  | 5/7 [00:07<00:02,  1.42s/it]"
     ]
    },
    {
     "name": "stdout",
     "output_type": "stream",
     "text": [
      "torch.Size([50, 128, 128])\n"
     ]
    },
    {
     "name": "stderr",
     "output_type": "stream",
     "text": [
      "Epoch [25/50]:  86%|████████▌ | 6/7 [00:08<00:01,  1.42s/it]"
     ]
    },
    {
     "name": "stdout",
     "output_type": "stream",
     "text": [
      "torch.Size([50, 128, 128])\n"
     ]
    },
    {
     "name": "stderr",
     "output_type": "stream",
     "text": [
      "                                                            "
     ]
    },
    {
     "name": "stdout",
     "output_type": "stream",
     "text": [
      "torch.Size([44, 128, 128])\n",
      "Epoch [25/50], Loss: 0.3805\n"
     ]
    },
    {
     "name": "stderr",
     "output_type": "stream",
     "text": [
      "\r"
     ]
    },
    {
     "name": "stdout",
     "output_type": "stream",
     "text": [
      "torch.Size([48, 128, 128])\n",
      "Validation Loss: 0.4303\n"
     ]
    },
    {
     "name": "stderr",
     "output_type": "stream",
     "text": [
      "Epoch [26/50]:  14%|█▍        | 1/7 [00:01<00:09,  1.53s/it]"
     ]
    },
    {
     "name": "stdout",
     "output_type": "stream",
     "text": [
      "torch.Size([50, 128, 128])\n"
     ]
    },
    {
     "name": "stderr",
     "output_type": "stream",
     "text": [
      "Epoch [26/50]:  29%|██▊       | 2/7 [00:03<00:07,  1.53s/it]"
     ]
    },
    {
     "name": "stdout",
     "output_type": "stream",
     "text": [
      "torch.Size([50, 128, 128])\n"
     ]
    },
    {
     "name": "stderr",
     "output_type": "stream",
     "text": [
      "Epoch [26/50]:  43%|████▎     | 3/7 [00:04<00:06,  1.53s/it]"
     ]
    },
    {
     "name": "stdout",
     "output_type": "stream",
     "text": [
      "torch.Size([50, 128, 128])\n"
     ]
    },
    {
     "name": "stderr",
     "output_type": "stream",
     "text": [
      "Epoch [26/50]:  57%|█████▋    | 4/7 [00:06<00:04,  1.53s/it]"
     ]
    },
    {
     "name": "stdout",
     "output_type": "stream",
     "text": [
      "torch.Size([50, 128, 128])\n"
     ]
    },
    {
     "name": "stderr",
     "output_type": "stream",
     "text": [
      "Epoch [26/50]:  71%|███████▏  | 5/7 [00:07<00:03,  1.53s/it]"
     ]
    },
    {
     "name": "stdout",
     "output_type": "stream",
     "text": [
      "torch.Size([50, 128, 128])\n"
     ]
    },
    {
     "name": "stderr",
     "output_type": "stream",
     "text": [
      "Epoch [26/50]:  86%|████████▌ | 6/7 [00:09<00:01,  1.53s/it]"
     ]
    },
    {
     "name": "stdout",
     "output_type": "stream",
     "text": [
      "torch.Size([50, 128, 128])\n"
     ]
    },
    {
     "name": "stderr",
     "output_type": "stream",
     "text": [
      "                                                            "
     ]
    },
    {
     "name": "stdout",
     "output_type": "stream",
     "text": [
      "torch.Size([44, 128, 128])\n",
      "Epoch [26/50], Loss: 0.3635\n"
     ]
    },
    {
     "name": "stderr",
     "output_type": "stream",
     "text": [
      "\r"
     ]
    },
    {
     "name": "stdout",
     "output_type": "stream",
     "text": [
      "torch.Size([48, 128, 128])\n",
      "Validation Loss: 0.4789\n"
     ]
    },
    {
     "name": "stderr",
     "output_type": "stream",
     "text": [
      "Epoch [27/50]:  14%|█▍        | 1/7 [00:01<00:09,  1.54s/it]"
     ]
    },
    {
     "name": "stdout",
     "output_type": "stream",
     "text": [
      "torch.Size([50, 128, 128])\n"
     ]
    },
    {
     "name": "stderr",
     "output_type": "stream",
     "text": [
      "Epoch [27/50]:  29%|██▊       | 2/7 [00:03<00:08,  1.60s/it]"
     ]
    },
    {
     "name": "stdout",
     "output_type": "stream",
     "text": [
      "torch.Size([50, 128, 128])\n"
     ]
    },
    {
     "name": "stderr",
     "output_type": "stream",
     "text": [
      "Epoch [27/50]:  43%|████▎     | 3/7 [00:04<00:06,  1.61s/it]"
     ]
    },
    {
     "name": "stdout",
     "output_type": "stream",
     "text": [
      "torch.Size([50, 128, 128])\n"
     ]
    },
    {
     "name": "stderr",
     "output_type": "stream",
     "text": [
      "Epoch [27/50]:  57%|█████▋    | 4/7 [00:06<00:04,  1.57s/it]"
     ]
    },
    {
     "name": "stdout",
     "output_type": "stream",
     "text": [
      "torch.Size([50, 128, 128])\n"
     ]
    },
    {
     "name": "stderr",
     "output_type": "stream",
     "text": [
      "Epoch [27/50]:  71%|███████▏  | 5/7 [00:08<00:03,  1.63s/it]"
     ]
    },
    {
     "name": "stdout",
     "output_type": "stream",
     "text": [
      "torch.Size([50, 128, 128])\n"
     ]
    },
    {
     "name": "stderr",
     "output_type": "stream",
     "text": [
      "Epoch [27/50]:  86%|████████▌ | 6/7 [00:09<00:01,  1.61s/it]"
     ]
    },
    {
     "name": "stdout",
     "output_type": "stream",
     "text": [
      "torch.Size([50, 128, 128])\n"
     ]
    },
    {
     "name": "stderr",
     "output_type": "stream",
     "text": [
      "                                                            "
     ]
    },
    {
     "name": "stdout",
     "output_type": "stream",
     "text": [
      "torch.Size([44, 128, 128])\n",
      "Epoch [27/50], Loss: 0.3749\n"
     ]
    },
    {
     "name": "stderr",
     "output_type": "stream",
     "text": [
      "\r"
     ]
    },
    {
     "name": "stdout",
     "output_type": "stream",
     "text": [
      "torch.Size([48, 128, 128])\n",
      "Validation Loss: 0.5530\n"
     ]
    },
    {
     "name": "stderr",
     "output_type": "stream",
     "text": [
      "Epoch [28/50]:  14%|█▍        | 1/7 [00:01<00:08,  1.45s/it]"
     ]
    },
    {
     "name": "stdout",
     "output_type": "stream",
     "text": [
      "torch.Size([50, 128, 128])\n"
     ]
    },
    {
     "name": "stderr",
     "output_type": "stream",
     "text": [
      "Epoch [28/50]:  29%|██▊       | 2/7 [00:02<00:07,  1.49s/it]"
     ]
    },
    {
     "name": "stdout",
     "output_type": "stream",
     "text": [
      "torch.Size([50, 128, 128])\n"
     ]
    },
    {
     "name": "stderr",
     "output_type": "stream",
     "text": [
      "Epoch [28/50]:  43%|████▎     | 3/7 [00:04<00:06,  1.51s/it]"
     ]
    },
    {
     "name": "stdout",
     "output_type": "stream",
     "text": [
      "torch.Size([50, 128, 128])\n"
     ]
    },
    {
     "name": "stderr",
     "output_type": "stream",
     "text": [
      "Epoch [28/50]:  57%|█████▋    | 4/7 [00:06<00:04,  1.63s/it]"
     ]
    },
    {
     "name": "stdout",
     "output_type": "stream",
     "text": [
      "torch.Size([50, 128, 128])\n"
     ]
    },
    {
     "name": "stderr",
     "output_type": "stream",
     "text": [
      "Epoch [28/50]:  71%|███████▏  | 5/7 [00:07<00:03,  1.59s/it]"
     ]
    },
    {
     "name": "stdout",
     "output_type": "stream",
     "text": [
      "torch.Size([50, 128, 128])\n"
     ]
    },
    {
     "name": "stderr",
     "output_type": "stream",
     "text": [
      "Epoch [28/50]:  86%|████████▌ | 6/7 [00:09<00:01,  1.57s/it]"
     ]
    },
    {
     "name": "stdout",
     "output_type": "stream",
     "text": [
      "torch.Size([50, 128, 128])\n"
     ]
    },
    {
     "name": "stderr",
     "output_type": "stream",
     "text": [
      "                                                            "
     ]
    },
    {
     "name": "stdout",
     "output_type": "stream",
     "text": [
      "torch.Size([44, 128, 128])\n",
      "Epoch [28/50], Loss: 0.3395\n"
     ]
    },
    {
     "name": "stderr",
     "output_type": "stream",
     "text": [
      "\r"
     ]
    },
    {
     "name": "stdout",
     "output_type": "stream",
     "text": [
      "torch.Size([48, 128, 128])\n",
      "Validation Loss: 0.4558\n"
     ]
    },
    {
     "name": "stderr",
     "output_type": "stream",
     "text": [
      "Epoch [29/50]:  14%|█▍        | 1/7 [00:01<00:09,  1.53s/it]"
     ]
    },
    {
     "name": "stdout",
     "output_type": "stream",
     "text": [
      "torch.Size([50, 128, 128])\n"
     ]
    },
    {
     "name": "stderr",
     "output_type": "stream",
     "text": [
      "Epoch [29/50]:  29%|██▊       | 2/7 [00:02<00:07,  1.46s/it]"
     ]
    },
    {
     "name": "stdout",
     "output_type": "stream",
     "text": [
      "torch.Size([50, 128, 128])\n"
     ]
    },
    {
     "name": "stderr",
     "output_type": "stream",
     "text": [
      "Epoch [29/50]:  43%|████▎     | 3/7 [00:04<00:06,  1.54s/it]"
     ]
    },
    {
     "name": "stdout",
     "output_type": "stream",
     "text": [
      "torch.Size([50, 128, 128])\n"
     ]
    },
    {
     "name": "stderr",
     "output_type": "stream",
     "text": [
      "Epoch [29/50]:  57%|█████▋    | 4/7 [00:06<00:04,  1.58s/it]"
     ]
    },
    {
     "name": "stdout",
     "output_type": "stream",
     "text": [
      "torch.Size([50, 128, 128])\n"
     ]
    },
    {
     "name": "stderr",
     "output_type": "stream",
     "text": [
      "Epoch [29/50]:  71%|███████▏  | 5/7 [00:07<00:03,  1.54s/it]"
     ]
    },
    {
     "name": "stdout",
     "output_type": "stream",
     "text": [
      "torch.Size([50, 128, 128])\n"
     ]
    },
    {
     "name": "stderr",
     "output_type": "stream",
     "text": [
      "Epoch [29/50]:  86%|████████▌ | 6/7 [00:09<00:01,  1.50s/it]"
     ]
    },
    {
     "name": "stdout",
     "output_type": "stream",
     "text": [
      "torch.Size([50, 128, 128])\n"
     ]
    },
    {
     "name": "stderr",
     "output_type": "stream",
     "text": [
      "                                                            "
     ]
    },
    {
     "name": "stdout",
     "output_type": "stream",
     "text": [
      "torch.Size([44, 128, 128])\n",
      "Epoch [29/50], Loss: 0.3042\n"
     ]
    },
    {
     "name": "stderr",
     "output_type": "stream",
     "text": [
      "\r"
     ]
    },
    {
     "name": "stdout",
     "output_type": "stream",
     "text": [
      "torch.Size([48, 128, 128])\n",
      "Validation Loss: 0.4508\n"
     ]
    },
    {
     "name": "stderr",
     "output_type": "stream",
     "text": [
      "Epoch [30/50]:  14%|█▍        | 1/7 [00:01<00:08,  1.42s/it]"
     ]
    },
    {
     "name": "stdout",
     "output_type": "stream",
     "text": [
      "torch.Size([50, 128, 128])\n"
     ]
    },
    {
     "name": "stderr",
     "output_type": "stream",
     "text": [
      "Epoch [30/50]:  29%|██▊       | 2/7 [00:02<00:07,  1.42s/it]"
     ]
    },
    {
     "name": "stdout",
     "output_type": "stream",
     "text": [
      "torch.Size([50, 128, 128])\n"
     ]
    },
    {
     "name": "stderr",
     "output_type": "stream",
     "text": [
      "Epoch [30/50]:  43%|████▎     | 3/7 [00:04<00:05,  1.42s/it]"
     ]
    },
    {
     "name": "stdout",
     "output_type": "stream",
     "text": [
      "torch.Size([50, 128, 128])\n"
     ]
    },
    {
     "name": "stderr",
     "output_type": "stream",
     "text": [
      "Epoch [30/50]:  57%|█████▋    | 4/7 [00:05<00:04,  1.42s/it]"
     ]
    },
    {
     "name": "stdout",
     "output_type": "stream",
     "text": [
      "torch.Size([50, 128, 128])\n"
     ]
    },
    {
     "name": "stderr",
     "output_type": "stream",
     "text": [
      "Epoch [30/50]:  71%|███████▏  | 5/7 [00:07<00:02,  1.42s/it]"
     ]
    },
    {
     "name": "stdout",
     "output_type": "stream",
     "text": [
      "torch.Size([50, 128, 128])\n"
     ]
    },
    {
     "name": "stderr",
     "output_type": "stream",
     "text": [
      "Epoch [30/50]:  86%|████████▌ | 6/7 [00:08<00:01,  1.42s/it]"
     ]
    },
    {
     "name": "stdout",
     "output_type": "stream",
     "text": [
      "torch.Size([50, 128, 128])\n"
     ]
    },
    {
     "name": "stderr",
     "output_type": "stream",
     "text": [
      "                                                            "
     ]
    },
    {
     "name": "stdout",
     "output_type": "stream",
     "text": [
      "torch.Size([44, 128, 128])\n",
      "Epoch [30/50], Loss: 0.2728\n"
     ]
    },
    {
     "name": "stderr",
     "output_type": "stream",
     "text": [
      "\r"
     ]
    },
    {
     "name": "stdout",
     "output_type": "stream",
     "text": [
      "torch.Size([48, 128, 128])\n",
      "Validation Loss: 0.4478\n"
     ]
    },
    {
     "name": "stderr",
     "output_type": "stream",
     "text": [
      "Epoch [31/50]:  14%|█▍        | 1/7 [00:01<00:08,  1.42s/it]"
     ]
    },
    {
     "name": "stdout",
     "output_type": "stream",
     "text": [
      "torch.Size([50, 128, 128])\n"
     ]
    },
    {
     "name": "stderr",
     "output_type": "stream",
     "text": [
      "Epoch [31/50]:  29%|██▊       | 2/7 [00:02<00:07,  1.45s/it]"
     ]
    },
    {
     "name": "stdout",
     "output_type": "stream",
     "text": [
      "torch.Size([50, 128, 128])\n"
     ]
    },
    {
     "name": "stderr",
     "output_type": "stream",
     "text": [
      "Epoch [31/50]:  43%|████▎     | 3/7 [00:04<00:05,  1.45s/it]"
     ]
    },
    {
     "name": "stdout",
     "output_type": "stream",
     "text": [
      "torch.Size([50, 128, 128])\n"
     ]
    },
    {
     "name": "stderr",
     "output_type": "stream",
     "text": [
      "Epoch [31/50]:  57%|█████▋    | 4/7 [00:05<00:04,  1.44s/it]"
     ]
    },
    {
     "name": "stdout",
     "output_type": "stream",
     "text": [
      "torch.Size([50, 128, 128])\n"
     ]
    },
    {
     "name": "stderr",
     "output_type": "stream",
     "text": [
      "Epoch [31/50]:  71%|███████▏  | 5/7 [00:07<00:02,  1.43s/it]"
     ]
    },
    {
     "name": "stdout",
     "output_type": "stream",
     "text": [
      "torch.Size([50, 128, 128])\n"
     ]
    },
    {
     "name": "stderr",
     "output_type": "stream",
     "text": [
      "Epoch [31/50]:  86%|████████▌ | 6/7 [00:08<00:01,  1.44s/it]"
     ]
    },
    {
     "name": "stdout",
     "output_type": "stream",
     "text": [
      "torch.Size([50, 128, 128])\n"
     ]
    },
    {
     "name": "stderr",
     "output_type": "stream",
     "text": [
      "                                                            "
     ]
    },
    {
     "name": "stdout",
     "output_type": "stream",
     "text": [
      "torch.Size([44, 128, 128])\n",
      "Epoch [31/50], Loss: 0.2506\n"
     ]
    },
    {
     "name": "stderr",
     "output_type": "stream",
     "text": [
      "\r"
     ]
    },
    {
     "name": "stdout",
     "output_type": "stream",
     "text": [
      "torch.Size([48, 128, 128])\n",
      "Validation Loss: 0.4828\n"
     ]
    },
    {
     "name": "stderr",
     "output_type": "stream",
     "text": [
      "Epoch [32/50]:  14%|█▍        | 1/7 [00:01<00:09,  1.59s/it]"
     ]
    },
    {
     "name": "stdout",
     "output_type": "stream",
     "text": [
      "torch.Size([50, 128, 128])\n"
     ]
    },
    {
     "name": "stderr",
     "output_type": "stream",
     "text": [
      "Epoch [32/50]:  29%|██▊       | 2/7 [00:03<00:07,  1.58s/it]"
     ]
    },
    {
     "name": "stdout",
     "output_type": "stream",
     "text": [
      "torch.Size([50, 128, 128])\n"
     ]
    },
    {
     "name": "stderr",
     "output_type": "stream",
     "text": [
      "Epoch [32/50]:  43%|████▎     | 3/7 [00:04<00:06,  1.56s/it]"
     ]
    },
    {
     "name": "stdout",
     "output_type": "stream",
     "text": [
      "torch.Size([50, 128, 128])\n"
     ]
    },
    {
     "name": "stderr",
     "output_type": "stream",
     "text": [
      "Epoch [32/50]:  57%|█████▋    | 4/7 [00:06<00:04,  1.56s/it]"
     ]
    },
    {
     "name": "stdout",
     "output_type": "stream",
     "text": [
      "torch.Size([50, 128, 128])\n"
     ]
    },
    {
     "name": "stderr",
     "output_type": "stream",
     "text": [
      "Epoch [32/50]:  71%|███████▏  | 5/7 [00:07<00:03,  1.56s/it]"
     ]
    },
    {
     "name": "stdout",
     "output_type": "stream",
     "text": [
      "torch.Size([50, 128, 128])\n"
     ]
    },
    {
     "name": "stderr",
     "output_type": "stream",
     "text": [
      "Epoch [32/50]:  86%|████████▌ | 6/7 [00:09<00:01,  1.56s/it]"
     ]
    },
    {
     "name": "stdout",
     "output_type": "stream",
     "text": [
      "torch.Size([50, 128, 128])\n"
     ]
    },
    {
     "name": "stderr",
     "output_type": "stream",
     "text": [
      "                                                            "
     ]
    },
    {
     "name": "stdout",
     "output_type": "stream",
     "text": [
      "torch.Size([44, 128, 128])\n",
      "Epoch [32/50], Loss: 0.2425\n"
     ]
    },
    {
     "name": "stderr",
     "output_type": "stream",
     "text": [
      "\r"
     ]
    },
    {
     "name": "stdout",
     "output_type": "stream",
     "text": [
      "torch.Size([48, 128, 128])\n",
      "Validation Loss: 0.5363\n"
     ]
    },
    {
     "name": "stderr",
     "output_type": "stream",
     "text": [
      "Epoch [33/50]:  14%|█▍        | 1/7 [00:01<00:09,  1.53s/it]"
     ]
    },
    {
     "name": "stdout",
     "output_type": "stream",
     "text": [
      "torch.Size([50, 128, 128])\n"
     ]
    },
    {
     "name": "stderr",
     "output_type": "stream",
     "text": [
      "Epoch [33/50]:  29%|██▊       | 2/7 [00:03<00:07,  1.53s/it]"
     ]
    },
    {
     "name": "stdout",
     "output_type": "stream",
     "text": [
      "torch.Size([50, 128, 128])\n"
     ]
    },
    {
     "name": "stderr",
     "output_type": "stream",
     "text": [
      "Epoch [33/50]:  43%|████▎     | 3/7 [00:04<00:05,  1.48s/it]"
     ]
    },
    {
     "name": "stdout",
     "output_type": "stream",
     "text": [
      "torch.Size([50, 128, 128])\n"
     ]
    },
    {
     "name": "stderr",
     "output_type": "stream",
     "text": [
      "Epoch [33/50]:  57%|█████▋    | 4/7 [00:05<00:04,  1.46s/it]"
     ]
    },
    {
     "name": "stdout",
     "output_type": "stream",
     "text": [
      "torch.Size([50, 128, 128])\n"
     ]
    },
    {
     "name": "stderr",
     "output_type": "stream",
     "text": [
      "Epoch [33/50]:  71%|███████▏  | 5/7 [00:07<00:02,  1.44s/it]"
     ]
    },
    {
     "name": "stdout",
     "output_type": "stream",
     "text": [
      "torch.Size([50, 128, 128])\n"
     ]
    },
    {
     "name": "stderr",
     "output_type": "stream",
     "text": [
      "Epoch [33/50]:  86%|████████▌ | 6/7 [00:08<00:01,  1.47s/it]"
     ]
    },
    {
     "name": "stdout",
     "output_type": "stream",
     "text": [
      "torch.Size([50, 128, 128])\n"
     ]
    },
    {
     "name": "stderr",
     "output_type": "stream",
     "text": [
      "                                                            "
     ]
    },
    {
     "name": "stdout",
     "output_type": "stream",
     "text": [
      "torch.Size([44, 128, 128])\n",
      "Epoch [33/50], Loss: 0.2274\n"
     ]
    },
    {
     "name": "stderr",
     "output_type": "stream",
     "text": [
      "\r"
     ]
    },
    {
     "name": "stdout",
     "output_type": "stream",
     "text": [
      "torch.Size([48, 128, 128])\n",
      "Validation Loss: 0.4705\n"
     ]
    },
    {
     "name": "stderr",
     "output_type": "stream",
     "text": [
      "Epoch [34/50]:  14%|█▍        | 1/7 [00:01<00:09,  1.53s/it]"
     ]
    },
    {
     "name": "stdout",
     "output_type": "stream",
     "text": [
      "torch.Size([50, 128, 128])\n"
     ]
    },
    {
     "name": "stderr",
     "output_type": "stream",
     "text": [
      "Epoch [34/50]:  29%|██▊       | 2/7 [00:02<00:07,  1.46s/it]"
     ]
    },
    {
     "name": "stdout",
     "output_type": "stream",
     "text": [
      "torch.Size([50, 128, 128])\n"
     ]
    },
    {
     "name": "stderr",
     "output_type": "stream",
     "text": [
      "Epoch [34/50]:  43%|████▎     | 3/7 [00:04<00:05,  1.44s/it]"
     ]
    },
    {
     "name": "stdout",
     "output_type": "stream",
     "text": [
      "torch.Size([50, 128, 128])\n"
     ]
    },
    {
     "name": "stderr",
     "output_type": "stream",
     "text": [
      "Epoch [34/50]:  57%|█████▋    | 4/7 [00:05<00:04,  1.43s/it]"
     ]
    },
    {
     "name": "stdout",
     "output_type": "stream",
     "text": [
      "torch.Size([50, 128, 128])\n"
     ]
    },
    {
     "name": "stderr",
     "output_type": "stream",
     "text": [
      "Epoch [34/50]:  71%|███████▏  | 5/7 [00:07<00:02,  1.43s/it]"
     ]
    },
    {
     "name": "stdout",
     "output_type": "stream",
     "text": [
      "torch.Size([50, 128, 128])\n"
     ]
    },
    {
     "name": "stderr",
     "output_type": "stream",
     "text": [
      "Epoch [34/50]:  86%|████████▌ | 6/7 [00:08<00:01,  1.42s/it]"
     ]
    },
    {
     "name": "stdout",
     "output_type": "stream",
     "text": [
      "torch.Size([50, 128, 128])\n"
     ]
    },
    {
     "name": "stderr",
     "output_type": "stream",
     "text": [
      "                                                            "
     ]
    },
    {
     "name": "stdout",
     "output_type": "stream",
     "text": [
      "torch.Size([44, 128, 128])\n",
      "Epoch [34/50], Loss: 0.2081\n"
     ]
    },
    {
     "name": "stderr",
     "output_type": "stream",
     "text": [
      "\r"
     ]
    },
    {
     "name": "stdout",
     "output_type": "stream",
     "text": [
      "torch.Size([48, 128, 128])\n",
      "Validation Loss: 0.4987\n"
     ]
    },
    {
     "name": "stderr",
     "output_type": "stream",
     "text": [
      "Epoch [35/50]:  14%|█▍        | 1/7 [00:01<00:08,  1.41s/it]"
     ]
    },
    {
     "name": "stdout",
     "output_type": "stream",
     "text": [
      "torch.Size([50, 128, 128])\n"
     ]
    },
    {
     "name": "stderr",
     "output_type": "stream",
     "text": [
      "Epoch [35/50]:  29%|██▊       | 2/7 [00:02<00:07,  1.41s/it]"
     ]
    },
    {
     "name": "stdout",
     "output_type": "stream",
     "text": [
      "torch.Size([50, 128, 128])\n"
     ]
    },
    {
     "name": "stderr",
     "output_type": "stream",
     "text": [
      "Epoch [35/50]:  43%|████▎     | 3/7 [00:04<00:05,  1.42s/it]"
     ]
    },
    {
     "name": "stdout",
     "output_type": "stream",
     "text": [
      "torch.Size([50, 128, 128])\n"
     ]
    },
    {
     "name": "stderr",
     "output_type": "stream",
     "text": [
      "Epoch [35/50]:  57%|█████▋    | 4/7 [00:05<00:04,  1.42s/it]"
     ]
    },
    {
     "name": "stdout",
     "output_type": "stream",
     "text": [
      "torch.Size([50, 128, 128])\n"
     ]
    },
    {
     "name": "stderr",
     "output_type": "stream",
     "text": [
      "Epoch [35/50]:  71%|███████▏  | 5/7 [00:07<00:02,  1.42s/it]"
     ]
    },
    {
     "name": "stdout",
     "output_type": "stream",
     "text": [
      "torch.Size([50, 128, 128])\n"
     ]
    },
    {
     "name": "stderr",
     "output_type": "stream",
     "text": [
      "Epoch [35/50]:  86%|████████▌ | 6/7 [00:08<00:01,  1.42s/it]"
     ]
    },
    {
     "name": "stdout",
     "output_type": "stream",
     "text": [
      "torch.Size([50, 128, 128])\n"
     ]
    },
    {
     "name": "stderr",
     "output_type": "stream",
     "text": [
      "                                                            "
     ]
    },
    {
     "name": "stdout",
     "output_type": "stream",
     "text": [
      "torch.Size([44, 128, 128])\n",
      "Epoch [35/50], Loss: 0.1975\n"
     ]
    },
    {
     "name": "stderr",
     "output_type": "stream",
     "text": [
      "\r"
     ]
    },
    {
     "name": "stdout",
     "output_type": "stream",
     "text": [
      "torch.Size([48, 128, 128])\n",
      "Validation Loss: 0.4703\n"
     ]
    },
    {
     "name": "stderr",
     "output_type": "stream",
     "text": [
      "Epoch [36/50]:  14%|█▍        | 1/7 [00:01<00:08,  1.43s/it]"
     ]
    },
    {
     "name": "stdout",
     "output_type": "stream",
     "text": [
      "torch.Size([50, 128, 128])\n"
     ]
    },
    {
     "name": "stderr",
     "output_type": "stream",
     "text": [
      "Epoch [36/50]:  29%|██▊       | 2/7 [00:02<00:07,  1.42s/it]"
     ]
    },
    {
     "name": "stdout",
     "output_type": "stream",
     "text": [
      "torch.Size([50, 128, 128])\n"
     ]
    },
    {
     "name": "stderr",
     "output_type": "stream",
     "text": [
      "Epoch [36/50]:  43%|████▎     | 3/7 [00:04<00:05,  1.42s/it]"
     ]
    },
    {
     "name": "stdout",
     "output_type": "stream",
     "text": [
      "torch.Size([50, 128, 128])\n"
     ]
    },
    {
     "name": "stderr",
     "output_type": "stream",
     "text": [
      "Epoch [36/50]:  57%|█████▋    | 4/7 [00:05<00:04,  1.42s/it]"
     ]
    },
    {
     "name": "stdout",
     "output_type": "stream",
     "text": [
      "torch.Size([50, 128, 128])\n"
     ]
    },
    {
     "name": "stderr",
     "output_type": "stream",
     "text": [
      "Epoch [36/50]:  71%|███████▏  | 5/7 [00:07<00:02,  1.42s/it]"
     ]
    },
    {
     "name": "stdout",
     "output_type": "stream",
     "text": [
      "torch.Size([50, 128, 128])\n"
     ]
    },
    {
     "name": "stderr",
     "output_type": "stream",
     "text": [
      "Epoch [36/50]:  86%|████████▌ | 6/7 [00:08<00:01,  1.42s/it]"
     ]
    },
    {
     "name": "stdout",
     "output_type": "stream",
     "text": [
      "torch.Size([50, 128, 128])\n"
     ]
    },
    {
     "name": "stderr",
     "output_type": "stream",
     "text": [
      "                                                            "
     ]
    },
    {
     "name": "stdout",
     "output_type": "stream",
     "text": [
      "torch.Size([44, 128, 128])\n",
      "Epoch [36/50], Loss: 0.1757\n"
     ]
    },
    {
     "name": "stderr",
     "output_type": "stream",
     "text": [
      "\r"
     ]
    },
    {
     "name": "stdout",
     "output_type": "stream",
     "text": [
      "torch.Size([48, 128, 128])\n",
      "Validation Loss: 0.4688\n"
     ]
    },
    {
     "name": "stderr",
     "output_type": "stream",
     "text": [
      "Epoch [37/50]:  14%|█▍        | 1/7 [00:01<00:08,  1.41s/it]"
     ]
    },
    {
     "name": "stdout",
     "output_type": "stream",
     "text": [
      "torch.Size([50, 128, 128])\n"
     ]
    },
    {
     "name": "stderr",
     "output_type": "stream",
     "text": [
      "Epoch [37/50]:  29%|██▊       | 2/7 [00:02<00:07,  1.41s/it]"
     ]
    },
    {
     "name": "stdout",
     "output_type": "stream",
     "text": [
      "torch.Size([50, 128, 128])\n"
     ]
    },
    {
     "name": "stderr",
     "output_type": "stream",
     "text": [
      "Epoch [37/50]:  43%|████▎     | 3/7 [00:04<00:06,  1.59s/it]"
     ]
    },
    {
     "name": "stdout",
     "output_type": "stream",
     "text": [
      "torch.Size([50, 128, 128])\n"
     ]
    },
    {
     "name": "stderr",
     "output_type": "stream",
     "text": [
      "Epoch [37/50]:  57%|█████▋    | 4/7 [00:06<00:04,  1.57s/it]"
     ]
    },
    {
     "name": "stdout",
     "output_type": "stream",
     "text": [
      "torch.Size([50, 128, 128])\n"
     ]
    },
    {
     "name": "stderr",
     "output_type": "stream",
     "text": [
      "Epoch [37/50]:  71%|███████▏  | 5/7 [00:07<00:03,  1.55s/it]"
     ]
    },
    {
     "name": "stdout",
     "output_type": "stream",
     "text": [
      "torch.Size([50, 128, 128])\n"
     ]
    },
    {
     "name": "stderr",
     "output_type": "stream",
     "text": [
      "Epoch [37/50]:  86%|████████▌ | 6/7 [00:09<00:01,  1.54s/it]"
     ]
    },
    {
     "name": "stdout",
     "output_type": "stream",
     "text": [
      "torch.Size([50, 128, 128])\n"
     ]
    },
    {
     "name": "stderr",
     "output_type": "stream",
     "text": [
      "                                                            "
     ]
    },
    {
     "name": "stdout",
     "output_type": "stream",
     "text": [
      "torch.Size([44, 128, 128])\n",
      "Epoch [37/50], Loss: 0.1607\n"
     ]
    },
    {
     "name": "stderr",
     "output_type": "stream",
     "text": [
      "\r"
     ]
    },
    {
     "name": "stdout",
     "output_type": "stream",
     "text": [
      "torch.Size([48, 128, 128])\n",
      "Validation Loss: 0.4881\n"
     ]
    },
    {
     "name": "stderr",
     "output_type": "stream",
     "text": [
      "Epoch [38/50]:  14%|█▍        | 1/7 [00:01<00:08,  1.42s/it]"
     ]
    },
    {
     "name": "stdout",
     "output_type": "stream",
     "text": [
      "torch.Size([50, 128, 128])\n"
     ]
    },
    {
     "name": "stderr",
     "output_type": "stream",
     "text": [
      "Epoch [38/50]:  29%|██▊       | 2/7 [00:02<00:07,  1.48s/it]"
     ]
    },
    {
     "name": "stdout",
     "output_type": "stream",
     "text": [
      "torch.Size([50, 128, 128])\n"
     ]
    },
    {
     "name": "stderr",
     "output_type": "stream",
     "text": [
      "Epoch [38/50]:  43%|████▎     | 3/7 [00:04<00:05,  1.50s/it]"
     ]
    },
    {
     "name": "stdout",
     "output_type": "stream",
     "text": [
      "torch.Size([50, 128, 128])\n"
     ]
    },
    {
     "name": "stderr",
     "output_type": "stream",
     "text": [
      "Epoch [38/50]:  57%|█████▋    | 4/7 [00:05<00:04,  1.51s/it]"
     ]
    },
    {
     "name": "stdout",
     "output_type": "stream",
     "text": [
      "torch.Size([50, 128, 128])\n"
     ]
    },
    {
     "name": "stderr",
     "output_type": "stream",
     "text": [
      "Epoch [38/50]:  71%|███████▏  | 5/7 [00:07<00:03,  1.52s/it]"
     ]
    },
    {
     "name": "stdout",
     "output_type": "stream",
     "text": [
      "torch.Size([50, 128, 128])\n"
     ]
    },
    {
     "name": "stderr",
     "output_type": "stream",
     "text": [
      "Epoch [38/50]:  86%|████████▌ | 6/7 [00:09<00:01,  1.54s/it]"
     ]
    },
    {
     "name": "stdout",
     "output_type": "stream",
     "text": [
      "torch.Size([50, 128, 128])\n"
     ]
    },
    {
     "name": "stderr",
     "output_type": "stream",
     "text": [
      "                                                            "
     ]
    },
    {
     "name": "stdout",
     "output_type": "stream",
     "text": [
      "torch.Size([44, 128, 128])\n",
      "Epoch [38/50], Loss: 0.1508\n"
     ]
    },
    {
     "name": "stderr",
     "output_type": "stream",
     "text": [
      "\r"
     ]
    },
    {
     "name": "stdout",
     "output_type": "stream",
     "text": [
      "torch.Size([48, 128, 128])\n",
      "Validation Loss: 0.5383\n"
     ]
    },
    {
     "name": "stderr",
     "output_type": "stream",
     "text": [
      "Epoch [39/50]:  14%|█▍        | 1/7 [00:01<00:09,  1.53s/it]"
     ]
    },
    {
     "name": "stdout",
     "output_type": "stream",
     "text": [
      "torch.Size([50, 128, 128])\n"
     ]
    },
    {
     "name": "stderr",
     "output_type": "stream",
     "text": [
      "Epoch [39/50]:  29%|██▊       | 2/7 [00:03<00:07,  1.53s/it]"
     ]
    },
    {
     "name": "stdout",
     "output_type": "stream",
     "text": [
      "torch.Size([50, 128, 128])\n"
     ]
    },
    {
     "name": "stderr",
     "output_type": "stream",
     "text": [
      "Epoch [39/50]:  43%|████▎     | 3/7 [00:04<00:06,  1.54s/it]"
     ]
    },
    {
     "name": "stdout",
     "output_type": "stream",
     "text": [
      "torch.Size([50, 128, 128])\n"
     ]
    },
    {
     "name": "stderr",
     "output_type": "stream",
     "text": [
      "Epoch [39/50]:  57%|█████▋    | 4/7 [00:06<00:04,  1.54s/it]"
     ]
    },
    {
     "name": "stdout",
     "output_type": "stream",
     "text": [
      "torch.Size([50, 128, 128])\n"
     ]
    },
    {
     "name": "stderr",
     "output_type": "stream",
     "text": [
      "Epoch [39/50]:  71%|███████▏  | 5/7 [00:07<00:03,  1.54s/it]"
     ]
    },
    {
     "name": "stdout",
     "output_type": "stream",
     "text": [
      "torch.Size([50, 128, 128])\n"
     ]
    },
    {
     "name": "stderr",
     "output_type": "stream",
     "text": [
      "Epoch [39/50]:  86%|████████▌ | 6/7 [00:09<00:01,  1.54s/it]"
     ]
    },
    {
     "name": "stdout",
     "output_type": "stream",
     "text": [
      "torch.Size([50, 128, 128])\n"
     ]
    },
    {
     "name": "stderr",
     "output_type": "stream",
     "text": [
      "                                                            "
     ]
    },
    {
     "name": "stdout",
     "output_type": "stream",
     "text": [
      "torch.Size([44, 128, 128])\n",
      "Epoch [39/50], Loss: 0.1342\n"
     ]
    },
    {
     "name": "stderr",
     "output_type": "stream",
     "text": [
      "\r"
     ]
    },
    {
     "name": "stdout",
     "output_type": "stream",
     "text": [
      "torch.Size([48, 128, 128])\n",
      "Validation Loss: 0.6068\n"
     ]
    },
    {
     "name": "stderr",
     "output_type": "stream",
     "text": [
      "Epoch [40/50]:  14%|█▍        | 1/7 [00:01<00:09,  1.53s/it]"
     ]
    },
    {
     "name": "stdout",
     "output_type": "stream",
     "text": [
      "torch.Size([50, 128, 128])\n"
     ]
    },
    {
     "name": "stderr",
     "output_type": "stream",
     "text": [
      "Epoch [40/50]:  29%|██▊       | 2/7 [00:03<00:07,  1.54s/it]"
     ]
    },
    {
     "name": "stdout",
     "output_type": "stream",
     "text": [
      "torch.Size([50, 128, 128])\n"
     ]
    },
    {
     "name": "stderr",
     "output_type": "stream",
     "text": [
      "Epoch [40/50]:  43%|████▎     | 3/7 [00:04<00:06,  1.54s/it]"
     ]
    },
    {
     "name": "stdout",
     "output_type": "stream",
     "text": [
      "torch.Size([50, 128, 128])\n"
     ]
    },
    {
     "name": "stderr",
     "output_type": "stream",
     "text": [
      "Epoch [40/50]:  57%|█████▋    | 4/7 [00:06<00:04,  1.54s/it]"
     ]
    },
    {
     "name": "stdout",
     "output_type": "stream",
     "text": [
      "torch.Size([50, 128, 128])\n"
     ]
    },
    {
     "name": "stderr",
     "output_type": "stream",
     "text": [
      "Epoch [40/50]:  71%|███████▏  | 5/7 [00:07<00:03,  1.61s/it]"
     ]
    },
    {
     "name": "stdout",
     "output_type": "stream",
     "text": [
      "torch.Size([50, 128, 128])\n"
     ]
    },
    {
     "name": "stderr",
     "output_type": "stream",
     "text": [
      "Epoch [40/50]:  86%|████████▌ | 6/7 [00:09<00:01,  1.69s/it]"
     ]
    },
    {
     "name": "stdout",
     "output_type": "stream",
     "text": [
      "torch.Size([50, 128, 128])\n"
     ]
    },
    {
     "name": "stderr",
     "output_type": "stream",
     "text": [
      "                                                            "
     ]
    },
    {
     "name": "stdout",
     "output_type": "stream",
     "text": [
      "torch.Size([44, 128, 128])\n",
      "Epoch [40/50], Loss: 0.1224\n"
     ]
    },
    {
     "name": "stderr",
     "output_type": "stream",
     "text": [
      "\r"
     ]
    },
    {
     "name": "stdout",
     "output_type": "stream",
     "text": [
      "torch.Size([48, 128, 128])\n",
      "Validation Loss: 0.6278\n"
     ]
    },
    {
     "name": "stderr",
     "output_type": "stream",
     "text": [
      "Epoch [41/50]:  14%|█▍        | 1/7 [00:01<00:09,  1.53s/it]"
     ]
    },
    {
     "name": "stdout",
     "output_type": "stream",
     "text": [
      "torch.Size([50, 128, 128])\n"
     ]
    },
    {
     "name": "stderr",
     "output_type": "stream",
     "text": [
      "Epoch [41/50]:  29%|██▊       | 2/7 [00:02<00:07,  1.49s/it]"
     ]
    },
    {
     "name": "stdout",
     "output_type": "stream",
     "text": [
      "torch.Size([50, 128, 128])\n"
     ]
    },
    {
     "name": "stderr",
     "output_type": "stream",
     "text": [
      "Epoch [41/50]:  43%|████▎     | 3/7 [00:04<00:05,  1.46s/it]"
     ]
    },
    {
     "name": "stdout",
     "output_type": "stream",
     "text": [
      "torch.Size([50, 128, 128])\n"
     ]
    },
    {
     "name": "stderr",
     "output_type": "stream",
     "text": [
      "Epoch [41/50]:  57%|█████▋    | 4/7 [00:05<00:04,  1.45s/it]"
     ]
    },
    {
     "name": "stdout",
     "output_type": "stream",
     "text": [
      "torch.Size([50, 128, 128])\n"
     ]
    },
    {
     "name": "stderr",
     "output_type": "stream",
     "text": [
      "Epoch [41/50]:  71%|███████▏  | 5/7 [00:07<00:02,  1.45s/it]"
     ]
    },
    {
     "name": "stdout",
     "output_type": "stream",
     "text": [
      "torch.Size([50, 128, 128])\n"
     ]
    },
    {
     "name": "stderr",
     "output_type": "stream",
     "text": [
      "Epoch [41/50]:  86%|████████▌ | 6/7 [00:08<00:01,  1.46s/it]"
     ]
    },
    {
     "name": "stdout",
     "output_type": "stream",
     "text": [
      "torch.Size([50, 128, 128])\n"
     ]
    },
    {
     "name": "stderr",
     "output_type": "stream",
     "text": [
      "                                                            "
     ]
    },
    {
     "name": "stdout",
     "output_type": "stream",
     "text": [
      "torch.Size([44, 128, 128])\n",
      "Epoch [41/50], Loss: 0.1109\n"
     ]
    },
    {
     "name": "stderr",
     "output_type": "stream",
     "text": [
      "\r"
     ]
    },
    {
     "name": "stdout",
     "output_type": "stream",
     "text": [
      "torch.Size([48, 128, 128])\n",
      "Validation Loss: 0.5893\n"
     ]
    },
    {
     "name": "stderr",
     "output_type": "stream",
     "text": [
      "Epoch [42/50]:  14%|█▍        | 1/7 [00:01<00:08,  1.44s/it]"
     ]
    },
    {
     "name": "stdout",
     "output_type": "stream",
     "text": [
      "torch.Size([50, 128, 128])\n"
     ]
    },
    {
     "name": "stderr",
     "output_type": "stream",
     "text": [
      "Epoch [42/50]:  29%|██▊       | 2/7 [00:02<00:07,  1.44s/it]"
     ]
    },
    {
     "name": "stdout",
     "output_type": "stream",
     "text": [
      "torch.Size([50, 128, 128])\n"
     ]
    },
    {
     "name": "stderr",
     "output_type": "stream",
     "text": [
      "Epoch [42/50]:  43%|████▎     | 3/7 [00:04<00:05,  1.44s/it]"
     ]
    },
    {
     "name": "stdout",
     "output_type": "stream",
     "text": [
      "torch.Size([50, 128, 128])\n"
     ]
    },
    {
     "name": "stderr",
     "output_type": "stream",
     "text": [
      "Epoch [42/50]:  57%|█████▋    | 4/7 [00:05<00:04,  1.45s/it]"
     ]
    },
    {
     "name": "stdout",
     "output_type": "stream",
     "text": [
      "torch.Size([50, 128, 128])\n"
     ]
    },
    {
     "name": "stderr",
     "output_type": "stream",
     "text": [
      "Epoch [42/50]:  71%|███████▏  | 5/7 [00:07<00:02,  1.47s/it]"
     ]
    },
    {
     "name": "stdout",
     "output_type": "stream",
     "text": [
      "torch.Size([50, 128, 128])\n"
     ]
    },
    {
     "name": "stderr",
     "output_type": "stream",
     "text": [
      "Epoch [42/50]:  86%|████████▌ | 6/7 [00:09<00:01,  1.61s/it]"
     ]
    },
    {
     "name": "stdout",
     "output_type": "stream",
     "text": [
      "torch.Size([50, 128, 128])\n"
     ]
    },
    {
     "name": "stderr",
     "output_type": "stream",
     "text": [
      "                                                            "
     ]
    },
    {
     "name": "stdout",
     "output_type": "stream",
     "text": [
      "torch.Size([44, 128, 128])\n",
      "Epoch [42/50], Loss: 0.1090\n"
     ]
    },
    {
     "name": "stderr",
     "output_type": "stream",
     "text": [
      "\r"
     ]
    },
    {
     "name": "stdout",
     "output_type": "stream",
     "text": [
      "torch.Size([48, 128, 128])\n",
      "Validation Loss: 0.6237\n"
     ]
    },
    {
     "name": "stderr",
     "output_type": "stream",
     "text": [
      "Epoch [43/50]:  14%|█▍        | 1/7 [00:01<00:09,  1.54s/it]"
     ]
    },
    {
     "name": "stdout",
     "output_type": "stream",
     "text": [
      "torch.Size([50, 128, 128])\n"
     ]
    },
    {
     "name": "stderr",
     "output_type": "stream",
     "text": [
      "Epoch [43/50]:  29%|██▊       | 2/7 [00:03<00:07,  1.54s/it]"
     ]
    },
    {
     "name": "stdout",
     "output_type": "stream",
     "text": [
      "torch.Size([50, 128, 128])\n"
     ]
    },
    {
     "name": "stderr",
     "output_type": "stream",
     "text": [
      "Epoch [43/50]:  43%|████▎     | 3/7 [00:04<00:06,  1.55s/it]"
     ]
    },
    {
     "name": "stdout",
     "output_type": "stream",
     "text": [
      "torch.Size([50, 128, 128])\n"
     ]
    },
    {
     "name": "stderr",
     "output_type": "stream",
     "text": [
      "Epoch [43/50]:  57%|█████▋    | 4/7 [00:06<00:04,  1.55s/it]"
     ]
    },
    {
     "name": "stdout",
     "output_type": "stream",
     "text": [
      "torch.Size([50, 128, 128])\n"
     ]
    },
    {
     "name": "stderr",
     "output_type": "stream",
     "text": [
      "Epoch [43/50]:  71%|███████▏  | 5/7 [00:07<00:03,  1.54s/it]"
     ]
    },
    {
     "name": "stdout",
     "output_type": "stream",
     "text": [
      "torch.Size([50, 128, 128])\n"
     ]
    },
    {
     "name": "stderr",
     "output_type": "stream",
     "text": [
      "Epoch [43/50]:  86%|████████▌ | 6/7 [00:09<00:01,  1.55s/it]"
     ]
    },
    {
     "name": "stdout",
     "output_type": "stream",
     "text": [
      "torch.Size([50, 128, 128])\n"
     ]
    },
    {
     "name": "stderr",
     "output_type": "stream",
     "text": [
      "                                                            "
     ]
    },
    {
     "name": "stdout",
     "output_type": "stream",
     "text": [
      "torch.Size([44, 128, 128])\n",
      "Epoch [43/50], Loss: 0.1215\n"
     ]
    },
    {
     "name": "stderr",
     "output_type": "stream",
     "text": [
      "\r"
     ]
    },
    {
     "name": "stdout",
     "output_type": "stream",
     "text": [
      "torch.Size([48, 128, 128])\n",
      "Validation Loss: 0.5444\n"
     ]
    },
    {
     "name": "stderr",
     "output_type": "stream",
     "text": [
      "Epoch [44/50]:  14%|█▍        | 1/7 [00:01<00:09,  1.54s/it]"
     ]
    },
    {
     "name": "stdout",
     "output_type": "stream",
     "text": [
      "torch.Size([50, 128, 128])\n"
     ]
    },
    {
     "name": "stderr",
     "output_type": "stream",
     "text": [
      "Epoch [44/50]:  29%|██▊       | 2/7 [00:02<00:07,  1.49s/it]"
     ]
    },
    {
     "name": "stdout",
     "output_type": "stream",
     "text": [
      "torch.Size([50, 128, 128])\n"
     ]
    },
    {
     "name": "stderr",
     "output_type": "stream",
     "text": [
      "Epoch [44/50]:  43%|████▎     | 3/7 [00:04<00:05,  1.46s/it]"
     ]
    },
    {
     "name": "stdout",
     "output_type": "stream",
     "text": [
      "torch.Size([50, 128, 128])\n"
     ]
    },
    {
     "name": "stderr",
     "output_type": "stream",
     "text": [
      "Epoch [44/50]:  57%|█████▋    | 4/7 [00:05<00:04,  1.48s/it]"
     ]
    },
    {
     "name": "stdout",
     "output_type": "stream",
     "text": [
      "torch.Size([50, 128, 128])\n"
     ]
    },
    {
     "name": "stderr",
     "output_type": "stream",
     "text": [
      "Epoch [44/50]:  71%|███████▏  | 5/7 [00:07<00:03,  1.53s/it]"
     ]
    },
    {
     "name": "stdout",
     "output_type": "stream",
     "text": [
      "torch.Size([50, 128, 128])\n"
     ]
    },
    {
     "name": "stderr",
     "output_type": "stream",
     "text": [
      "Epoch [44/50]:  86%|████████▌ | 6/7 [00:09<00:01,  1.54s/it]"
     ]
    },
    {
     "name": "stdout",
     "output_type": "stream",
     "text": [
      "torch.Size([50, 128, 128])\n"
     ]
    },
    {
     "name": "stderr",
     "output_type": "stream",
     "text": [
      "                                                            "
     ]
    },
    {
     "name": "stdout",
     "output_type": "stream",
     "text": [
      "torch.Size([44, 128, 128])\n",
      "Epoch [44/50], Loss: 0.1424\n"
     ]
    },
    {
     "name": "stderr",
     "output_type": "stream",
     "text": [
      "\r"
     ]
    },
    {
     "name": "stdout",
     "output_type": "stream",
     "text": [
      "torch.Size([48, 128, 128])\n",
      "Validation Loss: 0.5601\n"
     ]
    },
    {
     "name": "stderr",
     "output_type": "stream",
     "text": [
      "Epoch [45/50]:  14%|█▍        | 1/7 [00:01<00:09,  1.55s/it]"
     ]
    },
    {
     "name": "stdout",
     "output_type": "stream",
     "text": [
      "torch.Size([50, 128, 128])\n"
     ]
    },
    {
     "name": "stderr",
     "output_type": "stream",
     "text": [
      "Epoch [45/50]:  29%|██▊       | 2/7 [00:03<00:08,  1.69s/it]"
     ]
    },
    {
     "name": "stdout",
     "output_type": "stream",
     "text": [
      "torch.Size([50, 128, 128])\n"
     ]
    },
    {
     "name": "stderr",
     "output_type": "stream",
     "text": [
      "Epoch [45/50]:  43%|████▎     | 3/7 [00:05<00:07,  1.75s/it]"
     ]
    },
    {
     "name": "stdout",
     "output_type": "stream",
     "text": [
      "torch.Size([50, 128, 128])\n"
     ]
    },
    {
     "name": "stderr",
     "output_type": "stream",
     "text": [
      "Epoch [45/50]:  57%|█████▋    | 4/7 [00:07<00:05,  1.81s/it]"
     ]
    },
    {
     "name": "stdout",
     "output_type": "stream",
     "text": [
      "torch.Size([50, 128, 128])\n"
     ]
    },
    {
     "name": "stderr",
     "output_type": "stream",
     "text": [
      "Epoch [45/50]:  71%|███████▏  | 5/7 [00:08<00:03,  1.81s/it]"
     ]
    },
    {
     "name": "stdout",
     "output_type": "stream",
     "text": [
      "torch.Size([50, 128, 128])\n"
     ]
    },
    {
     "name": "stderr",
     "output_type": "stream",
     "text": [
      "Epoch [45/50]:  86%|████████▌ | 6/7 [00:10<00:01,  1.82s/it]"
     ]
    },
    {
     "name": "stdout",
     "output_type": "stream",
     "text": [
      "torch.Size([50, 128, 128])\n"
     ]
    },
    {
     "name": "stderr",
     "output_type": "stream",
     "text": [
      "                                                            "
     ]
    },
    {
     "name": "stdout",
     "output_type": "stream",
     "text": [
      "torch.Size([44, 128, 128])\n",
      "Epoch [45/50], Loss: 0.1091\n"
     ]
    },
    {
     "name": "stderr",
     "output_type": "stream",
     "text": [
      "\r"
     ]
    },
    {
     "name": "stdout",
     "output_type": "stream",
     "text": [
      "torch.Size([48, 128, 128])\n",
      "Validation Loss: 0.5851\n"
     ]
    },
    {
     "name": "stderr",
     "output_type": "stream",
     "text": [
      "Epoch [46/50]:  14%|█▍        | 1/7 [00:01<00:11,  1.89s/it]"
     ]
    },
    {
     "name": "stdout",
     "output_type": "stream",
     "text": [
      "torch.Size([50, 128, 128])\n"
     ]
    },
    {
     "name": "stderr",
     "output_type": "stream",
     "text": [
      "Epoch [46/50]:  29%|██▊       | 2/7 [00:03<00:08,  1.68s/it]"
     ]
    },
    {
     "name": "stdout",
     "output_type": "stream",
     "text": [
      "torch.Size([50, 128, 128])\n"
     ]
    },
    {
     "name": "stderr",
     "output_type": "stream",
     "text": [
      "Epoch [46/50]:  43%|████▎     | 3/7 [00:04<00:06,  1.62s/it]"
     ]
    },
    {
     "name": "stdout",
     "output_type": "stream",
     "text": [
      "torch.Size([50, 128, 128])\n"
     ]
    },
    {
     "name": "stderr",
     "output_type": "stream",
     "text": [
      "Epoch [46/50]:  57%|█████▋    | 4/7 [00:06<00:04,  1.59s/it]"
     ]
    },
    {
     "name": "stdout",
     "output_type": "stream",
     "text": [
      "torch.Size([50, 128, 128])\n"
     ]
    },
    {
     "name": "stderr",
     "output_type": "stream",
     "text": [
      "Epoch [46/50]:  71%|███████▏  | 5/7 [00:08<00:03,  1.57s/it]"
     ]
    },
    {
     "name": "stdout",
     "output_type": "stream",
     "text": [
      "torch.Size([50, 128, 128])\n"
     ]
    },
    {
     "name": "stderr",
     "output_type": "stream",
     "text": [
      "Epoch [46/50]:  86%|████████▌ | 6/7 [00:09<00:01,  1.56s/it]"
     ]
    },
    {
     "name": "stdout",
     "output_type": "stream",
     "text": [
      "torch.Size([50, 128, 128])\n"
     ]
    },
    {
     "name": "stderr",
     "output_type": "stream",
     "text": [
      "                                                            "
     ]
    },
    {
     "name": "stdout",
     "output_type": "stream",
     "text": [
      "torch.Size([44, 128, 128])\n",
      "Epoch [46/50], Loss: 0.1060\n"
     ]
    },
    {
     "name": "stderr",
     "output_type": "stream",
     "text": [
      "\r"
     ]
    },
    {
     "name": "stdout",
     "output_type": "stream",
     "text": [
      "torch.Size([48, 128, 128])\n",
      "Validation Loss: 0.5172\n"
     ]
    },
    {
     "name": "stderr",
     "output_type": "stream",
     "text": [
      "Epoch [47/50]:  14%|█▍        | 1/7 [00:01<00:09,  1.53s/it]"
     ]
    },
    {
     "name": "stdout",
     "output_type": "stream",
     "text": [
      "torch.Size([50, 128, 128])\n"
     ]
    },
    {
     "name": "stderr",
     "output_type": "stream",
     "text": [
      "Epoch [47/50]:  29%|██▊       | 2/7 [00:03<00:07,  1.54s/it]"
     ]
    },
    {
     "name": "stdout",
     "output_type": "stream",
     "text": [
      "torch.Size([50, 128, 128])\n"
     ]
    },
    {
     "name": "stderr",
     "output_type": "stream",
     "text": [
      "Epoch [47/50]:  43%|████▎     | 3/7 [00:04<00:06,  1.53s/it]"
     ]
    },
    {
     "name": "stdout",
     "output_type": "stream",
     "text": [
      "torch.Size([50, 128, 128])\n"
     ]
    },
    {
     "name": "stderr",
     "output_type": "stream",
     "text": [
      "Epoch [47/50]:  57%|█████▋    | 4/7 [00:06<00:04,  1.49s/it]"
     ]
    },
    {
     "name": "stdout",
     "output_type": "stream",
     "text": [
      "torch.Size([50, 128, 128])\n"
     ]
    },
    {
     "name": "stderr",
     "output_type": "stream",
     "text": [
      "Epoch [47/50]:  71%|███████▏  | 5/7 [00:07<00:02,  1.46s/it]"
     ]
    },
    {
     "name": "stdout",
     "output_type": "stream",
     "text": [
      "torch.Size([50, 128, 128])\n"
     ]
    },
    {
     "name": "stderr",
     "output_type": "stream",
     "text": [
      "Epoch [47/50]:  86%|████████▌ | 6/7 [00:08<00:01,  1.45s/it]"
     ]
    },
    {
     "name": "stdout",
     "output_type": "stream",
     "text": [
      "torch.Size([50, 128, 128])\n"
     ]
    },
    {
     "name": "stderr",
     "output_type": "stream",
     "text": [
      "                                                            "
     ]
    },
    {
     "name": "stdout",
     "output_type": "stream",
     "text": [
      "torch.Size([44, 128, 128])\n",
      "Epoch [47/50], Loss: 0.0765\n"
     ]
    },
    {
     "name": "stderr",
     "output_type": "stream",
     "text": [
      "\r"
     ]
    },
    {
     "name": "stdout",
     "output_type": "stream",
     "text": [
      "torch.Size([48, 128, 128])\n",
      "Validation Loss: 0.6884\n"
     ]
    },
    {
     "name": "stderr",
     "output_type": "stream",
     "text": [
      "Epoch [48/50]:  14%|█▍        | 1/7 [00:01<00:09,  1.53s/it]"
     ]
    },
    {
     "name": "stdout",
     "output_type": "stream",
     "text": [
      "torch.Size([50, 128, 128])\n"
     ]
    },
    {
     "name": "stderr",
     "output_type": "stream",
     "text": [
      "Epoch [48/50]:  29%|██▊       | 2/7 [00:03<00:07,  1.59s/it]"
     ]
    },
    {
     "name": "stdout",
     "output_type": "stream",
     "text": [
      "torch.Size([50, 128, 128])\n"
     ]
    },
    {
     "name": "stderr",
     "output_type": "stream",
     "text": [
      "Epoch [48/50]:  43%|████▎     | 3/7 [00:04<00:06,  1.67s/it]"
     ]
    },
    {
     "name": "stdout",
     "output_type": "stream",
     "text": [
      "torch.Size([50, 128, 128])\n"
     ]
    },
    {
     "name": "stderr",
     "output_type": "stream",
     "text": [
      "Epoch [48/50]:  57%|█████▋    | 4/7 [00:06<00:05,  1.78s/it]"
     ]
    },
    {
     "name": "stdout",
     "output_type": "stream",
     "text": [
      "torch.Size([50, 128, 128])\n"
     ]
    },
    {
     "name": "stderr",
     "output_type": "stream",
     "text": [
      "Epoch [48/50]:  71%|███████▏  | 5/7 [00:08<00:03,  1.81s/it]"
     ]
    },
    {
     "name": "stdout",
     "output_type": "stream",
     "text": [
      "torch.Size([50, 128, 128])\n"
     ]
    },
    {
     "name": "stderr",
     "output_type": "stream",
     "text": [
      "Epoch [48/50]:  86%|████████▌ | 6/7 [00:10<00:01,  1.88s/it]"
     ]
    },
    {
     "name": "stdout",
     "output_type": "stream",
     "text": [
      "torch.Size([50, 128, 128])\n"
     ]
    },
    {
     "name": "stderr",
     "output_type": "stream",
     "text": [
      "                                                            "
     ]
    },
    {
     "name": "stdout",
     "output_type": "stream",
     "text": [
      "torch.Size([44, 128, 128])\n",
      "Epoch [48/50], Loss: 0.0671\n"
     ]
    },
    {
     "name": "stderr",
     "output_type": "stream",
     "text": [
      "\r"
     ]
    },
    {
     "name": "stdout",
     "output_type": "stream",
     "text": [
      "torch.Size([48, 128, 128])\n",
      "Validation Loss: 0.5456\n"
     ]
    },
    {
     "name": "stderr",
     "output_type": "stream",
     "text": [
      "Epoch [49/50]:  14%|█▍        | 1/7 [00:01<00:11,  1.94s/it]"
     ]
    },
    {
     "name": "stdout",
     "output_type": "stream",
     "text": [
      "torch.Size([50, 128, 128])\n"
     ]
    },
    {
     "name": "stderr",
     "output_type": "stream",
     "text": [
      "Epoch [49/50]:  29%|██▊       | 2/7 [00:03<00:09,  1.89s/it]"
     ]
    },
    {
     "name": "stdout",
     "output_type": "stream",
     "text": [
      "torch.Size([50, 128, 128])\n"
     ]
    },
    {
     "name": "stderr",
     "output_type": "stream",
     "text": [
      "Epoch [49/50]:  43%|████▎     | 3/7 [00:05<00:07,  1.89s/it]"
     ]
    },
    {
     "name": "stdout",
     "output_type": "stream",
     "text": [
      "torch.Size([50, 128, 128])\n"
     ]
    },
    {
     "name": "stderr",
     "output_type": "stream",
     "text": [
      "Epoch [49/50]:  57%|█████▋    | 4/7 [00:07<00:05,  1.89s/it]"
     ]
    },
    {
     "name": "stdout",
     "output_type": "stream",
     "text": [
      "torch.Size([50, 128, 128])\n"
     ]
    },
    {
     "name": "stderr",
     "output_type": "stream",
     "text": [
      "Epoch [49/50]:  71%|███████▏  | 5/7 [00:09<00:03,  1.80s/it]"
     ]
    },
    {
     "name": "stdout",
     "output_type": "stream",
     "text": [
      "torch.Size([50, 128, 128])\n"
     ]
    },
    {
     "name": "stderr",
     "output_type": "stream",
     "text": [
      "Epoch [49/50]:  86%|████████▌ | 6/7 [00:10<00:01,  1.75s/it]"
     ]
    },
    {
     "name": "stdout",
     "output_type": "stream",
     "text": [
      "torch.Size([50, 128, 128])\n"
     ]
    },
    {
     "name": "stderr",
     "output_type": "stream",
     "text": [
      "                                                            "
     ]
    },
    {
     "name": "stdout",
     "output_type": "stream",
     "text": [
      "torch.Size([44, 128, 128])\n",
      "Epoch [49/50], Loss: 0.0564\n"
     ]
    },
    {
     "name": "stderr",
     "output_type": "stream",
     "text": [
      "\r"
     ]
    },
    {
     "name": "stdout",
     "output_type": "stream",
     "text": [
      "torch.Size([48, 128, 128])\n",
      "Validation Loss: 0.9280\n"
     ]
    },
    {
     "name": "stderr",
     "output_type": "stream",
     "text": [
      "Epoch [50/50]:  14%|█▍        | 1/7 [00:01<00:09,  1.64s/it]"
     ]
    },
    {
     "name": "stdout",
     "output_type": "stream",
     "text": [
      "torch.Size([50, 128, 128])\n"
     ]
    },
    {
     "name": "stderr",
     "output_type": "stream",
     "text": [
      "Epoch [50/50]:  29%|██▊       | 2/7 [00:03<00:08,  1.65s/it]"
     ]
    },
    {
     "name": "stdout",
     "output_type": "stream",
     "text": [
      "torch.Size([50, 128, 128])\n"
     ]
    },
    {
     "name": "stderr",
     "output_type": "stream",
     "text": [
      "Epoch [50/50]:  43%|████▎     | 3/7 [00:04<00:06,  1.65s/it]"
     ]
    },
    {
     "name": "stdout",
     "output_type": "stream",
     "text": [
      "torch.Size([50, 128, 128])\n"
     ]
    },
    {
     "name": "stderr",
     "output_type": "stream",
     "text": [
      "Epoch [50/50]:  57%|█████▋    | 4/7 [00:06<00:04,  1.65s/it]"
     ]
    },
    {
     "name": "stdout",
     "output_type": "stream",
     "text": [
      "torch.Size([50, 128, 128])\n"
     ]
    },
    {
     "name": "stderr",
     "output_type": "stream",
     "text": [
      "Epoch [50/50]:  71%|███████▏  | 5/7 [00:08<00:03,  1.65s/it]"
     ]
    },
    {
     "name": "stdout",
     "output_type": "stream",
     "text": [
      "torch.Size([50, 128, 128])\n"
     ]
    },
    {
     "name": "stderr",
     "output_type": "stream",
     "text": [
      "Epoch [50/50]:  86%|████████▌ | 6/7 [00:09<00:01,  1.64s/it]"
     ]
    },
    {
     "name": "stdout",
     "output_type": "stream",
     "text": [
      "torch.Size([50, 128, 128])\n"
     ]
    },
    {
     "name": "stderr",
     "output_type": "stream",
     "text": [
      "                                                            "
     ]
    },
    {
     "name": "stdout",
     "output_type": "stream",
     "text": [
      "torch.Size([44, 128, 128])\n",
      "Epoch [50/50], Loss: 0.0662\n"
     ]
    },
    {
     "name": "stderr",
     "output_type": "stream",
     "text": [
      "\r"
     ]
    },
    {
     "name": "stdout",
     "output_type": "stream",
     "text": [
      "torch.Size([48, 128, 128])\n",
      "Validation Loss: 0.6525\n",
      "torch.Size([50, 128, 128])\n",
      "torch.Size([50, 128, 128])\n",
      "torch.Size([2, 128, 128])\n",
      "Test Loss: 0.8773\n",
      "Test Accuracy: 83.33%\n",
      "Recall (Sensitivity): 0.81\n",
      "Precision: 0.86\n",
      "F1 Score: 0.83\n",
      "AUC-ROC: 0.89\n"
     ]
    },
    {
     "data": {
      "image/png": "[encoded data removed]",
      "text/plain": [
       "<Figure size 1000x500 with 2 Axes>"
      ]
     },
     "metadata": {},
     "output_type": "display_data"
    },
    {
     "name": "stdout",
     "output_type": "stream",
     "text": [
      "Mean Test Loss across all subjects: 0.8773\n",
      "Mean Test Accuracy across all subjects: 83.33%\n",
      "Mean Recall (Sensitivity) across all subjects: 0.81\n",
      "Mean Precision across all subjects: 0.86\n",
      "Mean F1 Score across all subjects: 0.83\n",
      "Mean AUC-ROC across all subjects: 0.89\n"
     ]
    }
   ],
   "source": [
    "sys.path.append('preprocessing')\n",
    "import preprocess\n",
    "import dataset\n",
    "import torchcam\n",
    "import models.GGN.ggn_model as GGN\n",
    "import models.GGN.train as train\n",
    "importlib.reload(preprocess)\n",
    "importlib.reload(GGN)\n",
    "importlib.reload(train)\n",
    "importlib.reload(dataset)\n",
    "\n",
    "running_model = config['project_config']['running_model']\n",
    "\n",
    "subjects_id = config['data']['subjects']\n",
    "\n",
    "bids_root = config['data']['path']\n",
    "\n",
    "\n",
    "test_losses = []\n",
    "accuracies = []\n",
    "recalls = []\n",
    "precisions = []\n",
    "f1_scores = []\n",
    "auc_rocs = []\n",
    "\n",
    "if not subjects_id:\n",
    "        subjects_id = [\n",
    "            d for d in os.listdir(bids_root)\n",
    "            if os.path.isdir(os.path.join(bids_root, d)) and d.startswith(\"sub-\")\n",
    "        ]\n",
    "        print(f\"Aucun ID de sujet spécifié. Tous les sujets détectés : {subjects_id}\")\n",
    "\n",
    "for subject in subjects_id:\n",
    "\n",
    "    if running_model == \"GGN\":\n",
    "        train_loader, val_loader, test_loader = dataset.create_dataloader([subject], config)\n",
    "\n",
    "        model = GGN.GGN(**config['models']['GGN']['parameters'], device=device)\n",
    "        \n",
    "        criterion = torch.nn.CrossEntropyLoss()\n",
    "        optimizer = torch.optim.Adam(model.parameters(), lr=0.0001)\n",
    "        num_epochs = 1\n",
    "\n",
    "        # Train and validate the model\n",
    "        train.train(model, train_loader, val_loader, criterion, optimizer, num_epochs, device)\n",
    "\n",
    "        # Test the model\n",
    "        avg_test_loss, accuracy, recall, precision, f1, auc_roc = train.test(model, test_loader, criterion, device)\n",
    "        test_losses.append(avg_test_loss)\n",
    "        accuracies.append(accuracy)\n",
    "        recalls.append(recall)\n",
    "        precisions.append(precision)\n",
    "        f1_scores.append(f1)\n",
    "        auc_rocs.append(auc_roc)\n",
    "        \n",
    "        model.explain_temporal_cnn(test_loader, device)\n",
    "        \n",
    "\n",
    "    elif running_model == \"SVM\":\n",
    "        train_loader, val_loader, test_loader = dataset.create_dataloader([subject], config)\n",
    "\n",
    "        # Convert data loaders to numpy arrays\n",
    "        X_train, y_train = preprocess.dataloader_without_topology_to_numpy(train_loader)\n",
    "        X_val, y_val = preprocess.dataloader_without_topology_to_numpy(val_loader)\n",
    "        X_test, y_test = preprocess.dataloader_without_topology_to_numpy(test_loader)\n",
    "        \n",
    "        print(f\"X_train: {X_train.shape}, y_train: {y_train.shape}\")\n",
    "        print(f\"X_val: {X_val.shape}, y_val: {y_val.shape}\")\n",
    "        print(f\"X_test: {X_test.shape}, y_test: {y_test.shape}\")\n",
    "\n",
    "        # Reshape data\n",
    "        X_train = X_train.reshape(X_train.shape[0], -1)\n",
    "        X_val = X_val.reshape(X_val.shape[0], -1)\n",
    "        X_test = X_test.reshape(X_test.shape[0], -1)\n",
    "\n",
    "        # Train the SVM\n",
    "        svm_params = config['models']['SVM']['parameters']\n",
    "        svm = SVC(**svm_params)\n",
    "        svm.fit(X_train, y_train)\n",
    "\n",
    "        # Evaluate on validation set\n",
    "        y_val_pred = svm.predict(X_val)\n",
    "        val_acc = accuracy_score(y_val, y_val_pred)\n",
    "\n",
    "        # Test the model\n",
    "        y_test_pred = svm.predict(X_test)\n",
    "        test_acc = accuracy_score(y_test, y_test_pred)\n",
    "        accuracies.append(test_acc)\n",
    "\n",
    "# Calculate mean test accuracy across all subjects\n",
    "mean_test_loss = np.mean(test_losses)\n",
    "mean_accuracy = np.mean(accuracies)\n",
    "mean_recall = np.mean(recalls)\n",
    "mean_precision = np.mean(precisions)\n",
    "mean_f1 = np.mean(f1_scores)\n",
    "mean_auc_roc = np.mean(auc_rocs)\n",
    "\n",
    "print(f\"Mean Test Loss across all subjects: {mean_test_loss:.4f}\")\n",
    "print(f\"Mean Test Accuracy across all subjects: {mean_accuracy:.2f}%\")\n",
    "print(f\"Mean Recall (Sensitivity) across all subjects: {mean_recall:.2f}\")\n",
    "print(f\"Mean Precision across all subjects: {mean_precision:.2f}\")\n",
    "print(f\"Mean F1 Score across all subjects: {mean_f1:.2f}\")\n",
    "print(f\"Mean AUC-ROC across all subjects: {mean_auc_roc:.2f}\")\n"
   ]
  },
  {
   "cell_type": "code",
   "execution_count": null,
   "id": "e584f678-7f8f-4193-a151-143474fb40e9",
   "metadata": {},
   "outputs": [],
   "source": []
  }
 ],
 "metadata": {
  "kernelspec": {
   "display_name": "Python 3.11",
   "language": "python",
   "name": "python3"
  },
  "language_info": {
   "codemirror_mode": {
    "name": "ipython",
    "version": 3
   },
   "file_extension": ".py",
   "mimetype": "text/x-python",
   "name": "python",
   "nbconvert_exporter": "python",
   "pygments_lexer": "ipython3",
   "version": "3.11.2"
  }
 },
 "nbformat": 4,
 "nbformat_minor": 5
}
