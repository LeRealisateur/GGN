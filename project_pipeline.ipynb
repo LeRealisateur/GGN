{
 "cells": [
  {
   "cell_type": "code",
   "execution_count": null,
   "id": "7664943a-2a31-424b-aef3-36b79d5362a9",
   "metadata": {
    "ExecuteTime": {
     "end_time": "2024-11-11T11:42:12.941479Z",
     "start_time": "2024-11-11T11:42:03.361066Z"
    },
    "tags": []
   },
   "outputs": [
    {
     "name": "stdout",
     "output_type": "stream",
     "text": [
      "Requirement already satisfied: matplotlib in c:\\users\\fabrice\\appdata\\local\\programs\\python\\python312\\lib\\site-packages (from -r requirements.txt (line 1)) (3.8.4)\n",
      "Requirement already satisfied: mne in c:\\users\\fabrice\\appdata\\local\\programs\\python\\python312\\lib\\site-packages (from -r requirements.txt (line 2)) (1.7.0)\n",
      "Requirement already satisfied: numpy in c:\\users\\fabrice\\appdata\\local\\programs\\python\\python312\\lib\\site-packages (from -r requirements.txt (line 3)) (1.26.4)\n",
      "Requirement already satisfied: torch in c:\\users\\fabrice\\appdata\\local\\programs\\python\\python312\\lib\\site-packages (from -r requirements.txt (line 4)) (2.5.1)\n",
      "Collecting torchvision (from -r requirements.txt (line 5))\n",
      "  Downloading torchvision-0.20.1-cp312-cp312-win_amd64.whl.metadata (6.2 kB)\n",
      "Requirement already satisfied: torch_geometric in c:\\users\\fabrice\\appdata\\local\\programs\\python\\python312\\lib\\site-packages (from -r requirements.txt (line 6)) (2.6.1)\n",
      "Requirement already satisfied: pandas in c:\\users\\fabrice\\appdata\\local\\programs\\python\\python312\\lib\\site-packages (from -r requirements.txt (line 7)) (2.2.2)\n",
      "Requirement already satisfied: PyYAML in c:\\users\\fabrice\\appdata\\local\\programs\\python\\python312\\lib\\site-packages (from -r requirements.txt (line 8)) (6.0.2)\n",
      "Requirement already satisfied: jupyter in c:\\users\\fabrice\\appdata\\local\\programs\\python\\python312\\lib\\site-packages (from -r requirements.txt (line 9)) (1.1.1)\n",
      "Requirement already satisfied: scikit-learn in c:\\users\\fabrice\\appdata\\local\\programs\\python\\python312\\lib\\site-packages (from -r requirements.txt (line 10)) (1.4.2)\n",
      "Requirement already satisfied: contourpy>=1.0.1 in c:\\users\\fabrice\\appdata\\local\\programs\\python\\python312\\lib\\site-packages (from matplotlib->-r requirements.txt (line 1)) (1.2.1)\n",
      "Requirement already satisfied: cycler>=0.10 in c:\\users\\fabrice\\appdata\\local\\programs\\python\\python312\\lib\\site-packages (from matplotlib->-r requirements.txt (line 1)) (0.12.1)\n",
      "Requirement already satisfied: fonttools>=4.22.0 in c:\\users\\fabrice\\appdata\\local\\programs\\python\\python312\\lib\\site-packages (from matplotlib->-r requirements.txt (line 1)) (4.51.0)\n",
      "Requirement already satisfied: kiwisolver>=1.3.1 in c:\\users\\fabrice\\appdata\\local\\programs\\python\\python312\\lib\\site-packages (from matplotlib->-r requirements.txt (line 1)) (1.4.5)\n",
      "Requirement already satisfied: packaging>=20.0 in c:\\users\\fabrice\\appdata\\local\\programs\\python\\python312\\lib\\site-packages (from matplotlib->-r requirements.txt (line 1)) (24.0)\n",
      "Requirement already satisfied: pillow>=8 in c:\\users\\fabrice\\appdata\\local\\programs\\python\\python312\\lib\\site-packages (from matplotlib->-r requirements.txt (line 1)) (10.3.0)\n",
      "Requirement already satisfied: pyparsing>=2.3.1 in c:\\users\\fabrice\\appdata\\local\\programs\\python\\python312\\lib\\site-packages (from matplotlib->-r requirements.txt (line 1)) (3.1.2)\n",
      "Requirement already satisfied: python-dateutil>=2.7 in c:\\users\\fabrice\\appdata\\local\\programs\\python\\python312\\lib\\site-packages (from matplotlib->-r requirements.txt (line 1)) (2.9.0.post0)\n",
      "Requirement already satisfied: decorator in c:\\users\\fabrice\\appdata\\local\\programs\\python\\python312\\lib\\site-packages (from mne->-r requirements.txt (line 2)) (5.1.1)\n",
      "Requirement already satisfied: jinja2 in c:\\users\\fabrice\\appdata\\local\\programs\\python\\python312\\lib\\site-packages (from mne->-r requirements.txt (line 2)) (3.1.3)\n",
      "Requirement already satisfied: lazy-loader>=0.3 in c:\\users\\fabrice\\appdata\\local\\programs\\python\\python312\\lib\\site-packages (from mne->-r requirements.txt (line 2)) (0.4)\n",
      "Requirement already satisfied: pooch>=1.5 in c:\\users\\fabrice\\appdata\\local\\programs\\python\\python312\\lib\\site-packages (from mne->-r requirements.txt (line 2)) (1.8.1)\n",
      "Requirement already satisfied: scipy>=1.7.1 in c:\\users\\fabrice\\appdata\\local\\programs\\python\\python312\\lib\\site-packages (from mne->-r requirements.txt (line 2)) (1.13.0)\n",
      "Requirement already satisfied: tqdm in c:\\users\\fabrice\\appdata\\local\\programs\\python\\python312\\lib\\site-packages (from mne->-r requirements.txt (line 2)) (4.66.2)\n",
      "Requirement already satisfied: filelock in c:\\users\\fabrice\\appdata\\local\\programs\\python\\python312\\lib\\site-packages (from torch->-r requirements.txt (line 4)) (3.13.4)\n",
      "Requirement already satisfied: typing-extensions>=4.8.0 in c:\\users\\fabrice\\appdata\\local\\programs\\python\\python312\\lib\\site-packages (from torch->-r requirements.txt (line 4)) (4.11.0)\n",
      "Requirement already satisfied: networkx in c:\\users\\fabrice\\appdata\\local\\programs\\python\\python312\\lib\\site-packages (from torch->-r requirements.txt (line 4)) (3.3)\n",
      "Requirement already satisfied: fsspec in c:\\users\\fabrice\\appdata\\local\\programs\\python\\python312\\lib\\site-packages (from torch->-r requirements.txt (line 4)) (2024.3.1)\n",
      "Requirement already satisfied: setuptools in c:\\users\\fabrice\\appdata\\local\\programs\\python\\python312\\lib\\site-packages (from torch->-r requirements.txt (line 4)) (69.5.1)\n",
      "Requirement already satisfied: sympy==1.13.1 in c:\\users\\fabrice\\appdata\\local\\programs\\python\\python312\\lib\\site-packages (from torch->-r requirements.txt (line 4)) (1.13.1)\n",
      "Requirement already satisfied: mpmath<1.4,>=1.1.0 in c:\\users\\fabrice\\appdata\\local\\programs\\python\\python312\\lib\\site-packages (from sympy==1.13.1->torch->-r requirements.txt (line 4)) (1.3.0)\n",
      "Requirement already satisfied: aiohttp in c:\\users\\fabrice\\appdata\\local\\programs\\python\\python312\\lib\\site-packages (from torch_geometric->-r requirements.txt (line 6)) (3.10.10)\n",
      "Requirement already satisfied: psutil>=5.8.0 in c:\\users\\fabrice\\appdata\\local\\programs\\python\\python312\\lib\\site-packages (from torch_geometric->-r requirements.txt (line 6)) (5.9.8)\n",
      "Requirement already satisfied: requests in c:\\users\\fabrice\\appdata\\local\\programs\\python\\python312\\lib\\site-packages (from torch_geometric->-r requirements.txt (line 6)) (2.31.0)\n",
      "Requirement already satisfied: pytz>=2020.1 in c:\\users\\fabrice\\appdata\\local\\programs\\python\\python312\\lib\\site-packages (from pandas->-r requirements.txt (line 7)) (2024.1)\n",
      "Requirement already satisfied: tzdata>=2022.7 in c:\\users\\fabrice\\appdata\\local\\programs\\python\\python312\\lib\\site-packages (from pandas->-r requirements.txt (line 7)) (2024.1)\n",
      "Requirement already satisfied: notebook in c:\\users\\fabrice\\appdata\\local\\programs\\python\\python312\\lib\\site-packages (from jupyter->-r requirements.txt (line 9)) (7.2.2)\n",
      "Requirement already satisfied: jupyter-console in c:\\users\\fabrice\\appdata\\local\\programs\\python\\python312\\lib\\site-packages (from jupyter->-r requirements.txt (line 9)) (6.6.3)\n",
      "Requirement already satisfied: nbconvert in c:\\users\\fabrice\\appdata\\local\\programs\\python\\python312\\lib\\site-packages (from jupyter->-r requirements.txt (line 9)) (7.16.4)\n",
      "Requirement already satisfied: ipykernel in c:\\users\\fabrice\\appdata\\local\\programs\\python\\python312\\lib\\site-packages (from jupyter->-r requirements.txt (line 9)) (6.29.4)\n",
      "Requirement already satisfied: ipywidgets in c:\\users\\fabrice\\appdata\\local\\programs\\python\\python312\\lib\\site-packages (from jupyter->-r requirements.txt (line 9)) (8.1.5)\n",
      "Requirement already satisfied: jupyterlab in c:\\users\\fabrice\\appdata\\local\\programs\\python\\python312\\lib\\site-packages (from jupyter->-r requirements.txt (line 9)) (4.2.5)\n",
      "Requirement already satisfied: joblib>=1.2.0 in c:\\users\\fabrice\\appdata\\local\\programs\\python\\python312\\lib\\site-packages (from scikit-learn->-r requirements.txt (line 10)) (1.4.0)\n",
      "Requirement already satisfied: threadpoolctl>=2.0.0 in c:\\users\\fabrice\\appdata\\local\\programs\\python\\python312\\lib\\site-packages (from scikit-learn->-r requirements.txt (line 10)) (3.4.0)\n",
      "Requirement already satisfied: platformdirs>=2.5.0 in c:\\users\\fabrice\\appdata\\local\\programs\\python\\python312\\lib\\site-packages (from pooch>=1.5->mne->-r requirements.txt (line 2)) (4.2.0)\n",
      "Requirement already satisfied: six>=1.5 in c:\\users\\fabrice\\appdata\\local\\programs\\python\\python312\\lib\\site-packages (from python-dateutil>=2.7->matplotlib->-r requirements.txt (line 1)) (1.16.0)\n",
      "Requirement already satisfied: charset-normalizer<4,>=2 in c:\\users\\fabrice\\appdata\\local\\programs\\python\\python312\\lib\\site-packages (from requests->torch_geometric->-r requirements.txt (line 6)) (3.3.2)\n",
      "Requirement already satisfied: idna<4,>=2.5 in c:\\users\\fabrice\\appdata\\local\\programs\\python\\python312\\lib\\site-packages (from requests->torch_geometric->-r requirements.txt (line 6)) (3.7)\n",
      "Requirement already satisfied: urllib3<3,>=1.21.1 in c:\\users\\fabrice\\appdata\\local\\programs\\python\\python312\\lib\\site-packages (from requests->torch_geometric->-r requirements.txt (line 6)) (2.2.1)\n",
      "Requirement already satisfied: certifi>=2017.4.17 in c:\\users\\fabrice\\appdata\\local\\programs\\python\\python312\\lib\\site-packages (from requests->torch_geometric->-r requirements.txt (line 6)) (2024.2.2)\n",
      "Requirement already satisfied: aiohappyeyeballs>=2.3.0 in c:\\users\\fabrice\\appdata\\local\\programs\\python\\python312\\lib\\site-packages (from aiohttp->torch_geometric->-r requirements.txt (line 6)) (2.4.3)\n",
      "Requirement already satisfied: aiosignal>=1.1.2 in c:\\users\\fabrice\\appdata\\local\\programs\\python\\python312\\lib\\site-packages (from aiohttp->torch_geometric->-r requirements.txt (line 6)) (1.3.1)\n",
      "Requirement already satisfied: attrs>=17.3.0 in c:\\users\\fabrice\\appdata\\local\\programs\\python\\python312\\lib\\site-packages (from aiohttp->torch_geometric->-r requirements.txt (line 6)) (24.2.0)\n",
      "Requirement already satisfied: frozenlist>=1.1.1 in c:\\users\\fabrice\\appdata\\local\\programs\\python\\python312\\lib\\site-packages (from aiohttp->torch_geometric->-r requirements.txt (line 6)) (1.5.0)\n",
      "Requirement already satisfied: multidict<7.0,>=4.5 in c:\\users\\fabrice\\appdata\\local\\programs\\python\\python312\\lib\\site-packages (from aiohttp->torch_geometric->-r requirements.txt (line 6)) (6.1.0)\n",
      "Requirement already satisfied: yarl<2.0,>=1.12.0 in c:\\users\\fabrice\\appdata\\local\\programs\\python\\python312\\lib\\site-packages (from aiohttp->torch_geometric->-r requirements.txt (line 6)) (1.17.1)\n",
      "Requirement already satisfied: comm>=0.1.1 in c:\\users\\fabrice\\appdata\\local\\programs\\python\\python312\\lib\\site-packages (from ipykernel->jupyter->-r requirements.txt (line 9)) (0.2.2)\n",
      "Requirement already satisfied: debugpy>=1.6.5 in c:\\users\\fabrice\\appdata\\local\\programs\\python\\python312\\lib\\site-packages (from ipykernel->jupyter->-r requirements.txt (line 9)) (1.8.1)\n",
      "Requirement already satisfied: ipython>=7.23.1 in c:\\users\\fabrice\\appdata\\local\\programs\\python\\python312\\lib\\site-packages (from ipykernel->jupyter->-r requirements.txt (line 9)) (8.23.0)\n",
      "Requirement already satisfied: jupyter-client>=6.1.12 in c:\\users\\fabrice\\appdata\\local\\programs\\python\\python312\\lib\\site-packages (from ipykernel->jupyter->-r requirements.txt (line 9)) (8.6.1)\n",
      "Requirement already satisfied: jupyter-core!=5.0.*,>=4.12 in c:\\users\\fabrice\\appdata\\local\\programs\\python\\python312\\lib\\site-packages (from ipykernel->jupyter->-r requirements.txt (line 9)) (5.7.2)\n",
      "Requirement already satisfied: matplotlib-inline>=0.1 in c:\\users\\fabrice\\appdata\\local\\programs\\python\\python312\\lib\\site-packages (from ipykernel->jupyter->-r requirements.txt (line 9)) (0.1.6)\n",
      "Requirement already satisfied: nest-asyncio in c:\\users\\fabrice\\appdata\\local\\programs\\python\\python312\\lib\\site-packages (from ipykernel->jupyter->-r requirements.txt (line 9)) (1.6.0)\n",
      "Requirement already satisfied: pyzmq>=24 in c:\\users\\fabrice\\appdata\\local\\programs\\python\\python312\\lib\\site-packages (from ipykernel->jupyter->-r requirements.txt (line 9)) (25.1.2)\n",
      "Requirement already satisfied: tornado>=6.1 in c:\\users\\fabrice\\appdata\\local\\programs\\python\\python312\\lib\\site-packages (from ipykernel->jupyter->-r requirements.txt (line 9)) (6.4)\n",
      "Requirement already satisfied: traitlets>=5.4.0 in c:\\users\\fabrice\\appdata\\local\\programs\\python\\python312\\lib\\site-packages (from ipykernel->jupyter->-r requirements.txt (line 9)) (5.14.2)\n",
      "Requirement already satisfied: widgetsnbextension~=4.0.12 in c:\\users\\fabrice\\appdata\\local\\programs\\python\\python312\\lib\\site-packages (from ipywidgets->jupyter->-r requirements.txt (line 9)) (4.0.13)\n",
      "Requirement already satisfied: jupyterlab-widgets~=3.0.12 in c:\\users\\fabrice\\appdata\\local\\programs\\python\\python312\\lib\\site-packages (from ipywidgets->jupyter->-r requirements.txt (line 9)) (3.0.13)\n",
      "Requirement already satisfied: MarkupSafe>=2.0 in c:\\users\\fabrice\\appdata\\local\\programs\\python\\python312\\lib\\site-packages (from jinja2->mne->-r requirements.txt (line 2)) (2.1.5)\n",
      "Requirement already satisfied: prompt-toolkit>=3.0.30 in c:\\users\\fabrice\\appdata\\local\\programs\\python\\python312\\lib\\site-packages (from jupyter-console->jupyter->-r requirements.txt (line 9)) (3.0.43)\n",
      "Requirement already satisfied: pygments in c:\\users\\fabrice\\appdata\\local\\programs\\python\\python312\\lib\\site-packages (from jupyter-console->jupyter->-r requirements.txt (line 9)) (2.17.2)\n",
      "Requirement already satisfied: async-lru>=1.0.0 in c:\\users\\fabrice\\appdata\\local\\programs\\python\\python312\\lib\\site-packages (from jupyterlab->jupyter->-r requirements.txt (line 9)) (2.0.4)\n",
      "Requirement already satisfied: httpx>=0.25.0 in c:\\users\\fabrice\\appdata\\local\\programs\\python\\python312\\lib\\site-packages (from jupyterlab->jupyter->-r requirements.txt (line 9)) (0.27.2)\n",
      "Requirement already satisfied: jupyter-lsp>=2.0.0 in c:\\users\\fabrice\\appdata\\local\\programs\\python\\python312\\lib\\site-packages (from jupyterlab->jupyter->-r requirements.txt (line 9)) (2.2.5)\n",
      "Requirement already satisfied: jupyter-server<3,>=2.4.0 in c:\\users\\fabrice\\appdata\\local\\programs\\python\\python312\\lib\\site-packages (from jupyterlab->jupyter->-r requirements.txt (line 9)) (2.14.2)\n",
      "Requirement already satisfied: jupyterlab-server<3,>=2.27.1 in c:\\users\\fabrice\\appdata\\local\\programs\\python\\python312\\lib\\site-packages (from jupyterlab->jupyter->-r requirements.txt (line 9)) (2.27.3)\n",
      "Requirement already satisfied: notebook-shim>=0.2 in c:\\users\\fabrice\\appdata\\local\\programs\\python\\python312\\lib\\site-packages (from jupyterlab->jupyter->-r requirements.txt (line 9)) (0.2.4)\n",
      "Requirement already satisfied: beautifulsoup4 in c:\\users\\fabrice\\appdata\\local\\programs\\python\\python312\\lib\\site-packages (from nbconvert->jupyter->-r requirements.txt (line 9)) (4.12.3)\n",
      "Requirement already satisfied: bleach!=5.0.0 in c:\\users\\fabrice\\appdata\\local\\programs\\python\\python312\\lib\\site-packages (from nbconvert->jupyter->-r requirements.txt (line 9)) (6.2.0)\n",
      "Requirement already satisfied: defusedxml in c:\\users\\fabrice\\appdata\\local\\programs\\python\\python312\\lib\\site-packages (from nbconvert->jupyter->-r requirements.txt (line 9)) (0.7.1)\n",
      "Requirement already satisfied: jupyterlab-pygments in c:\\users\\fabrice\\appdata\\local\\programs\\python\\python312\\lib\\site-packages (from nbconvert->jupyter->-r requirements.txt (line 9)) (0.3.0)\n",
      "Requirement already satisfied: mistune<4,>=2.0.3 in c:\\users\\fabrice\\appdata\\local\\programs\\python\\python312\\lib\\site-packages (from nbconvert->jupyter->-r requirements.txt (line 9)) (3.0.2)\n",
      "Requirement already satisfied: nbclient>=0.5.0 in c:\\users\\fabrice\\appdata\\local\\programs\\python\\python312\\lib\\site-packages (from nbconvert->jupyter->-r requirements.txt (line 9)) (0.10.0)\n",
      "Requirement already satisfied: nbformat>=5.7 in c:\\users\\fabrice\\appdata\\local\\programs\\python\\python312\\lib\\site-packages (from nbconvert->jupyter->-r requirements.txt (line 9)) (5.10.4)\n",
      "Requirement already satisfied: pandocfilters>=1.4.1 in c:\\users\\fabrice\\appdata\\local\\programs\\python\\python312\\lib\\site-packages (from nbconvert->jupyter->-r requirements.txt (line 9)) (1.5.1)\n",
      "Requirement already satisfied: tinycss2 in c:\\users\\fabrice\\appdata\\local\\programs\\python\\python312\\lib\\site-packages (from nbconvert->jupyter->-r requirements.txt (line 9)) (1.4.0)\n",
      "Requirement already satisfied: colorama in c:\\users\\fabrice\\appdata\\local\\programs\\python\\python312\\lib\\site-packages (from tqdm->mne->-r requirements.txt (line 2)) (0.4.6)\n",
      "Requirement already satisfied: webencodings in c:\\users\\fabrice\\appdata\\local\\programs\\python\\python312\\lib\\site-packages (from bleach!=5.0.0->nbconvert->jupyter->-r requirements.txt (line 9)) (0.5.1)\n",
      "Requirement already satisfied: anyio in c:\\users\\fabrice\\appdata\\local\\programs\\python\\python312\\lib\\site-packages (from httpx>=0.25.0->jupyterlab->jupyter->-r requirements.txt (line 9)) (4.6.2.post1)\n",
      "Requirement already satisfied: httpcore==1.* in c:\\users\\fabrice\\appdata\\local\\programs\\python\\python312\\lib\\site-packages (from httpx>=0.25.0->jupyterlab->jupyter->-r requirements.txt (line 9)) (1.0.6)\n",
      "Requirement already satisfied: sniffio in c:\\users\\fabrice\\appdata\\local\\programs\\python\\python312\\lib\\site-packages (from httpx>=0.25.0->jupyterlab->jupyter->-r requirements.txt (line 9)) (1.3.1)\n",
      "Requirement already satisfied: h11<0.15,>=0.13 in c:\\users\\fabrice\\appdata\\local\\programs\\python\\python312\\lib\\site-packages (from httpcore==1.*->httpx>=0.25.0->jupyterlab->jupyter->-r requirements.txt (line 9)) (0.14.0)\n",
      "Requirement already satisfied: jedi>=0.16 in c:\\users\\fabrice\\appdata\\local\\programs\\python\\python312\\lib\\site-packages (from ipython>=7.23.1->ipykernel->jupyter->-r requirements.txt (line 9)) (0.19.1)\n",
      "Requirement already satisfied: stack-data in c:\\users\\fabrice\\appdata\\local\\programs\\python\\python312\\lib\\site-packages (from ipython>=7.23.1->ipykernel->jupyter->-r requirements.txt (line 9)) (0.6.3)\n",
      "Requirement already satisfied: pywin32>=300 in c:\\users\\fabrice\\appdata\\local\\programs\\python\\python312\\lib\\site-packages (from jupyter-core!=5.0.*,>=4.12->ipykernel->jupyter->-r requirements.txt (line 9)) (306)\n",
      "Requirement already satisfied: argon2-cffi>=21.1 in c:\\users\\fabrice\\appdata\\local\\programs\\python\\python312\\lib\\site-packages (from jupyter-server<3,>=2.4.0->jupyterlab->jupyter->-r requirements.txt (line 9)) (23.1.0)\n",
      "Requirement already satisfied: jupyter-events>=0.9.0 in c:\\users\\fabrice\\appdata\\local\\programs\\python\\python312\\lib\\site-packages (from jupyter-server<3,>=2.4.0->jupyterlab->jupyter->-r requirements.txt (line 9)) (0.10.0)\n",
      "Requirement already satisfied: jupyter-server-terminals>=0.4.4 in c:\\users\\fabrice\\appdata\\local\\programs\\python\\python312\\lib\\site-packages (from jupyter-server<3,>=2.4.0->jupyterlab->jupyter->-r requirements.txt (line 9)) (0.5.3)\n",
      "Requirement already satisfied: overrides>=5.0 in c:\\users\\fabrice\\appdata\\local\\programs\\python\\python312\\lib\\site-packages (from jupyter-server<3,>=2.4.0->jupyterlab->jupyter->-r requirements.txt (line 9)) (7.7.0)\n",
      "Requirement already satisfied: prometheus-client>=0.9 in c:\\users\\fabrice\\appdata\\local\\programs\\python\\python312\\lib\\site-packages (from jupyter-server<3,>=2.4.0->jupyterlab->jupyter->-r requirements.txt (line 9)) (0.21.0)\n",
      "Requirement already satisfied: pywinpty>=2.0.1 in c:\\users\\fabrice\\appdata\\local\\programs\\python\\python312\\lib\\site-packages (from jupyter-server<3,>=2.4.0->jupyterlab->jupyter->-r requirements.txt (line 9)) (2.0.14)\n",
      "Requirement already satisfied: send2trash>=1.8.2 in c:\\users\\fabrice\\appdata\\local\\programs\\python\\python312\\lib\\site-packages (from jupyter-server<3,>=2.4.0->jupyterlab->jupyter->-r requirements.txt (line 9)) (1.8.3)\n",
      "Requirement already satisfied: terminado>=0.8.3 in c:\\users\\fabrice\\appdata\\local\\programs\\python\\python312\\lib\\site-packages (from jupyter-server<3,>=2.4.0->jupyterlab->jupyter->-r requirements.txt (line 9)) (0.18.1)\n",
      "Requirement already satisfied: websocket-client>=1.7 in c:\\users\\fabrice\\appdata\\local\\programs\\python\\python312\\lib\\site-packages (from jupyter-server<3,>=2.4.0->jupyterlab->jupyter->-r requirements.txt (line 9)) (1.8.0)\n",
      "Requirement already satisfied: babel>=2.10 in c:\\users\\fabrice\\appdata\\local\\programs\\python\\python312\\lib\\site-packages (from jupyterlab-server<3,>=2.27.1->jupyterlab->jupyter->-r requirements.txt (line 9)) (2.16.0)\n",
      "Requirement already satisfied: json5>=0.9.0 in c:\\users\\fabrice\\appdata\\local\\programs\\python\\python312\\lib\\site-packages (from jupyterlab-server<3,>=2.27.1->jupyterlab->jupyter->-r requirements.txt (line 9)) (0.9.27)\n",
      "Requirement already satisfied: jsonschema>=4.18.0 in c:\\users\\fabrice\\appdata\\local\\programs\\python\\python312\\lib\\site-packages (from jupyterlab-server<3,>=2.27.1->jupyterlab->jupyter->-r requirements.txt (line 9)) (4.23.0)\n",
      "Requirement already satisfied: fastjsonschema>=2.15 in c:\\users\\fabrice\\appdata\\local\\programs\\python\\python312\\lib\\site-packages (from nbformat>=5.7->nbconvert->jupyter->-r requirements.txt (line 9)) (2.20.0)\n",
      "Requirement already satisfied: wcwidth in c:\\users\\fabrice\\appdata\\local\\programs\\python\\python312\\lib\\site-packages (from prompt-toolkit>=3.0.30->jupyter-console->jupyter->-r requirements.txt (line 9)) (0.2.13)\n",
      "Requirement already satisfied: propcache>=0.2.0 in c:\\users\\fabrice\\appdata\\local\\programs\\python\\python312\\lib\\site-packages (from yarl<2.0,>=1.12.0->aiohttp->torch_geometric->-r requirements.txt (line 6)) (0.2.0)\n",
      "Requirement already satisfied: soupsieve>1.2 in c:\\users\\fabrice\\appdata\\local\\programs\\python\\python312\\lib\\site-packages (from beautifulsoup4->nbconvert->jupyter->-r requirements.txt (line 9)) (2.6)\n",
      "Requirement already satisfied: argon2-cffi-bindings in c:\\users\\fabrice\\appdata\\local\\programs\\python\\python312\\lib\\site-packages (from argon2-cffi>=21.1->jupyter-server<3,>=2.4.0->jupyterlab->jupyter->-r requirements.txt (line 9)) (21.2.0)\n",
      "Requirement already satisfied: parso<0.9.0,>=0.8.3 in c:\\users\\fabrice\\appdata\\local\\programs\\python\\python312\\lib\\site-packages (from jedi>=0.16->ipython>=7.23.1->ipykernel->jupyter->-r requirements.txt (line 9)) (0.8.4)\n",
      "Requirement already satisfied: jsonschema-specifications>=2023.03.6 in c:\\users\\fabrice\\appdata\\local\\programs\\python\\python312\\lib\\site-packages (from jsonschema>=4.18.0->jupyterlab-server<3,>=2.27.1->jupyterlab->jupyter->-r requirements.txt (line 9)) (2024.10.1)\n",
      "Requirement already satisfied: referencing>=0.28.4 in c:\\users\\fabrice\\appdata\\local\\programs\\python\\python312\\lib\\site-packages (from jsonschema>=4.18.0->jupyterlab-server<3,>=2.27.1->jupyterlab->jupyter->-r requirements.txt (line 9)) (0.35.1)\n",
      "Requirement already satisfied: rpds-py>=0.7.1 in c:\\users\\fabrice\\appdata\\local\\programs\\python\\python312\\lib\\site-packages (from jsonschema>=4.18.0->jupyterlab-server<3,>=2.27.1->jupyterlab->jupyter->-r requirements.txt (line 9)) (0.21.0)\n",
      "Requirement already satisfied: python-json-logger>=2.0.4 in c:\\users\\fabrice\\appdata\\local\\programs\\python\\python312\\lib\\site-packages (from jupyter-events>=0.9.0->jupyter-server<3,>=2.4.0->jupyterlab->jupyter->-r requirements.txt (line 9)) (2.0.7)\n",
      "Requirement already satisfied: rfc3339-validator in c:\\users\\fabrice\\appdata\\local\\programs\\python\\python312\\lib\\site-packages (from jupyter-events>=0.9.0->jupyter-server<3,>=2.4.0->jupyterlab->jupyter->-r requirements.txt (line 9)) (0.1.4)\n",
      "Requirement already satisfied: rfc3986-validator>=0.1.1 in c:\\users\\fabrice\\appdata\\local\\programs\\python\\python312\\lib\\site-packages (from jupyter-events>=0.9.0->jupyter-server<3,>=2.4.0->jupyterlab->jupyter->-r requirements.txt (line 9)) (0.1.1)\n",
      "Requirement already satisfied: executing>=1.2.0 in c:\\users\\fabrice\\appdata\\local\\programs\\python\\python312\\lib\\site-packages (from stack-data->ipython>=7.23.1->ipykernel->jupyter->-r requirements.txt (line 9)) (2.0.1)\n",
      "Requirement already satisfied: asttokens>=2.1.0 in c:\\users\\fabrice\\appdata\\local\\programs\\python\\python312\\lib\\site-packages (from stack-data->ipython>=7.23.1->ipykernel->jupyter->-r requirements.txt (line 9)) (2.4.1)\n",
      "Requirement already satisfied: pure-eval in c:\\users\\fabrice\\appdata\\local\\programs\\python\\python312\\lib\\site-packages (from stack-data->ipython>=7.23.1->ipykernel->jupyter->-r requirements.txt (line 9)) (0.2.2)\n",
      "Requirement already satisfied: fqdn in c:\\users\\fabrice\\appdata\\local\\programs\\python\\python312\\lib\\site-packages (from jsonschema[format-nongpl]>=4.18.0->jupyter-events>=0.9.0->jupyter-server<3,>=2.4.0->jupyterlab->jupyter->-r requirements.txt (line 9)) (1.5.1)\n",
      "Requirement already satisfied: isoduration in c:\\users\\fabrice\\appdata\\local\\programs\\python\\python312\\lib\\site-packages (from jsonschema[format-nongpl]>=4.18.0->jupyter-events>=0.9.0->jupyter-server<3,>=2.4.0->jupyterlab->jupyter->-r requirements.txt (line 9)) (20.11.0)\n",
      "Requirement already satisfied: jsonpointer>1.13 in c:\\users\\fabrice\\appdata\\local\\programs\\python\\python312\\lib\\site-packages (from jsonschema[format-nongpl]>=4.18.0->jupyter-events>=0.9.0->jupyter-server<3,>=2.4.0->jupyterlab->jupyter->-r requirements.txt (line 9)) (3.0.0)\n",
      "Requirement already satisfied: uri-template in c:\\users\\fabrice\\appdata\\local\\programs\\python\\python312\\lib\\site-packages (from jsonschema[format-nongpl]>=4.18.0->jupyter-events>=0.9.0->jupyter-server<3,>=2.4.0->jupyterlab->jupyter->-r requirements.txt (line 9)) (1.3.0)\n",
      "Requirement already satisfied: webcolors>=24.6.0 in c:\\users\\fabrice\\appdata\\local\\programs\\python\\python312\\lib\\site-packages (from jsonschema[format-nongpl]>=4.18.0->jupyter-events>=0.9.0->jupyter-server<3,>=2.4.0->jupyterlab->jupyter->-r requirements.txt (line 9)) (24.11.1)\n",
      "Requirement already satisfied: cffi>=1.0.1 in c:\\users\\fabrice\\appdata\\local\\programs\\python\\python312\\lib\\site-packages (from argon2-cffi-bindings->argon2-cffi>=21.1->jupyter-server<3,>=2.4.0->jupyterlab->jupyter->-r requirements.txt (line 9)) (1.17.1)\n",
      "Requirement already satisfied: pycparser in c:\\users\\fabrice\\appdata\\local\\programs\\python\\python312\\lib\\site-packages (from cffi>=1.0.1->argon2-cffi-bindings->argon2-cffi>=21.1->jupyter-server<3,>=2.4.0->jupyterlab->jupyter->-r requirements.txt (line 9)) (2.22)\n",
      "Requirement already satisfied: arrow>=0.15.0 in c:\\users\\fabrice\\appdata\\local\\programs\\python\\python312\\lib\\site-packages (from isoduration->jsonschema[format-nongpl]>=4.18.0->jupyter-events>=0.9.0->jupyter-server<3,>=2.4.0->jupyterlab->jupyter->-r requirements.txt (line 9)) (1.3.0)\n",
      "Requirement already satisfied: types-python-dateutil>=2.8.10 in c:\\users\\fabrice\\appdata\\local\\programs\\python\\python312\\lib\\site-packages (from arrow>=0.15.0->isoduration->jsonschema[format-nongpl]>=4.18.0->jupyter-events>=0.9.0->jupyter-server<3,>=2.4.0->jupyterlab->jupyter->-r requirements.txt (line 9)) (2.9.0.20241003)\n",
      "Downloading torchvision-0.20.1-cp312-cp312-win_amd64.whl (1.6 MB)\n",
      "   ---------------------------------------- 0.0/1.6 MB ? eta -:--:--\n",
      "   ---------------------------------------- 0.0/1.6 MB ? eta -:--:--\n",
      "   ---------------------------------------- 0.0/1.6 MB ? eta -:--:--\n",
      "   - -------------------------------------- 0.0/1.6 MB 326.8 kB/s eta 0:00:05\n",
      "   ----------- ---------------------------- 0.4/1.6 MB 3.1 MB/s eta 0:00:01\n",
      "   -------------------------------- ------- 1.3/1.6 MB 6.7 MB/s eta 0:00:01\n",
      "   ---------------------------------------- 1.6/1.6 MB 6.6 MB/s eta 0:00:00\n",
      "Installing collected packages: torchvision\n",
      "Successfully installed torchvision-0.20.1\n"
     ]
    },
    {
     "name": "stderr",
     "output_type": "stream",
     "text": [
      "\n",
      "[notice] A new release of pip is available: 24.0 -> 24.3.1\n",
      "[notice] To update, run: python.exe -m pip install --upgrade pip\n"
     ]
    }
   ],
   "source": [
    "! pip install -r requirements.txt"
   ]
  },
  {
   "cell_type": "code",
   "execution_count": null,
   "id": "ad705af5-21ab-4778-b30e-04a1d53db59d",
   "metadata": {
    "ExecuteTime": {
     "end_time": "2024-11-11T11:42:34.709137Z",
     "start_time": "2024-11-11T11:42:18.400387Z"
    },
    "tags": []
   },
   "outputs": [],
   "source": [
    "# Manipulation de données\n",
    "import pandas as pd\n",
    "import numpy as np\n",
    "\n",
    "# Traitement du signal\n",
    "from scipy import signal\n",
    "import mne\n",
    "\n",
    "# Machine Learning et Deep Learning\n",
    "from sklearn.model_selection import train_test_split, GridSearchCV\n",
    "from sklearn.svm import SVC\n",
    "from sklearn.metrics import accuracy_score, confusion_matrix, classification_report\n",
    "import torch\n",
    "\n",
    "\n",
    "# Visualisation\n",
    "import matplotlib.pyplot as plt\n",
    "#import seaborn as sns\n",
    "#import plotly.express as px\n",
    "\n",
    "# Gestion de Notebooks\n",
    "#import papermill as pm\n",
    "import ipywidgets as widgets\n",
    "\n",
    "# Utilitaires\n",
    "import joblib\n",
    "import yaml\n",
    "import pickle\n",
    "import os\n",
    "import sys\n",
    "import importlib\n",
    "\n",
    "# Importation code local\n",
    "sys.path.append('preprocessing')\n",
    "import preprocess\n",
    "import dataset\n",
    "import torchcam\n",
    "import models.GGN.ggn_model as GGN\n",
    "import models.GGN.train as train\n",
    "importlib.reload(preprocess)\n",
    "importlib.reload(GGN)\n",
    "importlib.reload(train)\n",
    "importlib.reload(dataset)\n"
   ]
  },
  {
   "cell_type": "markdown",
   "id": "44d0c9a8",
   "metadata": {},
   "source": [
    "## Chargement de la configuration du projet"
   ]
  },
  {
   "cell_type": "code",
   "execution_count": null,
   "id": "75051ae0-dd5a-4fa5-bfc1-963b87f12360",
   "metadata": {
    "ExecuteTime": {
     "end_time": "2024-11-11T11:42:37.629398Z",
     "start_time": "2024-11-11T11:42:37.581228Z"
    },
    "tags": []
   },
   "outputs": [],
   "source": [
    "# Chargement de la configuration YAML\n",
    "with open(\"config.yml\", \"r\") as file:\n",
    "    config = yaml.safe_load(file)\n",
    "    \n",
    "device = torch.device(\"cuda\" if torch.cuda.is_available() else \"cpu\")"
   ]
  },
  {
   "cell_type": "markdown",
   "id": "74fb7966",
   "metadata": {},
   "source": [
    "## Preprocessing"
   ]
  },
  {
   "cell_type": "code",
   "execution_count": null,
   "id": "2175e3f3-a415-4ddd-b5ae-6b7826e73318",
   "metadata": {
    "ExecuteTime": {
     "end_time": "2024-11-11T11:42:58.823832Z",
     "start_time": "2024-11-11T11:42:40.477590Z"
    },
    "tags": []
   },
   "outputs": [
    {
     "name": "stdout",
     "output_type": "stream",
     "text": [
      "Extracting parameters from data/raw/2023_eegpainmarkers_laval/sub-003\\eeg\\sub-003_task-audioactive_eeg.vhdr...\n",
      "Setting channel info structure...\n",
      "Reading 0 ... 490000  =      0.000 ...   490.000 secs...\n",
      "Extracting parameters from data/raw/2023_eegpainmarkers_laval/sub-003\\eeg\\sub-003_task-audiopassive_eeg.vhdr...\n",
      "Setting channel info structure...\n",
      "Reading 0 ... 490000  =      0.000 ...   490.000 secs...\n",
      "Extracting parameters from data/raw/2023_eegpainmarkers_laval/sub-003\\eeg\\sub-003_task-thermalactive_eeg.vhdr...\n",
      "Setting channel info structure...\n",
      "Reading 0 ... 500000  =      0.000 ...   500.000 secs...\n",
      "Extracting parameters from data/raw/2023_eegpainmarkers_laval/sub-003\\eeg\\sub-003_task-thermalpassive_eeg.vhdr...\n",
      "Setting channel info structure...\n",
      "Reading 0 ... 500000  =      0.000 ...   500.000 secs...\n",
      "EEG channel type selected for re-referencing\n",
      "Applying average reference.\n",
      "Applying a custom ('EEG',) reference.\n",
      "Filtering raw data in 4 contiguous segments\n",
      "Setting up band-stop filter\n",
      "\n",
      "FIR filter parameters\n",
      "---------------------\n",
      "Designing a one-pass, zero-phase, non-causal bandstop filter:\n",
      "- Windowed time-domain design (firwin) method\n",
      "- Hamming window with 0.0194 passband ripple and 53 dB stopband attenuation\n",
      "- Lower transition bandwidth: 0.50 Hz\n",
      "- Upper transition bandwidth: 0.50 Hz\n",
      "- Filter length: 6601 samples (6.601 s)\n",
      "\n"
     ]
    },
    {
     "name": "stderr",
     "output_type": "stream",
     "text": [
      "[Parallel(n_jobs=1)]: Done  17 tasks      | elapsed:    0.1s\n"
     ]
    },
    {
     "name": "stdout",
     "output_type": "stream",
     "text": [
      "Setting up band-stop filter\n",
      "\n",
      "FIR filter parameters\n",
      "---------------------\n",
      "Designing a one-pass, zero-phase, non-causal bandstop filter:\n",
      "- Windowed time-domain design (firwin) method\n",
      "- Hamming window with 0.0194 passband ripple and 53 dB stopband attenuation\n",
      "- Lower transition bandwidth: 0.50 Hz\n",
      "- Upper transition bandwidth: 0.50 Hz\n",
      "- Filter length: 6601 samples (6.601 s)\n",
      "\n"
     ]
    },
    {
     "name": "stderr",
     "output_type": "stream",
     "text": [
      "[Parallel(n_jobs=1)]: Done  17 tasks      | elapsed:    0.1s\n"
     ]
    },
    {
     "name": "stdout",
     "output_type": "stream",
     "text": [
      "Setting up band-stop filter\n",
      "\n",
      "FIR filter parameters\n",
      "---------------------\n",
      "Designing a one-pass, zero-phase, non-causal bandstop filter:\n",
      "- Windowed time-domain design (firwin) method\n",
      "- Hamming window with 0.0194 passband ripple and 53 dB stopband attenuation\n",
      "- Lower transition bandwidth: 0.50 Hz\n",
      "- Upper transition bandwidth: 0.50 Hz\n",
      "- Filter length: 6601 samples (6.601 s)\n",
      "\n"
     ]
    },
    {
     "name": "stderr",
     "output_type": "stream",
     "text": [
      "[Parallel(n_jobs=1)]: Done  17 tasks      | elapsed:    0.1s\n"
     ]
    },
    {
     "name": "stdout",
     "output_type": "stream",
     "text": [
      "Setting up band-stop filter\n",
      "\n",
      "FIR filter parameters\n",
      "---------------------\n",
      "Designing a one-pass, zero-phase, non-causal bandstop filter:\n",
      "- Windowed time-domain design (firwin) method\n",
      "- Hamming window with 0.0194 passband ripple and 53 dB stopband attenuation\n",
      "- Lower transition bandwidth: 0.50 Hz\n",
      "- Upper transition bandwidth: 0.50 Hz\n",
      "- Filter length: 6601 samples (6.601 s)\n",
      "\n"
     ]
    },
    {
     "name": "stderr",
     "output_type": "stream",
     "text": [
      "[Parallel(n_jobs=1)]: Done  17 tasks      | elapsed:    0.1s\n"
     ]
    },
    {
     "name": "stdout",
     "output_type": "stream",
     "text": [
      "Used Annotations descriptions: [np.str_('audio'), np.str_('pain')]\n",
      "Not setting metadata\n",
      "494 matching events found\n",
      "No baseline correction applied\n",
      "0 projection items activated\n",
      "Using data from preloaded Raw for 494 events and 4001 original time points ...\n",
      "0 bad epochs dropped\n"
     ]
    }
   ],
   "source": [
    "preprocess.preprocess_data(config)"
   ]
  },
  {
   "cell_type": "markdown",
   "id": "51c37280",
   "metadata": {},
   "source": [
    "## Model Training"
   ]
  },
  {
   "cell_type": "code",
   "execution_count": null,
   "id": "dcf7aa33",
   "metadata": {},
   "outputs": [],
   "source": [
    "running_model = config['project_config']['running_model']\n",
    "\n",
    "subjects_id = config['data']['subjects']\n",
    "\n",
    "bids_root = config['data']['path']\n",
    "\n",
    "\n",
    "test_losses = []\n",
    "accuracies = []\n",
    "recalls = []\n",
    "precisions = []\n",
    "f1_scores = []\n",
    "auc_rocs = []\n",
    "\n",
    "if not subjects_id:\n",
    "        subjects_id = [\n",
    "            d for d in os.listdir(bids_root)\n",
    "            if os.path.isdir(os.path.join(bids_root, d)) and d.startswith(\"sub-\")\n",
    "        ]\n",
    "        print(f\"Aucun ID de sujet spécifié. Tous les sujets détectés : {subjects_id}\")\n",
    "\n",
    "for subject in subjects_id:\n",
    "\n",
    "    if running_model == \"GGN\":\n",
    "        train_loader, val_loader, test_loader = dataset.create_dataloader([subject], config, use_topology=True)\n",
    "\n",
    "        model = GGN.GGN(**config['models']['GGN']['parameters'])\n",
    "        \n",
    "        criterion = torch.nn.CrossEntropyLoss()\n",
    "        optimizer = torch.optim.Adam(model.parameters(), lr=0.001)\n",
    "        num_epochs = 10\n",
    "\n",
    "        # Train and validate the model\n",
    "        train.train(model, train_loader, val_loader, criterion, optimizer, num_epochs, device)\n",
    "\n",
    "        # Test the model\n",
    "        avg_test_loss, accuracy, recall, precision, f1, auc_roc = train.test(model, test_loader, criterion, device)\n",
    "        test_losses.append(avg_test_loss)\n",
    "        accuracies.append(accuracy)\n",
    "        recalls.append(recall)\n",
    "        precisions.append(precision)\n",
    "        f1_scores.append(f1)\n",
    "        auc_rocs.append(auc_roc)\n",
    "        \n",
    "        model.explain_temporal_cnn(test_loader, device)\n",
    "        \n",
    "\n",
    "    elif running_model == \"SVM\":\n",
    "        print('go svm!')\n",
    "        train_loader, val_loader, test_loader = dataset.create_dataloader([subject], config, use_topology=False)\n",
    "\n",
    "        # Convert data loaders to numpy arrays\n",
    "        X_train, y_train = preprocess.dataloader_to_numpy(train_loader)\n",
    "        X_val, y_val = preprocess.dataloader_to_numpy(val_loader)\n",
    "        X_test, y_test = preprocess.dataloader_to_numpy(test_loader)\n",
    "        \n",
    "        print(f\"X_train: {X_train.shape}, y_train: {y_train.shape}\")\n",
    "        print(f\"X_val: {X_val.shape}, y_val: {y_val.shape}\")\n",
    "        print(f\"X_test: {X_test.shape}, y_test: {y_test.shape}\")\n",
    "\n",
    "        # Reshape data\n",
    "        X_train = X_train.reshape(X_train.shape[0], -1)\n",
    "        X_val = X_val.reshape(X_val.shape[0], -1)\n",
    "        X_test = X_test.reshape(X_test.shape[0], -1)\n",
    "\n",
    "        # Train the SVM\n",
    "        svm_params = config['models']['SVM']['parameters']\n",
    "        svm = SVC(**svm_params)\n",
    "        svm.fit(X_train, y_train)\n",
    "\n",
    "        # Evaluate on validation set\n",
    "        y_val_pred = svm.predict(X_val)\n",
    "        val_acc = accuracy_score(y_val, y_val_pred)\n",
    "\n",
    "        # Test the model\n",
    "        y_test_pred = svm.predict(X_test)\n",
    "        test_acc = accuracy_score(y_test, y_test_pred)\n",
    "        accuracies.append(test_acc)\n",
    "\n",
    "# Calculate mean test accuracy across all subjects\n",
    "mean_test_loss = np.mean(test_losses)\n",
    "mean_accuracy = np.mean(accuracies)\n",
    "mean_recall = np.mean(recalls)\n",
    "mean_precision = np.mean(precisions)\n",
    "mean_f1 = np.mean(f1_scores)\n",
    "mean_auc_roc = np.mean(auc_rocs)\n",
    "\n",
    "print(f\"Mean Test Loss across all subjects: {mean_test_loss:.4f}\")\n",
    "print(f\"Mean Test Accuracy across all subjects: {mean_accuracy:.2f}%\")\n",
    "print(f\"Mean Recall (Sensitivity) across all subjects: {mean_recall:.2f}\")\n",
    "print(f\"Mean Precision across all subjects: {mean_precision:.2f}\")\n",
    "print(f\"Mean F1 Score across all subjects: {mean_f1:.2f}\")\n",
    "print(f\"Mean AUC-ROC across all subjects: {mean_auc_roc:.2f}\")\n"
   ]
  },
  {
   "cell_type": "code",
   "execution_count": 8,
   "id": "be367d24-273f-42d8-8bbf-088a5b6788d8",
   "metadata": {
    "ExecuteTime": {
     "end_time": "2024-11-11T11:43:50.459941Z",
     "start_time": "2024-11-11T11:43:49.526313Z"
    }
   },
   "outputs": [
    {
     "ename": "ModuleNotFoundError",
     "evalue": "No module named 'connectivity_graph_generator'",
     "output_type": "error",
     "traceback": [
      "\u001b[1;31m---------------------------------------------------------------------------\u001b[0m",
      "\u001b[1;31mModuleNotFoundError\u001b[0m                       Traceback (most recent call last)",
      "Cell \u001b[1;32mIn[8], line 1\u001b[0m\n\u001b[1;32m----> 1\u001b[0m \u001b[38;5;28;01mimport\u001b[39;00m \u001b[38;5;21;01mmodels\u001b[39;00m\u001b[38;5;21;01m.\u001b[39;00m\u001b[38;5;21;01mGGN\u001b[39;00m\u001b[38;5;21;01m.\u001b[39;00m\u001b[38;5;21;01mggn_model\u001b[39;00m \u001b[38;5;28;01mas\u001b[39;00m \u001b[38;5;21;01mGGN\u001b[39;00m\n\u001b[0;32m      2\u001b[0m \u001b[38;5;28;01mimport\u001b[39;00m \u001b[38;5;21;01mtrain\u001b[39;00m\n\u001b[0;32m      3\u001b[0m \u001b[38;5;66;03m### 1. Choisir le modèle\u001b[39;00m\n",
      "File \u001b[1;32mF:\\Université Laval\\Université Laval A-2024\\ext-ift4030-eq08\\models\\GGN\\ggn_model.py:2\u001b[0m\n\u001b[0;32m      1\u001b[0m \u001b[38;5;28;01mfrom\u001b[39;00m \u001b[38;5;21;01mtorch\u001b[39;00m \u001b[38;5;28;01mimport\u001b[39;00m nn\n\u001b[1;32m----> 2\u001b[0m \u001b[38;5;28;01mfrom\u001b[39;00m \u001b[38;5;21;01mconnectivity_graph_generator\u001b[39;00m \u001b[38;5;28;01mimport\u001b[39;00m ConnectivityGraphGenerator\n\u001b[0;32m      4\u001b[0m \u001b[38;5;28;01mclass\u001b[39;00m \u001b[38;5;21;01mGGN\u001b[39;00m(nn\u001b[38;5;241m.\u001b[39mModule):\n\u001b[0;32m      5\u001b[0m     \u001b[38;5;28;01mdef\u001b[39;00m \u001b[38;5;21m__init__\u001b[39m(\u001b[38;5;28mself\u001b[39m, in_channels, hidden_channels, out_channels, num_nodes):\n",
      "\u001b[1;31mModuleNotFoundError\u001b[0m: No module named 'connectivity_graph_generator'"
     ]
    }
   ],
   "source": [
    "import models.GGN.ggn_model as GGN\n",
    "import train\n",
    "### 1. Choisir le modèle\n",
    "in_channels = 64\n",
    "hidden_channels = 128\n",
    "out_channels = 2\n",
    "num_nodes = 32\n",
    "\n",
    "model = GGN.GGN(in_channels, hidden_channels, out_channels, num_nodes)\n",
    "\n",
    "### 2. Configurer le modèle\n",
    "\n",
    "### 3. Entraîner le modèle\n",
    "device = torch.device(\"cuda\" if torch.cuda.is_available() else \"cpu\")\n",
    "train.train(train_loader, val_loader, device)\n",
    "### 4. Enregistrer le modèle dans /models/trained"
   ]
  },
  {
   "cell_type": "code",
   "execution_count": null,
   "id": "cb67c01f-2825-4744-9e30-8ec5a739a722",
   "metadata": {},
   "outputs": [],
   "source": [
    "# Model evaluation"
   ]
  },
  {
   "cell_type": "code",
   "execution_count": null,
   "id": "3055d7df-59f8-49ef-b19d-04a14cead3cf",
   "metadata": {},
   "outputs": [],
   "source": []
  },
  {
   "cell_type": "code",
   "execution_count": null,
   "id": "77895209-5b36-4c1b-8e20-90c0add45d44",
   "metadata": {},
   "outputs": [],
   "source": [
    "# Comparison and analysis"
   ]
  },
  {
   "cell_type": "code",
   "execution_count": null,
   "id": "9910b0f1-4c8f-4456-bccc-238055de93fa",
   "metadata": {},
   "outputs": [],
   "source": []
  }
 ],
 "metadata": {
  "kernelspec": {
   "display_name": "Python 3.11",
   "language": "python",
   "name": "python3"
  },
  "language_info": {
   "codemirror_mode": {
    "name": "ipython",
    "version": 3
   },
   "file_extension": ".py",
   "mimetype": "text/x-python",
   "name": "python",
   "nbconvert_exporter": "python",
   "pygments_lexer": "ipython3",
   "version": "3.11.2"
  }
 },
 "nbformat": 4,
 "nbformat_minor": 5
}
